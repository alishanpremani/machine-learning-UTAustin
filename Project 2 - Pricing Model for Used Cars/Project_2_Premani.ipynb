{
  "nbformat": 4,
  "nbformat_minor": 0,
  "metadata": {
    "colab": {
      "provenance": [],
      "collapsed_sections": []
    },
    "kernelspec": {
      "name": "python3",
      "display_name": "Python 3"
    },
    "language_info": {
      "name": "python"
    }
  },
  "cells": [
    {
      "cell_type": "markdown",
      "source": [
        "#Description\n",
        "\n",
        "There is a huge demand for used cars in the Indian Market today. As sales of new cars have slowed down in the recent past, the pre-owned car market has continued to grow over the past years and is larger than the new car market now. Cars4U is a budding tech start-up that aims to find footholes in this market.\n",
        "\n",
        "In 2018-19, while new car sales were recorded at 3.6 million units, around 4 million second-hand cars were bought and sold. There is a slowdown in new car sales and that could mean that the demand is shifting towards the pre-owned market. In fact, some car sellers replace their old cars with pre-owned cars instead of buying new ones. Unlike new cars, where price and supply are fairly deterministic and managed by OEMs (Original Equipment Manufacturer / except for dealership level discounts which come into play only in the last stage of the customer journey), used cars are very different beasts with huge uncertainty in both pricing and supply. Keeping this in mind, the pricing scheme of these used cars becomes important in order to grow in the market.\n",
        "\n",
        "As a senior data scientist at Cars4U, you have to come up with a pricing model that can effectively predict the price of used cars and can help the business in devising profitable strategies using differential pricing. For example, if the business knows the market price, it will never sell anything below it.\n",
        "\n",
        "##Objective\n",
        "To explore and visualize the dataset, build a linear regression model to predict the prices of used cars, and generate a set of insights and recommendations that will help the business.\n",
        "\n",
        "##Data Description\n",
        "The data contains the different attributes of used cars sold in different locations. The detailed data dictionary is given below.\n",
        "\n",
        "##Data Dictionary\n",
        "S.No.: Serial number\n",
        "\n",
        "Name: Name of the car which includes brand name and model name\n",
        "\n",
        "Location: Location in which the car is being sold or is available for purchase (cities)\n",
        "\n",
        "Year: Manufacturing year of the car\n",
        "\n",
        "Kilometers_driven: The total kilometers driven in the car by the previous owner(s) in km\n",
        "\n",
        "Fuel_Type: The type of fuel used by the car (Petrol, Diesel, Electric, CNG, LPG)\n",
        "\n",
        "Transmission: The type of transmission used by the car (Automatic/Manual)\n",
        "\n",
        "Owner: Type of ownership\n",
        "\n",
        "Mileage: The standard mileage offered by the car company in kmpl or km/kg\n",
        "\n",
        "Engine: The displacement volume of the engine in CC\n",
        "\n",
        "Power: The maximum power of the engine in bhp\n",
        "\n",
        "Seats: The number of seats in the car\n",
        "\n",
        "New_Price: The price of a new car of the same model in INR Lakhs (1 Lakh INR = 100,000 INR)\n",
        "\n",
        "Price: The price of the used car in INR Lakhs\n",
        "\n",
        "--------------------------------------------\n",
        "\n",
        "###Author: Alishan Premani\n",
        "###Date:   08/29/2022\n"
      ],
      "metadata": {
        "id": "rRj17LaZplUA"
      }
    },
    {
      "cell_type": "code",
      "source": [
        "%%shell \n",
        "jupyter nbconvert --to html ///content/Project_2_Premani.ipynb"
      ],
      "metadata": {
        "colab": {
          "base_uri": "https://localhost:8080/"
        },
        "id": "TB4KePW-IWJw",
        "outputId": "4bbbbc4d-5598-4911-bed3-906b38c5feed"
      },
      "execution_count": 578,
      "outputs": [
        {
          "output_type": "stream",
          "name": "stdout",
          "text": [
            "[NbConvertApp] Converting notebook ///content/Project_2_Premani.ipynb to html\n",
            "[NbConvertApp] Writing 1049152 bytes to ///content/Project_2_Premani.html\n"
          ]
        },
        {
          "output_type": "execute_result",
          "data": {
            "text/plain": []
          },
          "metadata": {},
          "execution_count": 578
        }
      ]
    },
    {
      "cell_type": "code",
      "execution_count": 163,
      "metadata": {
        "id": "GO5aBqLencYL",
        "colab": {
          "base_uri": "https://localhost:8080/"
        },
        "outputId": "354c8884-c70a-4e41-e231-700ebcfed16c"
      },
      "outputs": [
        {
          "output_type": "stream",
          "name": "stdout",
          "text": [
            "Drive already mounted at /content/gdrive; to attempt to forcibly remount, call drive.mount(\"/content/gdrive\", force_remount=True).\n"
          ]
        }
      ],
      "source": [
        "from google.colab import drive\n",
        "drive.mount('/content/gdrive')"
      ]
    },
    {
      "cell_type": "code",
      "source": [
        "# import necessary packages\n",
        "import numpy as np\n",
        "import pandas as pd\n",
        "import matplotlib.pyplot as plt\n",
        "import seaborn as sns\n",
        "%matplotlib inline\n",
        "sns.set()\n",
        "\n",
        "# Removes limit for number of displayed columns\n",
        "pd.set_option(\"display.max_columns\", None)\n",
        "# Sets limit for number of displayed rows\n",
        "pd.set_option(\"display.max_rows\", 50)\n",
        "\n",
        "# for splitting data into train and test\n",
        "from sklearn.model_selection import train_test_split\n",
        "\n",
        "# for building linear regression model\n",
        "from sklearn.linear_model import LinearRegression\n",
        "\n",
        "# for checking performance of model\n",
        "from sklearn.metrics import mean_absolute_error, mean_squared_error, r2_score"
      ],
      "metadata": {
        "id": "9NqcP8FopKRB"
      },
      "execution_count": 298,
      "outputs": []
    },
    {
      "cell_type": "code",
      "source": [
        "# read in file into data frame\n",
        "df = pd.read_csv('/content/gdrive/My Drive/Colab Notebooks/used_cars_data.csv')\n",
        "print(f\"There are {df.shape[0]} rows and {df.shape[1]} columns.\")\n",
        "\n",
        "np.random.seed(1)\n",
        "df.sample(n=10)"
      ],
      "metadata": {
        "id": "rxJnpAL7pQ8R",
        "colab": {
          "base_uri": "https://localhost:8080/",
          "height": 962
        },
        "outputId": "de48aaf2-dc23-4cb6-cd65-cc9c259cf0a6"
      },
      "execution_count": 484,
      "outputs": [
        {
          "output_type": "stream",
          "name": "stdout",
          "text": [
            "There are 7253 rows and 14 columns.\n"
          ]
        },
        {
          "output_type": "execute_result",
          "data": {
            "text/plain": [
              "      S.No.                                       Name    Location  Year  \\\n",
              "2397   2397             Ford EcoSport 1.5 Petrol Trend     Kolkata  2016   \n",
              "3777   3777                     Maruti Wagon R VXI 1.2       Kochi  2015   \n",
              "4425   4425                     Ford Endeavour 4x2 XLT   Hyderabad  2007   \n",
              "3661   3661  Mercedes-Benz E-Class E250 CDI Avantgrade  Coimbatore  2016   \n",
              "4514   4514       Hyundai Xcent 1.2 Kappa AT SX Option       Kochi  2016   \n",
              "599     599             Toyota Innova Crysta 2.8 ZX AT  Coimbatore  2019   \n",
              "186     186  Mercedes-Benz E-Class E250 CDI Avantgrade   Bangalore  2014   \n",
              "305     305     Audi A6 2011-2015 2.0 TDI Premium Plus       Kochi  2014   \n",
              "4582   4582                      Hyundai i20 1.2 Magna     Kolkata  2011   \n",
              "5434   5434           Honda WR-V Edge Edition i-VTEC S       Kochi  2019   \n",
              "\n",
              "      Kilometers_Driven Fuel_Type Transmission Owner_Type     Mileage  \\\n",
              "2397              21460    Petrol       Manual      First   17.0 kmpl   \n",
              "3777              49818    Petrol       Manual      First   21.5 kmpl   \n",
              "4425             130000    Diesel       Manual      First   13.1 kmpl   \n",
              "3661              39753    Diesel    Automatic      First   13.0 kmpl   \n",
              "4514              45560    Petrol    Automatic      First   16.9 kmpl   \n",
              "599               40674    Diesel    Automatic      First  11.36 kmpl   \n",
              "186               37382    Diesel    Automatic      First   13.0 kmpl   \n",
              "305               61726    Diesel    Automatic      First  17.68 kmpl   \n",
              "4582              36000    Petrol       Manual      First   18.5 kmpl   \n",
              "5434              13913    Petrol       Manual      First   17.5 kmpl   \n",
              "\n",
              "       Engine       Power  Seats  New_Price  Price  \n",
              "2397  1497 CC  121.36 bhp    5.0       9.47   6.00  \n",
              "3777  1197 CC   81.80 bhp    5.0       5.44   4.11  \n",
              "4425  2499 CC     141 bhp    7.0      35.29   6.00  \n",
              "3661  2143 CC   201.1 bhp    5.0      86.97  35.28  \n",
              "4514  1197 CC      82 bhp    5.0       8.23   6.34  \n",
              "599   2755 CC   171.5 bhp    7.0      28.05  24.82  \n",
              "186   2143 CC   201.1 bhp    5.0      86.97  32.00  \n",
              "305   1968 CC  174.33 bhp    5.0      67.10  20.77  \n",
              "4582  1197 CC      80 bhp    5.0      10.25   2.50  \n",
              "5434  1199 CC    88.7 bhp    5.0       9.36   8.20  "
            ],
            "text/html": [
              "\n",
              "  <div id=\"df-55297185-11c4-42db-95e4-75b697361f77\">\n",
              "    <div class=\"colab-df-container\">\n",
              "      <div>\n",
              "<style scoped>\n",
              "    .dataframe tbody tr th:only-of-type {\n",
              "        vertical-align: middle;\n",
              "    }\n",
              "\n",
              "    .dataframe tbody tr th {\n",
              "        vertical-align: top;\n",
              "    }\n",
              "\n",
              "    .dataframe thead th {\n",
              "        text-align: right;\n",
              "    }\n",
              "</style>\n",
              "<table border=\"1\" class=\"dataframe\">\n",
              "  <thead>\n",
              "    <tr style=\"text-align: right;\">\n",
              "      <th></th>\n",
              "      <th>S.No.</th>\n",
              "      <th>Name</th>\n",
              "      <th>Location</th>\n",
              "      <th>Year</th>\n",
              "      <th>Kilometers_Driven</th>\n",
              "      <th>Fuel_Type</th>\n",
              "      <th>Transmission</th>\n",
              "      <th>Owner_Type</th>\n",
              "      <th>Mileage</th>\n",
              "      <th>Engine</th>\n",
              "      <th>Power</th>\n",
              "      <th>Seats</th>\n",
              "      <th>New_Price</th>\n",
              "      <th>Price</th>\n",
              "    </tr>\n",
              "  </thead>\n",
              "  <tbody>\n",
              "    <tr>\n",
              "      <th>2397</th>\n",
              "      <td>2397</td>\n",
              "      <td>Ford EcoSport 1.5 Petrol Trend</td>\n",
              "      <td>Kolkata</td>\n",
              "      <td>2016</td>\n",
              "      <td>21460</td>\n",
              "      <td>Petrol</td>\n",
              "      <td>Manual</td>\n",
              "      <td>First</td>\n",
              "      <td>17.0 kmpl</td>\n",
              "      <td>1497 CC</td>\n",
              "      <td>121.36 bhp</td>\n",
              "      <td>5.0</td>\n",
              "      <td>9.47</td>\n",
              "      <td>6.00</td>\n",
              "    </tr>\n",
              "    <tr>\n",
              "      <th>3777</th>\n",
              "      <td>3777</td>\n",
              "      <td>Maruti Wagon R VXI 1.2</td>\n",
              "      <td>Kochi</td>\n",
              "      <td>2015</td>\n",
              "      <td>49818</td>\n",
              "      <td>Petrol</td>\n",
              "      <td>Manual</td>\n",
              "      <td>First</td>\n",
              "      <td>21.5 kmpl</td>\n",
              "      <td>1197 CC</td>\n",
              "      <td>81.80 bhp</td>\n",
              "      <td>5.0</td>\n",
              "      <td>5.44</td>\n",
              "      <td>4.11</td>\n",
              "    </tr>\n",
              "    <tr>\n",
              "      <th>4425</th>\n",
              "      <td>4425</td>\n",
              "      <td>Ford Endeavour 4x2 XLT</td>\n",
              "      <td>Hyderabad</td>\n",
              "      <td>2007</td>\n",
              "      <td>130000</td>\n",
              "      <td>Diesel</td>\n",
              "      <td>Manual</td>\n",
              "      <td>First</td>\n",
              "      <td>13.1 kmpl</td>\n",
              "      <td>2499 CC</td>\n",
              "      <td>141 bhp</td>\n",
              "      <td>7.0</td>\n",
              "      <td>35.29</td>\n",
              "      <td>6.00</td>\n",
              "    </tr>\n",
              "    <tr>\n",
              "      <th>3661</th>\n",
              "      <td>3661</td>\n",
              "      <td>Mercedes-Benz E-Class E250 CDI Avantgrade</td>\n",
              "      <td>Coimbatore</td>\n",
              "      <td>2016</td>\n",
              "      <td>39753</td>\n",
              "      <td>Diesel</td>\n",
              "      <td>Automatic</td>\n",
              "      <td>First</td>\n",
              "      <td>13.0 kmpl</td>\n",
              "      <td>2143 CC</td>\n",
              "      <td>201.1 bhp</td>\n",
              "      <td>5.0</td>\n",
              "      <td>86.97</td>\n",
              "      <td>35.28</td>\n",
              "    </tr>\n",
              "    <tr>\n",
              "      <th>4514</th>\n",
              "      <td>4514</td>\n",
              "      <td>Hyundai Xcent 1.2 Kappa AT SX Option</td>\n",
              "      <td>Kochi</td>\n",
              "      <td>2016</td>\n",
              "      <td>45560</td>\n",
              "      <td>Petrol</td>\n",
              "      <td>Automatic</td>\n",
              "      <td>First</td>\n",
              "      <td>16.9 kmpl</td>\n",
              "      <td>1197 CC</td>\n",
              "      <td>82 bhp</td>\n",
              "      <td>5.0</td>\n",
              "      <td>8.23</td>\n",
              "      <td>6.34</td>\n",
              "    </tr>\n",
              "    <tr>\n",
              "      <th>599</th>\n",
              "      <td>599</td>\n",
              "      <td>Toyota Innova Crysta 2.8 ZX AT</td>\n",
              "      <td>Coimbatore</td>\n",
              "      <td>2019</td>\n",
              "      <td>40674</td>\n",
              "      <td>Diesel</td>\n",
              "      <td>Automatic</td>\n",
              "      <td>First</td>\n",
              "      <td>11.36 kmpl</td>\n",
              "      <td>2755 CC</td>\n",
              "      <td>171.5 bhp</td>\n",
              "      <td>7.0</td>\n",
              "      <td>28.05</td>\n",
              "      <td>24.82</td>\n",
              "    </tr>\n",
              "    <tr>\n",
              "      <th>186</th>\n",
              "      <td>186</td>\n",
              "      <td>Mercedes-Benz E-Class E250 CDI Avantgrade</td>\n",
              "      <td>Bangalore</td>\n",
              "      <td>2014</td>\n",
              "      <td>37382</td>\n",
              "      <td>Diesel</td>\n",
              "      <td>Automatic</td>\n",
              "      <td>First</td>\n",
              "      <td>13.0 kmpl</td>\n",
              "      <td>2143 CC</td>\n",
              "      <td>201.1 bhp</td>\n",
              "      <td>5.0</td>\n",
              "      <td>86.97</td>\n",
              "      <td>32.00</td>\n",
              "    </tr>\n",
              "    <tr>\n",
              "      <th>305</th>\n",
              "      <td>305</td>\n",
              "      <td>Audi A6 2011-2015 2.0 TDI Premium Plus</td>\n",
              "      <td>Kochi</td>\n",
              "      <td>2014</td>\n",
              "      <td>61726</td>\n",
              "      <td>Diesel</td>\n",
              "      <td>Automatic</td>\n",
              "      <td>First</td>\n",
              "      <td>17.68 kmpl</td>\n",
              "      <td>1968 CC</td>\n",
              "      <td>174.33 bhp</td>\n",
              "      <td>5.0</td>\n",
              "      <td>67.10</td>\n",
              "      <td>20.77</td>\n",
              "    </tr>\n",
              "    <tr>\n",
              "      <th>4582</th>\n",
              "      <td>4582</td>\n",
              "      <td>Hyundai i20 1.2 Magna</td>\n",
              "      <td>Kolkata</td>\n",
              "      <td>2011</td>\n",
              "      <td>36000</td>\n",
              "      <td>Petrol</td>\n",
              "      <td>Manual</td>\n",
              "      <td>First</td>\n",
              "      <td>18.5 kmpl</td>\n",
              "      <td>1197 CC</td>\n",
              "      <td>80 bhp</td>\n",
              "      <td>5.0</td>\n",
              "      <td>10.25</td>\n",
              "      <td>2.50</td>\n",
              "    </tr>\n",
              "    <tr>\n",
              "      <th>5434</th>\n",
              "      <td>5434</td>\n",
              "      <td>Honda WR-V Edge Edition i-VTEC S</td>\n",
              "      <td>Kochi</td>\n",
              "      <td>2019</td>\n",
              "      <td>13913</td>\n",
              "      <td>Petrol</td>\n",
              "      <td>Manual</td>\n",
              "      <td>First</td>\n",
              "      <td>17.5 kmpl</td>\n",
              "      <td>1199 CC</td>\n",
              "      <td>88.7 bhp</td>\n",
              "      <td>5.0</td>\n",
              "      <td>9.36</td>\n",
              "      <td>8.20</td>\n",
              "    </tr>\n",
              "  </tbody>\n",
              "</table>\n",
              "</div>\n",
              "      <button class=\"colab-df-convert\" onclick=\"convertToInteractive('df-55297185-11c4-42db-95e4-75b697361f77')\"\n",
              "              title=\"Convert this dataframe to an interactive table.\"\n",
              "              style=\"display:none;\">\n",
              "        \n",
              "  <svg xmlns=\"http://www.w3.org/2000/svg\" height=\"24px\"viewBox=\"0 0 24 24\"\n",
              "       width=\"24px\">\n",
              "    <path d=\"M0 0h24v24H0V0z\" fill=\"none\"/>\n",
              "    <path d=\"M18.56 5.44l.94 2.06.94-2.06 2.06-.94-2.06-.94-.94-2.06-.94 2.06-2.06.94zm-11 1L8.5 8.5l.94-2.06 2.06-.94-2.06-.94L8.5 2.5l-.94 2.06-2.06.94zm10 10l.94 2.06.94-2.06 2.06-.94-2.06-.94-.94-2.06-.94 2.06-2.06.94z\"/><path d=\"M17.41 7.96l-1.37-1.37c-.4-.4-.92-.59-1.43-.59-.52 0-1.04.2-1.43.59L10.3 9.45l-7.72 7.72c-.78.78-.78 2.05 0 2.83L4 21.41c.39.39.9.59 1.41.59.51 0 1.02-.2 1.41-.59l7.78-7.78 2.81-2.81c.8-.78.8-2.07 0-2.86zM5.41 20L4 18.59l7.72-7.72 1.47 1.35L5.41 20z\"/>\n",
              "  </svg>\n",
              "      </button>\n",
              "      \n",
              "  <style>\n",
              "    .colab-df-container {\n",
              "      display:flex;\n",
              "      flex-wrap:wrap;\n",
              "      gap: 12px;\n",
              "    }\n",
              "\n",
              "    .colab-df-convert {\n",
              "      background-color: #E8F0FE;\n",
              "      border: none;\n",
              "      border-radius: 50%;\n",
              "      cursor: pointer;\n",
              "      display: none;\n",
              "      fill: #1967D2;\n",
              "      height: 32px;\n",
              "      padding: 0 0 0 0;\n",
              "      width: 32px;\n",
              "    }\n",
              "\n",
              "    .colab-df-convert:hover {\n",
              "      background-color: #E2EBFA;\n",
              "      box-shadow: 0px 1px 2px rgba(60, 64, 67, 0.3), 0px 1px 3px 1px rgba(60, 64, 67, 0.15);\n",
              "      fill: #174EA6;\n",
              "    }\n",
              "\n",
              "    [theme=dark] .colab-df-convert {\n",
              "      background-color: #3B4455;\n",
              "      fill: #D2E3FC;\n",
              "    }\n",
              "\n",
              "    [theme=dark] .colab-df-convert:hover {\n",
              "      background-color: #434B5C;\n",
              "      box-shadow: 0px 1px 3px 1px rgba(0, 0, 0, 0.15);\n",
              "      filter: drop-shadow(0px 1px 2px rgba(0, 0, 0, 0.3));\n",
              "      fill: #FFFFFF;\n",
              "    }\n",
              "  </style>\n",
              "\n",
              "      <script>\n",
              "        const buttonEl =\n",
              "          document.querySelector('#df-55297185-11c4-42db-95e4-75b697361f77 button.colab-df-convert');\n",
              "        buttonEl.style.display =\n",
              "          google.colab.kernel.accessAllowed ? 'block' : 'none';\n",
              "\n",
              "        async function convertToInteractive(key) {\n",
              "          const element = document.querySelector('#df-55297185-11c4-42db-95e4-75b697361f77');\n",
              "          const dataTable =\n",
              "            await google.colab.kernel.invokeFunction('convertToInteractive',\n",
              "                                                     [key], {});\n",
              "          if (!dataTable) return;\n",
              "\n",
              "          const docLinkHtml = 'Like what you see? Visit the ' +\n",
              "            '<a target=\"_blank\" href=https://colab.research.google.com/notebooks/data_table.ipynb>data table notebook</a>'\n",
              "            + ' to learn more about interactive tables.';\n",
              "          element.innerHTML = '';\n",
              "          dataTable['output_type'] = 'display_data';\n",
              "          await google.colab.output.renderOutput(dataTable, element);\n",
              "          const docLink = document.createElement('div');\n",
              "          docLink.innerHTML = docLinkHtml;\n",
              "          element.appendChild(docLink);\n",
              "        }\n",
              "      </script>\n",
              "    </div>\n",
              "  </div>\n",
              "  "
            ]
          },
          "metadata": {},
          "execution_count": 484
        }
      ]
    },
    {
      "cell_type": "code",
      "source": [
        "# checking shape\n",
        "print(f\"There are {df.shape[0]} rows and {df.shape[1]} columns.\")"
      ],
      "metadata": {
        "colab": {
          "base_uri": "https://localhost:8080/"
        },
        "id": "nrevcq0DsTWT",
        "outputId": "b3239ca8-c25c-4394-db88-b12d7d3830e2"
      },
      "execution_count": 485,
      "outputs": [
        {
          "output_type": "stream",
          "name": "stdout",
          "text": [
            "There are 7253 rows and 14 columns.\n"
          ]
        }
      ]
    },
    {
      "cell_type": "markdown",
      "source": [
        "By looking at this data, we can safely drop the S. No. column, since we won't be using it. We can see that some columns that should be numeric are strings, such as Mileage, Engine and Power. We will need to convert those to numeric. "
      ],
      "metadata": {
        "id": "qgZRVC6FD-9k"
      }
    },
    {
      "cell_type": "code",
      "source": [
        "# get make of vehicle from name, making sure to strip leading and tailing white space\n",
        "df['Make'] = df['Name'].str.strip().str.split(' ').apply(lambda x: x[0])\n",
        "np.random.seed(1)\n",
        "df['Make'].sample(n=10)"
      ],
      "metadata": {
        "colab": {
          "base_uri": "https://localhost:8080/"
        },
        "id": "Z3264T14GGCg",
        "outputId": "1ced3a2b-6546-4877-c9be-be4cfa0b65a3"
      },
      "execution_count": 486,
      "outputs": [
        {
          "output_type": "execute_result",
          "data": {
            "text/plain": [
              "2397             Ford\n",
              "3777           Maruti\n",
              "4425             Ford\n",
              "3661    Mercedes-Benz\n",
              "4514          Hyundai\n",
              "599            Toyota\n",
              "186     Mercedes-Benz\n",
              "305              Audi\n",
              "4582          Hyundai\n",
              "5434            Honda\n",
              "Name: Make, dtype: object"
            ]
          },
          "metadata": {},
          "execution_count": 486
        }
      ]
    },
    {
      "cell_type": "code",
      "source": [
        "df.drop(['S.No.'], axis=1, inplace=True)"
      ],
      "metadata": {
        "id": "cX4xbB4lpcCL"
      },
      "execution_count": 487,
      "outputs": []
    },
    {
      "cell_type": "code",
      "source": [
        "# Checking for duplicate rows\n",
        "df[ df.duplicated(keep = False)]"
      ],
      "metadata": {
        "colab": {
          "base_uri": "https://localhost:8080/",
          "height": 191
        },
        "id": "TuzHo1m_q6D7",
        "outputId": "90413b45-31e0-4273-f0df-df23f94bc803"
      },
      "execution_count": 488,
      "outputs": [
        {
          "output_type": "execute_result",
          "data": {
            "text/plain": [
              "                     Name Location  Year  Kilometers_Driven Fuel_Type  \\\n",
              "6498  Honda City 1.5 E MT   Mumbai  2010              52000    Petrol   \n",
              "6582  Honda City 1.5 E MT   Mumbai  2010              52000    Petrol   \n",
              "\n",
              "     Transmission Owner_Type    Mileage   Engine    Power  Seats  New_Price  \\\n",
              "6498       Manual      First  17.0 kmpl  1497 CC  118 bhp    5.0      13.58   \n",
              "6582       Manual      First  17.0 kmpl  1497 CC  118 bhp    5.0      13.58   \n",
              "\n",
              "      Price   Make  \n",
              "6498    NaN  Honda  \n",
              "6582    NaN  Honda  "
            ],
            "text/html": [
              "\n",
              "  <div id=\"df-0ba00d74-c7d8-47bf-9511-05ade765a142\">\n",
              "    <div class=\"colab-df-container\">\n",
              "      <div>\n",
              "<style scoped>\n",
              "    .dataframe tbody tr th:only-of-type {\n",
              "        vertical-align: middle;\n",
              "    }\n",
              "\n",
              "    .dataframe tbody tr th {\n",
              "        vertical-align: top;\n",
              "    }\n",
              "\n",
              "    .dataframe thead th {\n",
              "        text-align: right;\n",
              "    }\n",
              "</style>\n",
              "<table border=\"1\" class=\"dataframe\">\n",
              "  <thead>\n",
              "    <tr style=\"text-align: right;\">\n",
              "      <th></th>\n",
              "      <th>Name</th>\n",
              "      <th>Location</th>\n",
              "      <th>Year</th>\n",
              "      <th>Kilometers_Driven</th>\n",
              "      <th>Fuel_Type</th>\n",
              "      <th>Transmission</th>\n",
              "      <th>Owner_Type</th>\n",
              "      <th>Mileage</th>\n",
              "      <th>Engine</th>\n",
              "      <th>Power</th>\n",
              "      <th>Seats</th>\n",
              "      <th>New_Price</th>\n",
              "      <th>Price</th>\n",
              "      <th>Make</th>\n",
              "    </tr>\n",
              "  </thead>\n",
              "  <tbody>\n",
              "    <tr>\n",
              "      <th>6498</th>\n",
              "      <td>Honda City 1.5 E MT</td>\n",
              "      <td>Mumbai</td>\n",
              "      <td>2010</td>\n",
              "      <td>52000</td>\n",
              "      <td>Petrol</td>\n",
              "      <td>Manual</td>\n",
              "      <td>First</td>\n",
              "      <td>17.0 kmpl</td>\n",
              "      <td>1497 CC</td>\n",
              "      <td>118 bhp</td>\n",
              "      <td>5.0</td>\n",
              "      <td>13.58</td>\n",
              "      <td>NaN</td>\n",
              "      <td>Honda</td>\n",
              "    </tr>\n",
              "    <tr>\n",
              "      <th>6582</th>\n",
              "      <td>Honda City 1.5 E MT</td>\n",
              "      <td>Mumbai</td>\n",
              "      <td>2010</td>\n",
              "      <td>52000</td>\n",
              "      <td>Petrol</td>\n",
              "      <td>Manual</td>\n",
              "      <td>First</td>\n",
              "      <td>17.0 kmpl</td>\n",
              "      <td>1497 CC</td>\n",
              "      <td>118 bhp</td>\n",
              "      <td>5.0</td>\n",
              "      <td>13.58</td>\n",
              "      <td>NaN</td>\n",
              "      <td>Honda</td>\n",
              "    </tr>\n",
              "  </tbody>\n",
              "</table>\n",
              "</div>\n",
              "      <button class=\"colab-df-convert\" onclick=\"convertToInteractive('df-0ba00d74-c7d8-47bf-9511-05ade765a142')\"\n",
              "              title=\"Convert this dataframe to an interactive table.\"\n",
              "              style=\"display:none;\">\n",
              "        \n",
              "  <svg xmlns=\"http://www.w3.org/2000/svg\" height=\"24px\"viewBox=\"0 0 24 24\"\n",
              "       width=\"24px\">\n",
              "    <path d=\"M0 0h24v24H0V0z\" fill=\"none\"/>\n",
              "    <path d=\"M18.56 5.44l.94 2.06.94-2.06 2.06-.94-2.06-.94-.94-2.06-.94 2.06-2.06.94zm-11 1L8.5 8.5l.94-2.06 2.06-.94-2.06-.94L8.5 2.5l-.94 2.06-2.06.94zm10 10l.94 2.06.94-2.06 2.06-.94-2.06-.94-.94-2.06-.94 2.06-2.06.94z\"/><path d=\"M17.41 7.96l-1.37-1.37c-.4-.4-.92-.59-1.43-.59-.52 0-1.04.2-1.43.59L10.3 9.45l-7.72 7.72c-.78.78-.78 2.05 0 2.83L4 21.41c.39.39.9.59 1.41.59.51 0 1.02-.2 1.41-.59l7.78-7.78 2.81-2.81c.8-.78.8-2.07 0-2.86zM5.41 20L4 18.59l7.72-7.72 1.47 1.35L5.41 20z\"/>\n",
              "  </svg>\n",
              "      </button>\n",
              "      \n",
              "  <style>\n",
              "    .colab-df-container {\n",
              "      display:flex;\n",
              "      flex-wrap:wrap;\n",
              "      gap: 12px;\n",
              "    }\n",
              "\n",
              "    .colab-df-convert {\n",
              "      background-color: #E8F0FE;\n",
              "      border: none;\n",
              "      border-radius: 50%;\n",
              "      cursor: pointer;\n",
              "      display: none;\n",
              "      fill: #1967D2;\n",
              "      height: 32px;\n",
              "      padding: 0 0 0 0;\n",
              "      width: 32px;\n",
              "    }\n",
              "\n",
              "    .colab-df-convert:hover {\n",
              "      background-color: #E2EBFA;\n",
              "      box-shadow: 0px 1px 2px rgba(60, 64, 67, 0.3), 0px 1px 3px 1px rgba(60, 64, 67, 0.15);\n",
              "      fill: #174EA6;\n",
              "    }\n",
              "\n",
              "    [theme=dark] .colab-df-convert {\n",
              "      background-color: #3B4455;\n",
              "      fill: #D2E3FC;\n",
              "    }\n",
              "\n",
              "    [theme=dark] .colab-df-convert:hover {\n",
              "      background-color: #434B5C;\n",
              "      box-shadow: 0px 1px 3px 1px rgba(0, 0, 0, 0.15);\n",
              "      filter: drop-shadow(0px 1px 2px rgba(0, 0, 0, 0.3));\n",
              "      fill: #FFFFFF;\n",
              "    }\n",
              "  </style>\n",
              "\n",
              "      <script>\n",
              "        const buttonEl =\n",
              "          document.querySelector('#df-0ba00d74-c7d8-47bf-9511-05ade765a142 button.colab-df-convert');\n",
              "        buttonEl.style.display =\n",
              "          google.colab.kernel.accessAllowed ? 'block' : 'none';\n",
              "\n",
              "        async function convertToInteractive(key) {\n",
              "          const element = document.querySelector('#df-0ba00d74-c7d8-47bf-9511-05ade765a142');\n",
              "          const dataTable =\n",
              "            await google.colab.kernel.invokeFunction('convertToInteractive',\n",
              "                                                     [key], {});\n",
              "          if (!dataTable) return;\n",
              "\n",
              "          const docLinkHtml = 'Like what you see? Visit the ' +\n",
              "            '<a target=\"_blank\" href=https://colab.research.google.com/notebooks/data_table.ipynb>data table notebook</a>'\n",
              "            + ' to learn more about interactive tables.';\n",
              "          element.innerHTML = '';\n",
              "          dataTable['output_type'] = 'display_data';\n",
              "          await google.colab.output.renderOutput(dataTable, element);\n",
              "          const docLink = document.createElement('div');\n",
              "          docLink.innerHTML = docLinkHtml;\n",
              "          element.appendChild(docLink);\n",
              "        }\n",
              "      </script>\n",
              "    </div>\n",
              "  </div>\n",
              "  "
            ]
          },
          "metadata": {},
          "execution_count": 488
        }
      ]
    },
    {
      "cell_type": "code",
      "source": [
        "# We drop one of these rows\n",
        "df.drop( index= 6582, axis=1, inplace=True)\n",
        "\n",
        "# Exploratory Data Analysis\n",
        "df.info()"
      ],
      "metadata": {
        "colab": {
          "base_uri": "https://localhost:8080/"
        },
        "id": "iSNRZk8DrYod",
        "outputId": "9c5b0e71-4078-4b31-9a1a-0713d2a8c826"
      },
      "execution_count": 489,
      "outputs": [
        {
          "output_type": "stream",
          "name": "stdout",
          "text": [
            "<class 'pandas.core.frame.DataFrame'>\n",
            "Int64Index: 7252 entries, 0 to 7252\n",
            "Data columns (total 14 columns):\n",
            " #   Column             Non-Null Count  Dtype  \n",
            "---  ------             --------------  -----  \n",
            " 0   Name               7252 non-null   object \n",
            " 1   Location           7252 non-null   object \n",
            " 2   Year               7252 non-null   int64  \n",
            " 3   Kilometers_Driven  7252 non-null   int64  \n",
            " 4   Fuel_Type          7252 non-null   object \n",
            " 5   Transmission       7252 non-null   object \n",
            " 6   Owner_Type         7252 non-null   object \n",
            " 7   Mileage            7250 non-null   object \n",
            " 8   Engine             7206 non-null   object \n",
            " 9   Power              7077 non-null   object \n",
            " 10  Seats              7199 non-null   float64\n",
            " 11  New_Price          7252 non-null   float64\n",
            " 12  Price              6019 non-null   float64\n",
            " 13  Make               7252 non-null   object \n",
            "dtypes: float64(3), int64(2), object(9)\n",
            "memory usage: 849.8+ KB\n"
          ]
        }
      ]
    },
    {
      "cell_type": "markdown",
      "source": [
        "Out of 7252 entries, we can see that some columns have missing information. \n",
        "\n",
        "We can drop NaN values in the used price 'price' column since that is our target column. "
      ],
      "metadata": {
        "id": "NW6xdoKVqS-l"
      }
    },
    {
      "cell_type": "code",
      "source": [
        "df.dropna(subset=['Price'], inplace=True)"
      ],
      "metadata": {
        "id": "Nzz8AWJJwC90"
      },
      "execution_count": 490,
      "outputs": []
    },
    {
      "cell_type": "code",
      "source": [
        "# reset the index\n",
        "df.reset_index(inplace=True, drop=True)"
      ],
      "metadata": {
        "id": "eY2mql9lwYqI"
      },
      "execution_count": 491,
      "outputs": []
    },
    {
      "cell_type": "code",
      "source": [
        "# Which columns have most missing values\n",
        "df.isnull().sum().sort_values(ascending=False)"
      ],
      "metadata": {
        "colab": {
          "base_uri": "https://localhost:8080/"
        },
        "id": "0jCYvypAqfXQ",
        "outputId": "db5f01b9-7cd2-4da9-ecaa-55e53fc67218"
      },
      "execution_count": 492,
      "outputs": [
        {
          "output_type": "execute_result",
          "data": {
            "text/plain": [
              "Power                143\n",
              "Seats                 42\n",
              "Engine                36\n",
              "Mileage                2\n",
              "Name                   0\n",
              "Location               0\n",
              "Year                   0\n",
              "Kilometers_Driven      0\n",
              "Fuel_Type              0\n",
              "Transmission           0\n",
              "Owner_Type             0\n",
              "New_Price              0\n",
              "Price                  0\n",
              "Make                   0\n",
              "dtype: int64"
            ]
          },
          "metadata": {},
          "execution_count": 492
        }
      ]
    },
    {
      "cell_type": "markdown",
      "source": [
        "Power has the most missing entries. I would like to get a better understanding of what missing values look like in all these columns, and if there is a pattern to them. "
      ],
      "metadata": {
        "id": "E2SRyS4dq882"
      }
    },
    {
      "cell_type": "code",
      "source": [
        "df[df.Mileage.isnull()]"
      ],
      "metadata": {
        "colab": {
          "base_uri": "https://localhost:8080/",
          "height": 243
        },
        "id": "e-rxJ4a2Rg1v",
        "outputId": "543982c1-c998-464c-b738-1071fa104bb1"
      },
      "execution_count": 493,
      "outputs": [
        {
          "output_type": "execute_result",
          "data": {
            "text/plain": [
              "                           Name Location  Year  Kilometers_Driven Fuel_Type  \\\n",
              "4446       Mahindra E Verito D4  Chennai  2016              50000  Electric   \n",
              "4904  Toyota Prius 2009-2016 Z4   Mumbai  2011              44000  Electric   \n",
              "\n",
              "     Transmission Owner_Type Mileage   Engine   Power  Seats  New_Price  \\\n",
              "4446    Automatic      First     NaN    72 CC  41 bhp    5.0      13.58   \n",
              "4904    Automatic      First     NaN  1798 CC  73 bhp    5.0      24.01   \n",
              "\n",
              "      Price      Make  \n",
              "4446  13.00  Mahindra  \n",
              "4904  12.75    Toyota  "
            ],
            "text/html": [
              "\n",
              "  <div id=\"df-5418d8e3-ebff-4ffd-929e-778f51217b58\">\n",
              "    <div class=\"colab-df-container\">\n",
              "      <div>\n",
              "<style scoped>\n",
              "    .dataframe tbody tr th:only-of-type {\n",
              "        vertical-align: middle;\n",
              "    }\n",
              "\n",
              "    .dataframe tbody tr th {\n",
              "        vertical-align: top;\n",
              "    }\n",
              "\n",
              "    .dataframe thead th {\n",
              "        text-align: right;\n",
              "    }\n",
              "</style>\n",
              "<table border=\"1\" class=\"dataframe\">\n",
              "  <thead>\n",
              "    <tr style=\"text-align: right;\">\n",
              "      <th></th>\n",
              "      <th>Name</th>\n",
              "      <th>Location</th>\n",
              "      <th>Year</th>\n",
              "      <th>Kilometers_Driven</th>\n",
              "      <th>Fuel_Type</th>\n",
              "      <th>Transmission</th>\n",
              "      <th>Owner_Type</th>\n",
              "      <th>Mileage</th>\n",
              "      <th>Engine</th>\n",
              "      <th>Power</th>\n",
              "      <th>Seats</th>\n",
              "      <th>New_Price</th>\n",
              "      <th>Price</th>\n",
              "      <th>Make</th>\n",
              "    </tr>\n",
              "  </thead>\n",
              "  <tbody>\n",
              "    <tr>\n",
              "      <th>4446</th>\n",
              "      <td>Mahindra E Verito D4</td>\n",
              "      <td>Chennai</td>\n",
              "      <td>2016</td>\n",
              "      <td>50000</td>\n",
              "      <td>Electric</td>\n",
              "      <td>Automatic</td>\n",
              "      <td>First</td>\n",
              "      <td>NaN</td>\n",
              "      <td>72 CC</td>\n",
              "      <td>41 bhp</td>\n",
              "      <td>5.0</td>\n",
              "      <td>13.58</td>\n",
              "      <td>13.00</td>\n",
              "      <td>Mahindra</td>\n",
              "    </tr>\n",
              "    <tr>\n",
              "      <th>4904</th>\n",
              "      <td>Toyota Prius 2009-2016 Z4</td>\n",
              "      <td>Mumbai</td>\n",
              "      <td>2011</td>\n",
              "      <td>44000</td>\n",
              "      <td>Electric</td>\n",
              "      <td>Automatic</td>\n",
              "      <td>First</td>\n",
              "      <td>NaN</td>\n",
              "      <td>1798 CC</td>\n",
              "      <td>73 bhp</td>\n",
              "      <td>5.0</td>\n",
              "      <td>24.01</td>\n",
              "      <td>12.75</td>\n",
              "      <td>Toyota</td>\n",
              "    </tr>\n",
              "  </tbody>\n",
              "</table>\n",
              "</div>\n",
              "      <button class=\"colab-df-convert\" onclick=\"convertToInteractive('df-5418d8e3-ebff-4ffd-929e-778f51217b58')\"\n",
              "              title=\"Convert this dataframe to an interactive table.\"\n",
              "              style=\"display:none;\">\n",
              "        \n",
              "  <svg xmlns=\"http://www.w3.org/2000/svg\" height=\"24px\"viewBox=\"0 0 24 24\"\n",
              "       width=\"24px\">\n",
              "    <path d=\"M0 0h24v24H0V0z\" fill=\"none\"/>\n",
              "    <path d=\"M18.56 5.44l.94 2.06.94-2.06 2.06-.94-2.06-.94-.94-2.06-.94 2.06-2.06.94zm-11 1L8.5 8.5l.94-2.06 2.06-.94-2.06-.94L8.5 2.5l-.94 2.06-2.06.94zm10 10l.94 2.06.94-2.06 2.06-.94-2.06-.94-.94-2.06-.94 2.06-2.06.94z\"/><path d=\"M17.41 7.96l-1.37-1.37c-.4-.4-.92-.59-1.43-.59-.52 0-1.04.2-1.43.59L10.3 9.45l-7.72 7.72c-.78.78-.78 2.05 0 2.83L4 21.41c.39.39.9.59 1.41.59.51 0 1.02-.2 1.41-.59l7.78-7.78 2.81-2.81c.8-.78.8-2.07 0-2.86zM5.41 20L4 18.59l7.72-7.72 1.47 1.35L5.41 20z\"/>\n",
              "  </svg>\n",
              "      </button>\n",
              "      \n",
              "  <style>\n",
              "    .colab-df-container {\n",
              "      display:flex;\n",
              "      flex-wrap:wrap;\n",
              "      gap: 12px;\n",
              "    }\n",
              "\n",
              "    .colab-df-convert {\n",
              "      background-color: #E8F0FE;\n",
              "      border: none;\n",
              "      border-radius: 50%;\n",
              "      cursor: pointer;\n",
              "      display: none;\n",
              "      fill: #1967D2;\n",
              "      height: 32px;\n",
              "      padding: 0 0 0 0;\n",
              "      width: 32px;\n",
              "    }\n",
              "\n",
              "    .colab-df-convert:hover {\n",
              "      background-color: #E2EBFA;\n",
              "      box-shadow: 0px 1px 2px rgba(60, 64, 67, 0.3), 0px 1px 3px 1px rgba(60, 64, 67, 0.15);\n",
              "      fill: #174EA6;\n",
              "    }\n",
              "\n",
              "    [theme=dark] .colab-df-convert {\n",
              "      background-color: #3B4455;\n",
              "      fill: #D2E3FC;\n",
              "    }\n",
              "\n",
              "    [theme=dark] .colab-df-convert:hover {\n",
              "      background-color: #434B5C;\n",
              "      box-shadow: 0px 1px 3px 1px rgba(0, 0, 0, 0.15);\n",
              "      filter: drop-shadow(0px 1px 2px rgba(0, 0, 0, 0.3));\n",
              "      fill: #FFFFFF;\n",
              "    }\n",
              "  </style>\n",
              "\n",
              "      <script>\n",
              "        const buttonEl =\n",
              "          document.querySelector('#df-5418d8e3-ebff-4ffd-929e-778f51217b58 button.colab-df-convert');\n",
              "        buttonEl.style.display =\n",
              "          google.colab.kernel.accessAllowed ? 'block' : 'none';\n",
              "\n",
              "        async function convertToInteractive(key) {\n",
              "          const element = document.querySelector('#df-5418d8e3-ebff-4ffd-929e-778f51217b58');\n",
              "          const dataTable =\n",
              "            await google.colab.kernel.invokeFunction('convertToInteractive',\n",
              "                                                     [key], {});\n",
              "          if (!dataTable) return;\n",
              "\n",
              "          const docLinkHtml = 'Like what you see? Visit the ' +\n",
              "            '<a target=\"_blank\" href=https://colab.research.google.com/notebooks/data_table.ipynb>data table notebook</a>'\n",
              "            + ' to learn more about interactive tables.';\n",
              "          element.innerHTML = '';\n",
              "          dataTable['output_type'] = 'display_data';\n",
              "          await google.colab.output.renderOutput(dataTable, element);\n",
              "          const docLink = document.createElement('div');\n",
              "          docLink.innerHTML = docLinkHtml;\n",
              "          element.appendChild(docLink);\n",
              "        }\n",
              "      </script>\n",
              "    </div>\n",
              "  </div>\n",
              "  "
            ]
          },
          "metadata": {},
          "execution_count": 493
        }
      ]
    },
    {
      "cell_type": "code",
      "source": [
        "df[df['Fuel_Type']=='Electric']"
      ],
      "metadata": {
        "colab": {
          "base_uri": "https://localhost:8080/",
          "height": 243
        },
        "id": "P8bNPK3vYT-t",
        "outputId": "d1f005a7-f098-4a69-9d76-f851995a4ba4"
      },
      "execution_count": 494,
      "outputs": [
        {
          "output_type": "execute_result",
          "data": {
            "text/plain": [
              "                           Name Location  Year  Kilometers_Driven Fuel_Type  \\\n",
              "4446       Mahindra E Verito D4  Chennai  2016              50000  Electric   \n",
              "4904  Toyota Prius 2009-2016 Z4   Mumbai  2011              44000  Electric   \n",
              "\n",
              "     Transmission Owner_Type Mileage   Engine   Power  Seats  New_Price  \\\n",
              "4446    Automatic      First     NaN    72 CC  41 bhp    5.0      13.58   \n",
              "4904    Automatic      First     NaN  1798 CC  73 bhp    5.0      24.01   \n",
              "\n",
              "      Price      Make  \n",
              "4446  13.00  Mahindra  \n",
              "4904  12.75    Toyota  "
            ],
            "text/html": [
              "\n",
              "  <div id=\"df-49f84688-faa6-407e-ad7d-b7c350b12763\">\n",
              "    <div class=\"colab-df-container\">\n",
              "      <div>\n",
              "<style scoped>\n",
              "    .dataframe tbody tr th:only-of-type {\n",
              "        vertical-align: middle;\n",
              "    }\n",
              "\n",
              "    .dataframe tbody tr th {\n",
              "        vertical-align: top;\n",
              "    }\n",
              "\n",
              "    .dataframe thead th {\n",
              "        text-align: right;\n",
              "    }\n",
              "</style>\n",
              "<table border=\"1\" class=\"dataframe\">\n",
              "  <thead>\n",
              "    <tr style=\"text-align: right;\">\n",
              "      <th></th>\n",
              "      <th>Name</th>\n",
              "      <th>Location</th>\n",
              "      <th>Year</th>\n",
              "      <th>Kilometers_Driven</th>\n",
              "      <th>Fuel_Type</th>\n",
              "      <th>Transmission</th>\n",
              "      <th>Owner_Type</th>\n",
              "      <th>Mileage</th>\n",
              "      <th>Engine</th>\n",
              "      <th>Power</th>\n",
              "      <th>Seats</th>\n",
              "      <th>New_Price</th>\n",
              "      <th>Price</th>\n",
              "      <th>Make</th>\n",
              "    </tr>\n",
              "  </thead>\n",
              "  <tbody>\n",
              "    <tr>\n",
              "      <th>4446</th>\n",
              "      <td>Mahindra E Verito D4</td>\n",
              "      <td>Chennai</td>\n",
              "      <td>2016</td>\n",
              "      <td>50000</td>\n",
              "      <td>Electric</td>\n",
              "      <td>Automatic</td>\n",
              "      <td>First</td>\n",
              "      <td>NaN</td>\n",
              "      <td>72 CC</td>\n",
              "      <td>41 bhp</td>\n",
              "      <td>5.0</td>\n",
              "      <td>13.58</td>\n",
              "      <td>13.00</td>\n",
              "      <td>Mahindra</td>\n",
              "    </tr>\n",
              "    <tr>\n",
              "      <th>4904</th>\n",
              "      <td>Toyota Prius 2009-2016 Z4</td>\n",
              "      <td>Mumbai</td>\n",
              "      <td>2011</td>\n",
              "      <td>44000</td>\n",
              "      <td>Electric</td>\n",
              "      <td>Automatic</td>\n",
              "      <td>First</td>\n",
              "      <td>NaN</td>\n",
              "      <td>1798 CC</td>\n",
              "      <td>73 bhp</td>\n",
              "      <td>5.0</td>\n",
              "      <td>24.01</td>\n",
              "      <td>12.75</td>\n",
              "      <td>Toyota</td>\n",
              "    </tr>\n",
              "  </tbody>\n",
              "</table>\n",
              "</div>\n",
              "      <button class=\"colab-df-convert\" onclick=\"convertToInteractive('df-49f84688-faa6-407e-ad7d-b7c350b12763')\"\n",
              "              title=\"Convert this dataframe to an interactive table.\"\n",
              "              style=\"display:none;\">\n",
              "        \n",
              "  <svg xmlns=\"http://www.w3.org/2000/svg\" height=\"24px\"viewBox=\"0 0 24 24\"\n",
              "       width=\"24px\">\n",
              "    <path d=\"M0 0h24v24H0V0z\" fill=\"none\"/>\n",
              "    <path d=\"M18.56 5.44l.94 2.06.94-2.06 2.06-.94-2.06-.94-.94-2.06-.94 2.06-2.06.94zm-11 1L8.5 8.5l.94-2.06 2.06-.94-2.06-.94L8.5 2.5l-.94 2.06-2.06.94zm10 10l.94 2.06.94-2.06 2.06-.94-2.06-.94-.94-2.06-.94 2.06-2.06.94z\"/><path d=\"M17.41 7.96l-1.37-1.37c-.4-.4-.92-.59-1.43-.59-.52 0-1.04.2-1.43.59L10.3 9.45l-7.72 7.72c-.78.78-.78 2.05 0 2.83L4 21.41c.39.39.9.59 1.41.59.51 0 1.02-.2 1.41-.59l7.78-7.78 2.81-2.81c.8-.78.8-2.07 0-2.86zM5.41 20L4 18.59l7.72-7.72 1.47 1.35L5.41 20z\"/>\n",
              "  </svg>\n",
              "      </button>\n",
              "      \n",
              "  <style>\n",
              "    .colab-df-container {\n",
              "      display:flex;\n",
              "      flex-wrap:wrap;\n",
              "      gap: 12px;\n",
              "    }\n",
              "\n",
              "    .colab-df-convert {\n",
              "      background-color: #E8F0FE;\n",
              "      border: none;\n",
              "      border-radius: 50%;\n",
              "      cursor: pointer;\n",
              "      display: none;\n",
              "      fill: #1967D2;\n",
              "      height: 32px;\n",
              "      padding: 0 0 0 0;\n",
              "      width: 32px;\n",
              "    }\n",
              "\n",
              "    .colab-df-convert:hover {\n",
              "      background-color: #E2EBFA;\n",
              "      box-shadow: 0px 1px 2px rgba(60, 64, 67, 0.3), 0px 1px 3px 1px rgba(60, 64, 67, 0.15);\n",
              "      fill: #174EA6;\n",
              "    }\n",
              "\n",
              "    [theme=dark] .colab-df-convert {\n",
              "      background-color: #3B4455;\n",
              "      fill: #D2E3FC;\n",
              "    }\n",
              "\n",
              "    [theme=dark] .colab-df-convert:hover {\n",
              "      background-color: #434B5C;\n",
              "      box-shadow: 0px 1px 3px 1px rgba(0, 0, 0, 0.15);\n",
              "      filter: drop-shadow(0px 1px 2px rgba(0, 0, 0, 0.3));\n",
              "      fill: #FFFFFF;\n",
              "    }\n",
              "  </style>\n",
              "\n",
              "      <script>\n",
              "        const buttonEl =\n",
              "          document.querySelector('#df-49f84688-faa6-407e-ad7d-b7c350b12763 button.colab-df-convert');\n",
              "        buttonEl.style.display =\n",
              "          google.colab.kernel.accessAllowed ? 'block' : 'none';\n",
              "\n",
              "        async function convertToInteractive(key) {\n",
              "          const element = document.querySelector('#df-49f84688-faa6-407e-ad7d-b7c350b12763');\n",
              "          const dataTable =\n",
              "            await google.colab.kernel.invokeFunction('convertToInteractive',\n",
              "                                                     [key], {});\n",
              "          if (!dataTable) return;\n",
              "\n",
              "          const docLinkHtml = 'Like what you see? Visit the ' +\n",
              "            '<a target=\"_blank\" href=https://colab.research.google.com/notebooks/data_table.ipynb>data table notebook</a>'\n",
              "            + ' to learn more about interactive tables.';\n",
              "          element.innerHTML = '';\n",
              "          dataTable['output_type'] = 'display_data';\n",
              "          await google.colab.output.renderOutput(dataTable, element);\n",
              "          const docLink = document.createElement('div');\n",
              "          docLink.innerHTML = docLinkHtml;\n",
              "          element.appendChild(docLink);\n",
              "        }\n",
              "      </script>\n",
              "    </div>\n",
              "  </div>\n",
              "  "
            ]
          },
          "metadata": {},
          "execution_count": 494
        }
      ]
    },
    {
      "cell_type": "markdown",
      "source": [
        "Since Electric cars don't have mileage, it is fitting that their Mileage values are NaN, which happen to be the two values that are \"missing\" as we saw above. Seems that we don't have to be concerned with these NaN values as they are appropriate."
      ],
      "metadata": {
        "id": "njtdTKIiZPpi"
      }
    },
    {
      "cell_type": "code",
      "source": [
        "df[df.Engine.isnull()].sample(n=10)"
      ],
      "metadata": {
        "colab": {
          "base_uri": "https://localhost:8080/",
          "height": 806
        },
        "id": "CbX6M-GoRgl1",
        "outputId": "2e1e05c0-e337-40e6-f099-73a26e7eebcb"
      },
      "execution_count": 495,
      "outputs": [
        {
          "output_type": "execute_result",
          "data": {
            "text/plain": [
              "                                 Name   Location  Year  Kilometers_Driven  \\\n",
              "4229           Hyundai Santro Xing XG  Bangalore  2005              79000   \n",
              "4577          BMW 5 Series 520d Sedan      Delhi  2012              72000   \n",
              "3810      Honda CR-V AT With Sun Roof    Kolkata  2013              27000   \n",
              "733              Maruti Swift 1.3 VXi    Chennai  2006              97800   \n",
              "4712           Hyundai Santro Xing XG       Pune  2003              80000   \n",
              "5185             Maruti Swift 1.3 LXI      Delhi  2012              52000   \n",
              "3522  Hyundai Santro GLS II - Euro II      Kochi  2012              66400   \n",
              "4011           Fiat Punto 1.3 Emotion       Pune  2011              45271   \n",
              "5015             Maruti Swift 1.3 VXi      Delhi  2006              63000   \n",
              "1294                Honda City 1.3 DX      Delhi  2009              55005   \n",
              "\n",
              "     Fuel_Type Transmission Owner_Type     Mileage Engine Power  Seats  \\\n",
              "4229    Petrol       Manual     Second   17.0 kmpl    NaN   NaN    NaN   \n",
              "4577    Diesel    Automatic      Third  18.48 kmpl    NaN   NaN    NaN   \n",
              "3810    Petrol    Automatic      First   14.0 kmpl    NaN   NaN    NaN   \n",
              "733     Petrol       Manual      Third   16.1 kmpl    NaN   NaN    NaN   \n",
              "4712    Petrol       Manual     Second   17.0 kmpl    NaN   NaN    NaN   \n",
              "5185    Petrol       Manual      First   16.1 kmpl    NaN   NaN    NaN   \n",
              "3522    Petrol       Manual      First    0.0 kmpl    NaN   NaN    NaN   \n",
              "4011    Diesel       Manual      First   20.3 kmpl    NaN   NaN    NaN   \n",
              "5015    Petrol       Manual      First   16.1 kmpl    NaN   NaN    NaN   \n",
              "1294    Petrol       Manual      First   12.8 kmpl    NaN   NaN    NaN   \n",
              "\n",
              "      New_Price  Price     Make  \n",
              "4229       4.55   1.65  Hyundai  \n",
              "4577      67.87  13.85      BMW  \n",
              "3810      33.51  11.99    Honda  \n",
              "733        7.88   1.75   Maruti  \n",
              "4712       4.55   0.90  Hyundai  \n",
              "5185       7.88   3.65   Maruti  \n",
              "3522       4.55   2.66  Hyundai  \n",
              "4011       8.60   2.60     Fiat  \n",
              "5015       7.88   1.60   Maruti  \n",
              "1294      13.58   3.20    Honda  "
            ],
            "text/html": [
              "\n",
              "  <div id=\"df-321946ac-ea43-4045-a55a-a641b8db4100\">\n",
              "    <div class=\"colab-df-container\">\n",
              "      <div>\n",
              "<style scoped>\n",
              "    .dataframe tbody tr th:only-of-type {\n",
              "        vertical-align: middle;\n",
              "    }\n",
              "\n",
              "    .dataframe tbody tr th {\n",
              "        vertical-align: top;\n",
              "    }\n",
              "\n",
              "    .dataframe thead th {\n",
              "        text-align: right;\n",
              "    }\n",
              "</style>\n",
              "<table border=\"1\" class=\"dataframe\">\n",
              "  <thead>\n",
              "    <tr style=\"text-align: right;\">\n",
              "      <th></th>\n",
              "      <th>Name</th>\n",
              "      <th>Location</th>\n",
              "      <th>Year</th>\n",
              "      <th>Kilometers_Driven</th>\n",
              "      <th>Fuel_Type</th>\n",
              "      <th>Transmission</th>\n",
              "      <th>Owner_Type</th>\n",
              "      <th>Mileage</th>\n",
              "      <th>Engine</th>\n",
              "      <th>Power</th>\n",
              "      <th>Seats</th>\n",
              "      <th>New_Price</th>\n",
              "      <th>Price</th>\n",
              "      <th>Make</th>\n",
              "    </tr>\n",
              "  </thead>\n",
              "  <tbody>\n",
              "    <tr>\n",
              "      <th>4229</th>\n",
              "      <td>Hyundai Santro Xing XG</td>\n",
              "      <td>Bangalore</td>\n",
              "      <td>2005</td>\n",
              "      <td>79000</td>\n",
              "      <td>Petrol</td>\n",
              "      <td>Manual</td>\n",
              "      <td>Second</td>\n",
              "      <td>17.0 kmpl</td>\n",
              "      <td>NaN</td>\n",
              "      <td>NaN</td>\n",
              "      <td>NaN</td>\n",
              "      <td>4.55</td>\n",
              "      <td>1.65</td>\n",
              "      <td>Hyundai</td>\n",
              "    </tr>\n",
              "    <tr>\n",
              "      <th>4577</th>\n",
              "      <td>BMW 5 Series 520d Sedan</td>\n",
              "      <td>Delhi</td>\n",
              "      <td>2012</td>\n",
              "      <td>72000</td>\n",
              "      <td>Diesel</td>\n",
              "      <td>Automatic</td>\n",
              "      <td>Third</td>\n",
              "      <td>18.48 kmpl</td>\n",
              "      <td>NaN</td>\n",
              "      <td>NaN</td>\n",
              "      <td>NaN</td>\n",
              "      <td>67.87</td>\n",
              "      <td>13.85</td>\n",
              "      <td>BMW</td>\n",
              "    </tr>\n",
              "    <tr>\n",
              "      <th>3810</th>\n",
              "      <td>Honda CR-V AT With Sun Roof</td>\n",
              "      <td>Kolkata</td>\n",
              "      <td>2013</td>\n",
              "      <td>27000</td>\n",
              "      <td>Petrol</td>\n",
              "      <td>Automatic</td>\n",
              "      <td>First</td>\n",
              "      <td>14.0 kmpl</td>\n",
              "      <td>NaN</td>\n",
              "      <td>NaN</td>\n",
              "      <td>NaN</td>\n",
              "      <td>33.51</td>\n",
              "      <td>11.99</td>\n",
              "      <td>Honda</td>\n",
              "    </tr>\n",
              "    <tr>\n",
              "      <th>733</th>\n",
              "      <td>Maruti Swift 1.3 VXi</td>\n",
              "      <td>Chennai</td>\n",
              "      <td>2006</td>\n",
              "      <td>97800</td>\n",
              "      <td>Petrol</td>\n",
              "      <td>Manual</td>\n",
              "      <td>Third</td>\n",
              "      <td>16.1 kmpl</td>\n",
              "      <td>NaN</td>\n",
              "      <td>NaN</td>\n",
              "      <td>NaN</td>\n",
              "      <td>7.88</td>\n",
              "      <td>1.75</td>\n",
              "      <td>Maruti</td>\n",
              "    </tr>\n",
              "    <tr>\n",
              "      <th>4712</th>\n",
              "      <td>Hyundai Santro Xing XG</td>\n",
              "      <td>Pune</td>\n",
              "      <td>2003</td>\n",
              "      <td>80000</td>\n",
              "      <td>Petrol</td>\n",
              "      <td>Manual</td>\n",
              "      <td>Second</td>\n",
              "      <td>17.0 kmpl</td>\n",
              "      <td>NaN</td>\n",
              "      <td>NaN</td>\n",
              "      <td>NaN</td>\n",
              "      <td>4.55</td>\n",
              "      <td>0.90</td>\n",
              "      <td>Hyundai</td>\n",
              "    </tr>\n",
              "    <tr>\n",
              "      <th>5185</th>\n",
              "      <td>Maruti Swift 1.3 LXI</td>\n",
              "      <td>Delhi</td>\n",
              "      <td>2012</td>\n",
              "      <td>52000</td>\n",
              "      <td>Petrol</td>\n",
              "      <td>Manual</td>\n",
              "      <td>First</td>\n",
              "      <td>16.1 kmpl</td>\n",
              "      <td>NaN</td>\n",
              "      <td>NaN</td>\n",
              "      <td>NaN</td>\n",
              "      <td>7.88</td>\n",
              "      <td>3.65</td>\n",
              "      <td>Maruti</td>\n",
              "    </tr>\n",
              "    <tr>\n",
              "      <th>3522</th>\n",
              "      <td>Hyundai Santro GLS II - Euro II</td>\n",
              "      <td>Kochi</td>\n",
              "      <td>2012</td>\n",
              "      <td>66400</td>\n",
              "      <td>Petrol</td>\n",
              "      <td>Manual</td>\n",
              "      <td>First</td>\n",
              "      <td>0.0 kmpl</td>\n",
              "      <td>NaN</td>\n",
              "      <td>NaN</td>\n",
              "      <td>NaN</td>\n",
              "      <td>4.55</td>\n",
              "      <td>2.66</td>\n",
              "      <td>Hyundai</td>\n",
              "    </tr>\n",
              "    <tr>\n",
              "      <th>4011</th>\n",
              "      <td>Fiat Punto 1.3 Emotion</td>\n",
              "      <td>Pune</td>\n",
              "      <td>2011</td>\n",
              "      <td>45271</td>\n",
              "      <td>Diesel</td>\n",
              "      <td>Manual</td>\n",
              "      <td>First</td>\n",
              "      <td>20.3 kmpl</td>\n",
              "      <td>NaN</td>\n",
              "      <td>NaN</td>\n",
              "      <td>NaN</td>\n",
              "      <td>8.60</td>\n",
              "      <td>2.60</td>\n",
              "      <td>Fiat</td>\n",
              "    </tr>\n",
              "    <tr>\n",
              "      <th>5015</th>\n",
              "      <td>Maruti Swift 1.3 VXi</td>\n",
              "      <td>Delhi</td>\n",
              "      <td>2006</td>\n",
              "      <td>63000</td>\n",
              "      <td>Petrol</td>\n",
              "      <td>Manual</td>\n",
              "      <td>First</td>\n",
              "      <td>16.1 kmpl</td>\n",
              "      <td>NaN</td>\n",
              "      <td>NaN</td>\n",
              "      <td>NaN</td>\n",
              "      <td>7.88</td>\n",
              "      <td>1.60</td>\n",
              "      <td>Maruti</td>\n",
              "    </tr>\n",
              "    <tr>\n",
              "      <th>1294</th>\n",
              "      <td>Honda City 1.3 DX</td>\n",
              "      <td>Delhi</td>\n",
              "      <td>2009</td>\n",
              "      <td>55005</td>\n",
              "      <td>Petrol</td>\n",
              "      <td>Manual</td>\n",
              "      <td>First</td>\n",
              "      <td>12.8 kmpl</td>\n",
              "      <td>NaN</td>\n",
              "      <td>NaN</td>\n",
              "      <td>NaN</td>\n",
              "      <td>13.58</td>\n",
              "      <td>3.20</td>\n",
              "      <td>Honda</td>\n",
              "    </tr>\n",
              "  </tbody>\n",
              "</table>\n",
              "</div>\n",
              "      <button class=\"colab-df-convert\" onclick=\"convertToInteractive('df-321946ac-ea43-4045-a55a-a641b8db4100')\"\n",
              "              title=\"Convert this dataframe to an interactive table.\"\n",
              "              style=\"display:none;\">\n",
              "        \n",
              "  <svg xmlns=\"http://www.w3.org/2000/svg\" height=\"24px\"viewBox=\"0 0 24 24\"\n",
              "       width=\"24px\">\n",
              "    <path d=\"M0 0h24v24H0V0z\" fill=\"none\"/>\n",
              "    <path d=\"M18.56 5.44l.94 2.06.94-2.06 2.06-.94-2.06-.94-.94-2.06-.94 2.06-2.06.94zm-11 1L8.5 8.5l.94-2.06 2.06-.94-2.06-.94L8.5 2.5l-.94 2.06-2.06.94zm10 10l.94 2.06.94-2.06 2.06-.94-2.06-.94-.94-2.06-.94 2.06-2.06.94z\"/><path d=\"M17.41 7.96l-1.37-1.37c-.4-.4-.92-.59-1.43-.59-.52 0-1.04.2-1.43.59L10.3 9.45l-7.72 7.72c-.78.78-.78 2.05 0 2.83L4 21.41c.39.39.9.59 1.41.59.51 0 1.02-.2 1.41-.59l7.78-7.78 2.81-2.81c.8-.78.8-2.07 0-2.86zM5.41 20L4 18.59l7.72-7.72 1.47 1.35L5.41 20z\"/>\n",
              "  </svg>\n",
              "      </button>\n",
              "      \n",
              "  <style>\n",
              "    .colab-df-container {\n",
              "      display:flex;\n",
              "      flex-wrap:wrap;\n",
              "      gap: 12px;\n",
              "    }\n",
              "\n",
              "    .colab-df-convert {\n",
              "      background-color: #E8F0FE;\n",
              "      border: none;\n",
              "      border-radius: 50%;\n",
              "      cursor: pointer;\n",
              "      display: none;\n",
              "      fill: #1967D2;\n",
              "      height: 32px;\n",
              "      padding: 0 0 0 0;\n",
              "      width: 32px;\n",
              "    }\n",
              "\n",
              "    .colab-df-convert:hover {\n",
              "      background-color: #E2EBFA;\n",
              "      box-shadow: 0px 1px 2px rgba(60, 64, 67, 0.3), 0px 1px 3px 1px rgba(60, 64, 67, 0.15);\n",
              "      fill: #174EA6;\n",
              "    }\n",
              "\n",
              "    [theme=dark] .colab-df-convert {\n",
              "      background-color: #3B4455;\n",
              "      fill: #D2E3FC;\n",
              "    }\n",
              "\n",
              "    [theme=dark] .colab-df-convert:hover {\n",
              "      background-color: #434B5C;\n",
              "      box-shadow: 0px 1px 3px 1px rgba(0, 0, 0, 0.15);\n",
              "      filter: drop-shadow(0px 1px 2px rgba(0, 0, 0, 0.3));\n",
              "      fill: #FFFFFF;\n",
              "    }\n",
              "  </style>\n",
              "\n",
              "      <script>\n",
              "        const buttonEl =\n",
              "          document.querySelector('#df-321946ac-ea43-4045-a55a-a641b8db4100 button.colab-df-convert');\n",
              "        buttonEl.style.display =\n",
              "          google.colab.kernel.accessAllowed ? 'block' : 'none';\n",
              "\n",
              "        async function convertToInteractive(key) {\n",
              "          const element = document.querySelector('#df-321946ac-ea43-4045-a55a-a641b8db4100');\n",
              "          const dataTable =\n",
              "            await google.colab.kernel.invokeFunction('convertToInteractive',\n",
              "                                                     [key], {});\n",
              "          if (!dataTable) return;\n",
              "\n",
              "          const docLinkHtml = 'Like what you see? Visit the ' +\n",
              "            '<a target=\"_blank\" href=https://colab.research.google.com/notebooks/data_table.ipynb>data table notebook</a>'\n",
              "            + ' to learn more about interactive tables.';\n",
              "          element.innerHTML = '';\n",
              "          dataTable['output_type'] = 'display_data';\n",
              "          await google.colab.output.renderOutput(dataTable, element);\n",
              "          const docLink = document.createElement('div');\n",
              "          docLink.innerHTML = docLinkHtml;\n",
              "          element.appendChild(docLink);\n",
              "        }\n",
              "      </script>\n",
              "    </div>\n",
              "  </div>\n",
              "  "
            ]
          },
          "metadata": {},
          "execution_count": 495
        }
      ]
    },
    {
      "cell_type": "code",
      "source": [
        "df[df.Power.isnull()].sample(n=10)"
      ],
      "metadata": {
        "colab": {
          "base_uri": "https://localhost:8080/",
          "height": 774
        },
        "id": "9re59oz8Q_DD",
        "outputId": "1c7521c6-3f9f-4509-f3b9-98a1864c8a1c"
      },
      "execution_count": 496,
      "outputs": [
        {
          "output_type": "execute_result",
          "data": {
            "text/plain": [
              "                                         Name   Location  Year  \\\n",
              "5119                   Hyundai Santro Xing XP    Kolkata  2008   \n",
              "2530                  BMW 5 Series 520d Sedan      Kochi  2014   \n",
              "2579     Hyundai Santro Xing XG eRLX Euro III     Mumbai  2006   \n",
              "5015                     Maruti Swift 1.3 VXi      Delhi  2006   \n",
              "2501                    Maruti Swift VDI BSIV  Hyderabad  2016   \n",
              "2074                     Maruti Swift 1.3 LXI       Pune  2011   \n",
              "424      Volkswagen Jetta 2007-2011 1.9 L TDI  Hyderabad  2010   \n",
              "4900  Hyundai Santro Xing XL AT eRLX Euro III  Hyderabad  2007   \n",
              "3033                   Hyundai Santro Xing XP     Jaipur  2005   \n",
              "2640                    Maruti Swift VDI BSIV       Pune  2007   \n",
              "\n",
              "      Kilometers_Driven Fuel_Type Transmission Owner_Type     Mileage  \\\n",
              "5119              45500    Petrol       Manual     Second    0.0 kmpl   \n",
              "2530              64158    Diesel    Automatic      First  18.48 kmpl   \n",
              "2579              50888    Petrol       Manual      First   17.0 kmpl   \n",
              "5015              63000    Petrol       Manual      First   16.1 kmpl   \n",
              "2501              51787    Diesel       Manual      First   17.8 kmpl   \n",
              "2074              24255    Petrol       Manual      First   16.1 kmpl   \n",
              "424               42021    Diesel       Manual      First    0.0 kmpl   \n",
              "4900              71000    Petrol    Automatic      First   17.0 kmpl   \n",
              "3033             120000    Petrol       Manual      First    0.0 kmpl   \n",
              "2640             121000    Diesel       Manual     Second   17.8 kmpl   \n",
              "\n",
              "       Engine Power  Seats  New_Price  Price        Make  \n",
              "5119  1086 CC   NaN    5.0       4.55   1.17     Hyundai  \n",
              "2530      NaN   NaN    NaN      67.87  17.89         BMW  \n",
              "2579  1086 CC   NaN    5.0       4.55   1.15     Hyundai  \n",
              "5015      NaN   NaN    NaN       7.88   1.60      Maruti  \n",
              "2501  1248 CC   NaN    5.0       7.88   6.45      Maruti  \n",
              "2074      NaN   NaN    NaN       7.88   3.15      Maruti  \n",
              "424   1968 CC   NaN    5.0      10.15   5.45  Volkswagen  \n",
              "4900  1086 CC   NaN    5.0       4.55   2.40     Hyundai  \n",
              "3033  1086 CC   NaN    5.0       4.55   1.15     Hyundai  \n",
              "2640  1248 CC   NaN    5.0       7.88   2.35      Maruti  "
            ],
            "text/html": [
              "\n",
              "  <div id=\"df-196ba4a2-c6cf-4ed9-8f2b-d6f58b7ef56e\">\n",
              "    <div class=\"colab-df-container\">\n",
              "      <div>\n",
              "<style scoped>\n",
              "    .dataframe tbody tr th:only-of-type {\n",
              "        vertical-align: middle;\n",
              "    }\n",
              "\n",
              "    .dataframe tbody tr th {\n",
              "        vertical-align: top;\n",
              "    }\n",
              "\n",
              "    .dataframe thead th {\n",
              "        text-align: right;\n",
              "    }\n",
              "</style>\n",
              "<table border=\"1\" class=\"dataframe\">\n",
              "  <thead>\n",
              "    <tr style=\"text-align: right;\">\n",
              "      <th></th>\n",
              "      <th>Name</th>\n",
              "      <th>Location</th>\n",
              "      <th>Year</th>\n",
              "      <th>Kilometers_Driven</th>\n",
              "      <th>Fuel_Type</th>\n",
              "      <th>Transmission</th>\n",
              "      <th>Owner_Type</th>\n",
              "      <th>Mileage</th>\n",
              "      <th>Engine</th>\n",
              "      <th>Power</th>\n",
              "      <th>Seats</th>\n",
              "      <th>New_Price</th>\n",
              "      <th>Price</th>\n",
              "      <th>Make</th>\n",
              "    </tr>\n",
              "  </thead>\n",
              "  <tbody>\n",
              "    <tr>\n",
              "      <th>5119</th>\n",
              "      <td>Hyundai Santro Xing XP</td>\n",
              "      <td>Kolkata</td>\n",
              "      <td>2008</td>\n",
              "      <td>45500</td>\n",
              "      <td>Petrol</td>\n",
              "      <td>Manual</td>\n",
              "      <td>Second</td>\n",
              "      <td>0.0 kmpl</td>\n",
              "      <td>1086 CC</td>\n",
              "      <td>NaN</td>\n",
              "      <td>5.0</td>\n",
              "      <td>4.55</td>\n",
              "      <td>1.17</td>\n",
              "      <td>Hyundai</td>\n",
              "    </tr>\n",
              "    <tr>\n",
              "      <th>2530</th>\n",
              "      <td>BMW 5 Series 520d Sedan</td>\n",
              "      <td>Kochi</td>\n",
              "      <td>2014</td>\n",
              "      <td>64158</td>\n",
              "      <td>Diesel</td>\n",
              "      <td>Automatic</td>\n",
              "      <td>First</td>\n",
              "      <td>18.48 kmpl</td>\n",
              "      <td>NaN</td>\n",
              "      <td>NaN</td>\n",
              "      <td>NaN</td>\n",
              "      <td>67.87</td>\n",
              "      <td>17.89</td>\n",
              "      <td>BMW</td>\n",
              "    </tr>\n",
              "    <tr>\n",
              "      <th>2579</th>\n",
              "      <td>Hyundai Santro Xing XG eRLX Euro III</td>\n",
              "      <td>Mumbai</td>\n",
              "      <td>2006</td>\n",
              "      <td>50888</td>\n",
              "      <td>Petrol</td>\n",
              "      <td>Manual</td>\n",
              "      <td>First</td>\n",
              "      <td>17.0 kmpl</td>\n",
              "      <td>1086 CC</td>\n",
              "      <td>NaN</td>\n",
              "      <td>5.0</td>\n",
              "      <td>4.55</td>\n",
              "      <td>1.15</td>\n",
              "      <td>Hyundai</td>\n",
              "    </tr>\n",
              "    <tr>\n",
              "      <th>5015</th>\n",
              "      <td>Maruti Swift 1.3 VXi</td>\n",
              "      <td>Delhi</td>\n",
              "      <td>2006</td>\n",
              "      <td>63000</td>\n",
              "      <td>Petrol</td>\n",
              "      <td>Manual</td>\n",
              "      <td>First</td>\n",
              "      <td>16.1 kmpl</td>\n",
              "      <td>NaN</td>\n",
              "      <td>NaN</td>\n",
              "      <td>NaN</td>\n",
              "      <td>7.88</td>\n",
              "      <td>1.60</td>\n",
              "      <td>Maruti</td>\n",
              "    </tr>\n",
              "    <tr>\n",
              "      <th>2501</th>\n",
              "      <td>Maruti Swift VDI BSIV</td>\n",
              "      <td>Hyderabad</td>\n",
              "      <td>2016</td>\n",
              "      <td>51787</td>\n",
              "      <td>Diesel</td>\n",
              "      <td>Manual</td>\n",
              "      <td>First</td>\n",
              "      <td>17.8 kmpl</td>\n",
              "      <td>1248 CC</td>\n",
              "      <td>NaN</td>\n",
              "      <td>5.0</td>\n",
              "      <td>7.88</td>\n",
              "      <td>6.45</td>\n",
              "      <td>Maruti</td>\n",
              "    </tr>\n",
              "    <tr>\n",
              "      <th>2074</th>\n",
              "      <td>Maruti Swift 1.3 LXI</td>\n",
              "      <td>Pune</td>\n",
              "      <td>2011</td>\n",
              "      <td>24255</td>\n",
              "      <td>Petrol</td>\n",
              "      <td>Manual</td>\n",
              "      <td>First</td>\n",
              "      <td>16.1 kmpl</td>\n",
              "      <td>NaN</td>\n",
              "      <td>NaN</td>\n",
              "      <td>NaN</td>\n",
              "      <td>7.88</td>\n",
              "      <td>3.15</td>\n",
              "      <td>Maruti</td>\n",
              "    </tr>\n",
              "    <tr>\n",
              "      <th>424</th>\n",
              "      <td>Volkswagen Jetta 2007-2011 1.9 L TDI</td>\n",
              "      <td>Hyderabad</td>\n",
              "      <td>2010</td>\n",
              "      <td>42021</td>\n",
              "      <td>Diesel</td>\n",
              "      <td>Manual</td>\n",
              "      <td>First</td>\n",
              "      <td>0.0 kmpl</td>\n",
              "      <td>1968 CC</td>\n",
              "      <td>NaN</td>\n",
              "      <td>5.0</td>\n",
              "      <td>10.15</td>\n",
              "      <td>5.45</td>\n",
              "      <td>Volkswagen</td>\n",
              "    </tr>\n",
              "    <tr>\n",
              "      <th>4900</th>\n",
              "      <td>Hyundai Santro Xing XL AT eRLX Euro III</td>\n",
              "      <td>Hyderabad</td>\n",
              "      <td>2007</td>\n",
              "      <td>71000</td>\n",
              "      <td>Petrol</td>\n",
              "      <td>Automatic</td>\n",
              "      <td>First</td>\n",
              "      <td>17.0 kmpl</td>\n",
              "      <td>1086 CC</td>\n",
              "      <td>NaN</td>\n",
              "      <td>5.0</td>\n",
              "      <td>4.55</td>\n",
              "      <td>2.40</td>\n",
              "      <td>Hyundai</td>\n",
              "    </tr>\n",
              "    <tr>\n",
              "      <th>3033</th>\n",
              "      <td>Hyundai Santro Xing XP</td>\n",
              "      <td>Jaipur</td>\n",
              "      <td>2005</td>\n",
              "      <td>120000</td>\n",
              "      <td>Petrol</td>\n",
              "      <td>Manual</td>\n",
              "      <td>First</td>\n",
              "      <td>0.0 kmpl</td>\n",
              "      <td>1086 CC</td>\n",
              "      <td>NaN</td>\n",
              "      <td>5.0</td>\n",
              "      <td>4.55</td>\n",
              "      <td>1.15</td>\n",
              "      <td>Hyundai</td>\n",
              "    </tr>\n",
              "    <tr>\n",
              "      <th>2640</th>\n",
              "      <td>Maruti Swift VDI BSIV</td>\n",
              "      <td>Pune</td>\n",
              "      <td>2007</td>\n",
              "      <td>121000</td>\n",
              "      <td>Diesel</td>\n",
              "      <td>Manual</td>\n",
              "      <td>Second</td>\n",
              "      <td>17.8 kmpl</td>\n",
              "      <td>1248 CC</td>\n",
              "      <td>NaN</td>\n",
              "      <td>5.0</td>\n",
              "      <td>7.88</td>\n",
              "      <td>2.35</td>\n",
              "      <td>Maruti</td>\n",
              "    </tr>\n",
              "  </tbody>\n",
              "</table>\n",
              "</div>\n",
              "      <button class=\"colab-df-convert\" onclick=\"convertToInteractive('df-196ba4a2-c6cf-4ed9-8f2b-d6f58b7ef56e')\"\n",
              "              title=\"Convert this dataframe to an interactive table.\"\n",
              "              style=\"display:none;\">\n",
              "        \n",
              "  <svg xmlns=\"http://www.w3.org/2000/svg\" height=\"24px\"viewBox=\"0 0 24 24\"\n",
              "       width=\"24px\">\n",
              "    <path d=\"M0 0h24v24H0V0z\" fill=\"none\"/>\n",
              "    <path d=\"M18.56 5.44l.94 2.06.94-2.06 2.06-.94-2.06-.94-.94-2.06-.94 2.06-2.06.94zm-11 1L8.5 8.5l.94-2.06 2.06-.94-2.06-.94L8.5 2.5l-.94 2.06-2.06.94zm10 10l.94 2.06.94-2.06 2.06-.94-2.06-.94-.94-2.06-.94 2.06-2.06.94z\"/><path d=\"M17.41 7.96l-1.37-1.37c-.4-.4-.92-.59-1.43-.59-.52 0-1.04.2-1.43.59L10.3 9.45l-7.72 7.72c-.78.78-.78 2.05 0 2.83L4 21.41c.39.39.9.59 1.41.59.51 0 1.02-.2 1.41-.59l7.78-7.78 2.81-2.81c.8-.78.8-2.07 0-2.86zM5.41 20L4 18.59l7.72-7.72 1.47 1.35L5.41 20z\"/>\n",
              "  </svg>\n",
              "      </button>\n",
              "      \n",
              "  <style>\n",
              "    .colab-df-container {\n",
              "      display:flex;\n",
              "      flex-wrap:wrap;\n",
              "      gap: 12px;\n",
              "    }\n",
              "\n",
              "    .colab-df-convert {\n",
              "      background-color: #E8F0FE;\n",
              "      border: none;\n",
              "      border-radius: 50%;\n",
              "      cursor: pointer;\n",
              "      display: none;\n",
              "      fill: #1967D2;\n",
              "      height: 32px;\n",
              "      padding: 0 0 0 0;\n",
              "      width: 32px;\n",
              "    }\n",
              "\n",
              "    .colab-df-convert:hover {\n",
              "      background-color: #E2EBFA;\n",
              "      box-shadow: 0px 1px 2px rgba(60, 64, 67, 0.3), 0px 1px 3px 1px rgba(60, 64, 67, 0.15);\n",
              "      fill: #174EA6;\n",
              "    }\n",
              "\n",
              "    [theme=dark] .colab-df-convert {\n",
              "      background-color: #3B4455;\n",
              "      fill: #D2E3FC;\n",
              "    }\n",
              "\n",
              "    [theme=dark] .colab-df-convert:hover {\n",
              "      background-color: #434B5C;\n",
              "      box-shadow: 0px 1px 3px 1px rgba(0, 0, 0, 0.15);\n",
              "      filter: drop-shadow(0px 1px 2px rgba(0, 0, 0, 0.3));\n",
              "      fill: #FFFFFF;\n",
              "    }\n",
              "  </style>\n",
              "\n",
              "      <script>\n",
              "        const buttonEl =\n",
              "          document.querySelector('#df-196ba4a2-c6cf-4ed9-8f2b-d6f58b7ef56e button.colab-df-convert');\n",
              "        buttonEl.style.display =\n",
              "          google.colab.kernel.accessAllowed ? 'block' : 'none';\n",
              "\n",
              "        async function convertToInteractive(key) {\n",
              "          const element = document.querySelector('#df-196ba4a2-c6cf-4ed9-8f2b-d6f58b7ef56e');\n",
              "          const dataTable =\n",
              "            await google.colab.kernel.invokeFunction('convertToInteractive',\n",
              "                                                     [key], {});\n",
              "          if (!dataTable) return;\n",
              "\n",
              "          const docLinkHtml = 'Like what you see? Visit the ' +\n",
              "            '<a target=\"_blank\" href=https://colab.research.google.com/notebooks/data_table.ipynb>data table notebook</a>'\n",
              "            + ' to learn more about interactive tables.';\n",
              "          element.innerHTML = '';\n",
              "          dataTable['output_type'] = 'display_data';\n",
              "          await google.colab.output.renderOutput(dataTable, element);\n",
              "          const docLink = document.createElement('div');\n",
              "          docLink.innerHTML = docLinkHtml;\n",
              "          element.appendChild(docLink);\n",
              "        }\n",
              "      </script>\n",
              "    </div>\n",
              "  </div>\n",
              "  "
            ]
          },
          "metadata": {},
          "execution_count": 496
        }
      ]
    },
    {
      "cell_type": "markdown",
      "source": [
        "Mileage can be either NaN or 0.0, both of which can be grouped under the term \"missing values,\" since no car gives 0.0 mileage. We can look at how many cars have a Mileage value of 0.0 later to get a sense of how to deal with them.\n",
        "\n",
        "It seems that when Engine is NaN, there might be a pattern where Power and Seats are NaN. Let's investigate this further. "
      ],
      "metadata": {
        "id": "OBVsBW_VR7hL"
      }
    },
    {
      "cell_type": "markdown",
      "source": [
        "## Converting Mileage, Engine and Power columns to float\n",
        "\n",
        "These are columns that represent the miles the car has driven, the volume of the engine, and the maximum power of the engine. They all end in units km/kg or kmpl, CC, and bhp respectively. We will convert these into floats by removing these units."
      ],
      "metadata": {
        "id": "Y3rEdlkaIJwU"
      }
    },
    {
      "cell_type": "code",
      "source": [
        "for col_name in ['Mileage','Engine','Power']:\n",
        "  df[col_name] =  df[col_name].str.strip().str.split().str.get(0).astype('float')"
      ],
      "metadata": {
        "id": "l1DxYZgyJEv7"
      },
      "execution_count": 497,
      "outputs": []
    },
    {
      "cell_type": "code",
      "source": [
        "df.info()"
      ],
      "metadata": {
        "id": "eCOnSKD5P-uM",
        "colab": {
          "base_uri": "https://localhost:8080/"
        },
        "outputId": "dd4fbd5c-bd87-46ba-a839-bcd4e2da2862"
      },
      "execution_count": 498,
      "outputs": [
        {
          "output_type": "stream",
          "name": "stdout",
          "text": [
            "<class 'pandas.core.frame.DataFrame'>\n",
            "RangeIndex: 6019 entries, 0 to 6018\n",
            "Data columns (total 14 columns):\n",
            " #   Column             Non-Null Count  Dtype  \n",
            "---  ------             --------------  -----  \n",
            " 0   Name               6019 non-null   object \n",
            " 1   Location           6019 non-null   object \n",
            " 2   Year               6019 non-null   int64  \n",
            " 3   Kilometers_Driven  6019 non-null   int64  \n",
            " 4   Fuel_Type          6019 non-null   object \n",
            " 5   Transmission       6019 non-null   object \n",
            " 6   Owner_Type         6019 non-null   object \n",
            " 7   Mileage            6017 non-null   float64\n",
            " 8   Engine             5983 non-null   float64\n",
            " 9   Power              5876 non-null   float64\n",
            " 10  Seats              5977 non-null   float64\n",
            " 11  New_Price          6019 non-null   float64\n",
            " 12  Price              6019 non-null   float64\n",
            " 13  Make               6019 non-null   object \n",
            "dtypes: float64(6), int64(2), object(6)\n",
            "memory usage: 658.5+ KB\n"
          ]
        }
      ]
    },
    {
      "cell_type": "code",
      "source": [
        "# statistical summary\n",
        "df.describe(include=\"all\").T"
      ],
      "metadata": {
        "colab": {
          "base_uri": "https://localhost:8080/",
          "height": 488
        },
        "id": "dVLBH-IltPt8",
        "outputId": "b002b508-9eea-49d5-b4a8-d42d87892792"
      },
      "execution_count": 499,
      "outputs": [
        {
          "output_type": "execute_result",
          "data": {
            "text/plain": [
              "                    count unique                     top  freq          mean  \\\n",
              "Name                 6019   1876  Mahindra XUV500 W8 2WD    49           NaN   \n",
              "Location             6019     11                  Mumbai   790           NaN   \n",
              "Year               6019.0    NaN                     NaN   NaN   2013.358199   \n",
              "Kilometers_Driven  6019.0    NaN                     NaN   NaN  58738.380296   \n",
              "Fuel_Type            6019      5                  Diesel  3205           NaN   \n",
              "Transmission         6019      2                  Manual  4299           NaN   \n",
              "Owner_Type           6019      4                   First  4929           NaN   \n",
              "Mileage            6017.0    NaN                     NaN   NaN     18.134961   \n",
              "Engine             5983.0    NaN                     NaN   NaN    1621.27645   \n",
              "Power              5876.0    NaN                     NaN   NaN     113.25305   \n",
              "Seats              5977.0    NaN                     NaN   NaN      5.278735   \n",
              "New_Price          6019.0    NaN                     NaN   NaN     21.499855   \n",
              "Price              6019.0    NaN                     NaN   NaN      9.479468   \n",
              "Make                 6019     31                  Maruti  1211           NaN   \n",
              "\n",
              "                            std     min      25%      50%      75%        max  \n",
              "Name                        NaN     NaN      NaN      NaN      NaN        NaN  \n",
              "Location                    NaN     NaN      NaN      NaN      NaN        NaN  \n",
              "Year                   3.269742  1998.0   2011.0   2014.0   2016.0     2019.0  \n",
              "Kilometers_Driven  91268.843206   171.0  34000.0  53000.0  73000.0  6500000.0  \n",
              "Fuel_Type                   NaN     NaN      NaN      NaN      NaN        NaN  \n",
              "Transmission                NaN     NaN      NaN      NaN      NaN        NaN  \n",
              "Owner_Type                  NaN     NaN      NaN      NaN      NaN        NaN  \n",
              "Mileage                4.582289     0.0    15.17    18.15     21.1      33.54  \n",
              "Engine               601.355233    72.0   1198.0   1493.0   1984.0     5998.0  \n",
              "Power                 53.874957    34.2     75.0     97.7    138.1      560.0  \n",
              "Seats                   0.80884     0.0      5.0      5.0      5.0       10.0  \n",
              "New_Price             24.332922    3.91     7.88     11.3    21.77      375.0  \n",
              "Price                 11.187917    0.44      3.5     5.64     9.95      160.0  \n",
              "Make                        NaN     NaN      NaN      NaN      NaN        NaN  "
            ],
            "text/html": [
              "\n",
              "  <div id=\"df-58b2fe45-8281-49a2-8758-811a24049d57\">\n",
              "    <div class=\"colab-df-container\">\n",
              "      <div>\n",
              "<style scoped>\n",
              "    .dataframe tbody tr th:only-of-type {\n",
              "        vertical-align: middle;\n",
              "    }\n",
              "\n",
              "    .dataframe tbody tr th {\n",
              "        vertical-align: top;\n",
              "    }\n",
              "\n",
              "    .dataframe thead th {\n",
              "        text-align: right;\n",
              "    }\n",
              "</style>\n",
              "<table border=\"1\" class=\"dataframe\">\n",
              "  <thead>\n",
              "    <tr style=\"text-align: right;\">\n",
              "      <th></th>\n",
              "      <th>count</th>\n",
              "      <th>unique</th>\n",
              "      <th>top</th>\n",
              "      <th>freq</th>\n",
              "      <th>mean</th>\n",
              "      <th>std</th>\n",
              "      <th>min</th>\n",
              "      <th>25%</th>\n",
              "      <th>50%</th>\n",
              "      <th>75%</th>\n",
              "      <th>max</th>\n",
              "    </tr>\n",
              "  </thead>\n",
              "  <tbody>\n",
              "    <tr>\n",
              "      <th>Name</th>\n",
              "      <td>6019</td>\n",
              "      <td>1876</td>\n",
              "      <td>Mahindra XUV500 W8 2WD</td>\n",
              "      <td>49</td>\n",
              "      <td>NaN</td>\n",
              "      <td>NaN</td>\n",
              "      <td>NaN</td>\n",
              "      <td>NaN</td>\n",
              "      <td>NaN</td>\n",
              "      <td>NaN</td>\n",
              "      <td>NaN</td>\n",
              "    </tr>\n",
              "    <tr>\n",
              "      <th>Location</th>\n",
              "      <td>6019</td>\n",
              "      <td>11</td>\n",
              "      <td>Mumbai</td>\n",
              "      <td>790</td>\n",
              "      <td>NaN</td>\n",
              "      <td>NaN</td>\n",
              "      <td>NaN</td>\n",
              "      <td>NaN</td>\n",
              "      <td>NaN</td>\n",
              "      <td>NaN</td>\n",
              "      <td>NaN</td>\n",
              "    </tr>\n",
              "    <tr>\n",
              "      <th>Year</th>\n",
              "      <td>6019.0</td>\n",
              "      <td>NaN</td>\n",
              "      <td>NaN</td>\n",
              "      <td>NaN</td>\n",
              "      <td>2013.358199</td>\n",
              "      <td>3.269742</td>\n",
              "      <td>1998.0</td>\n",
              "      <td>2011.0</td>\n",
              "      <td>2014.0</td>\n",
              "      <td>2016.0</td>\n",
              "      <td>2019.0</td>\n",
              "    </tr>\n",
              "    <tr>\n",
              "      <th>Kilometers_Driven</th>\n",
              "      <td>6019.0</td>\n",
              "      <td>NaN</td>\n",
              "      <td>NaN</td>\n",
              "      <td>NaN</td>\n",
              "      <td>58738.380296</td>\n",
              "      <td>91268.843206</td>\n",
              "      <td>171.0</td>\n",
              "      <td>34000.0</td>\n",
              "      <td>53000.0</td>\n",
              "      <td>73000.0</td>\n",
              "      <td>6500000.0</td>\n",
              "    </tr>\n",
              "    <tr>\n",
              "      <th>Fuel_Type</th>\n",
              "      <td>6019</td>\n",
              "      <td>5</td>\n",
              "      <td>Diesel</td>\n",
              "      <td>3205</td>\n",
              "      <td>NaN</td>\n",
              "      <td>NaN</td>\n",
              "      <td>NaN</td>\n",
              "      <td>NaN</td>\n",
              "      <td>NaN</td>\n",
              "      <td>NaN</td>\n",
              "      <td>NaN</td>\n",
              "    </tr>\n",
              "    <tr>\n",
              "      <th>Transmission</th>\n",
              "      <td>6019</td>\n",
              "      <td>2</td>\n",
              "      <td>Manual</td>\n",
              "      <td>4299</td>\n",
              "      <td>NaN</td>\n",
              "      <td>NaN</td>\n",
              "      <td>NaN</td>\n",
              "      <td>NaN</td>\n",
              "      <td>NaN</td>\n",
              "      <td>NaN</td>\n",
              "      <td>NaN</td>\n",
              "    </tr>\n",
              "    <tr>\n",
              "      <th>Owner_Type</th>\n",
              "      <td>6019</td>\n",
              "      <td>4</td>\n",
              "      <td>First</td>\n",
              "      <td>4929</td>\n",
              "      <td>NaN</td>\n",
              "      <td>NaN</td>\n",
              "      <td>NaN</td>\n",
              "      <td>NaN</td>\n",
              "      <td>NaN</td>\n",
              "      <td>NaN</td>\n",
              "      <td>NaN</td>\n",
              "    </tr>\n",
              "    <tr>\n",
              "      <th>Mileage</th>\n",
              "      <td>6017.0</td>\n",
              "      <td>NaN</td>\n",
              "      <td>NaN</td>\n",
              "      <td>NaN</td>\n",
              "      <td>18.134961</td>\n",
              "      <td>4.582289</td>\n",
              "      <td>0.0</td>\n",
              "      <td>15.17</td>\n",
              "      <td>18.15</td>\n",
              "      <td>21.1</td>\n",
              "      <td>33.54</td>\n",
              "    </tr>\n",
              "    <tr>\n",
              "      <th>Engine</th>\n",
              "      <td>5983.0</td>\n",
              "      <td>NaN</td>\n",
              "      <td>NaN</td>\n",
              "      <td>NaN</td>\n",
              "      <td>1621.27645</td>\n",
              "      <td>601.355233</td>\n",
              "      <td>72.0</td>\n",
              "      <td>1198.0</td>\n",
              "      <td>1493.0</td>\n",
              "      <td>1984.0</td>\n",
              "      <td>5998.0</td>\n",
              "    </tr>\n",
              "    <tr>\n",
              "      <th>Power</th>\n",
              "      <td>5876.0</td>\n",
              "      <td>NaN</td>\n",
              "      <td>NaN</td>\n",
              "      <td>NaN</td>\n",
              "      <td>113.25305</td>\n",
              "      <td>53.874957</td>\n",
              "      <td>34.2</td>\n",
              "      <td>75.0</td>\n",
              "      <td>97.7</td>\n",
              "      <td>138.1</td>\n",
              "      <td>560.0</td>\n",
              "    </tr>\n",
              "    <tr>\n",
              "      <th>Seats</th>\n",
              "      <td>5977.0</td>\n",
              "      <td>NaN</td>\n",
              "      <td>NaN</td>\n",
              "      <td>NaN</td>\n",
              "      <td>5.278735</td>\n",
              "      <td>0.80884</td>\n",
              "      <td>0.0</td>\n",
              "      <td>5.0</td>\n",
              "      <td>5.0</td>\n",
              "      <td>5.0</td>\n",
              "      <td>10.0</td>\n",
              "    </tr>\n",
              "    <tr>\n",
              "      <th>New_Price</th>\n",
              "      <td>6019.0</td>\n",
              "      <td>NaN</td>\n",
              "      <td>NaN</td>\n",
              "      <td>NaN</td>\n",
              "      <td>21.499855</td>\n",
              "      <td>24.332922</td>\n",
              "      <td>3.91</td>\n",
              "      <td>7.88</td>\n",
              "      <td>11.3</td>\n",
              "      <td>21.77</td>\n",
              "      <td>375.0</td>\n",
              "    </tr>\n",
              "    <tr>\n",
              "      <th>Price</th>\n",
              "      <td>6019.0</td>\n",
              "      <td>NaN</td>\n",
              "      <td>NaN</td>\n",
              "      <td>NaN</td>\n",
              "      <td>9.479468</td>\n",
              "      <td>11.187917</td>\n",
              "      <td>0.44</td>\n",
              "      <td>3.5</td>\n",
              "      <td>5.64</td>\n",
              "      <td>9.95</td>\n",
              "      <td>160.0</td>\n",
              "    </tr>\n",
              "    <tr>\n",
              "      <th>Make</th>\n",
              "      <td>6019</td>\n",
              "      <td>31</td>\n",
              "      <td>Maruti</td>\n",
              "      <td>1211</td>\n",
              "      <td>NaN</td>\n",
              "      <td>NaN</td>\n",
              "      <td>NaN</td>\n",
              "      <td>NaN</td>\n",
              "      <td>NaN</td>\n",
              "      <td>NaN</td>\n",
              "      <td>NaN</td>\n",
              "    </tr>\n",
              "  </tbody>\n",
              "</table>\n",
              "</div>\n",
              "      <button class=\"colab-df-convert\" onclick=\"convertToInteractive('df-58b2fe45-8281-49a2-8758-811a24049d57')\"\n",
              "              title=\"Convert this dataframe to an interactive table.\"\n",
              "              style=\"display:none;\">\n",
              "        \n",
              "  <svg xmlns=\"http://www.w3.org/2000/svg\" height=\"24px\"viewBox=\"0 0 24 24\"\n",
              "       width=\"24px\">\n",
              "    <path d=\"M0 0h24v24H0V0z\" fill=\"none\"/>\n",
              "    <path d=\"M18.56 5.44l.94 2.06.94-2.06 2.06-.94-2.06-.94-.94-2.06-.94 2.06-2.06.94zm-11 1L8.5 8.5l.94-2.06 2.06-.94-2.06-.94L8.5 2.5l-.94 2.06-2.06.94zm10 10l.94 2.06.94-2.06 2.06-.94-2.06-.94-.94-2.06-.94 2.06-2.06.94z\"/><path d=\"M17.41 7.96l-1.37-1.37c-.4-.4-.92-.59-1.43-.59-.52 0-1.04.2-1.43.59L10.3 9.45l-7.72 7.72c-.78.78-.78 2.05 0 2.83L4 21.41c.39.39.9.59 1.41.59.51 0 1.02-.2 1.41-.59l7.78-7.78 2.81-2.81c.8-.78.8-2.07 0-2.86zM5.41 20L4 18.59l7.72-7.72 1.47 1.35L5.41 20z\"/>\n",
              "  </svg>\n",
              "      </button>\n",
              "      \n",
              "  <style>\n",
              "    .colab-df-container {\n",
              "      display:flex;\n",
              "      flex-wrap:wrap;\n",
              "      gap: 12px;\n",
              "    }\n",
              "\n",
              "    .colab-df-convert {\n",
              "      background-color: #E8F0FE;\n",
              "      border: none;\n",
              "      border-radius: 50%;\n",
              "      cursor: pointer;\n",
              "      display: none;\n",
              "      fill: #1967D2;\n",
              "      height: 32px;\n",
              "      padding: 0 0 0 0;\n",
              "      width: 32px;\n",
              "    }\n",
              "\n",
              "    .colab-df-convert:hover {\n",
              "      background-color: #E2EBFA;\n",
              "      box-shadow: 0px 1px 2px rgba(60, 64, 67, 0.3), 0px 1px 3px 1px rgba(60, 64, 67, 0.15);\n",
              "      fill: #174EA6;\n",
              "    }\n",
              "\n",
              "    [theme=dark] .colab-df-convert {\n",
              "      background-color: #3B4455;\n",
              "      fill: #D2E3FC;\n",
              "    }\n",
              "\n",
              "    [theme=dark] .colab-df-convert:hover {\n",
              "      background-color: #434B5C;\n",
              "      box-shadow: 0px 1px 3px 1px rgba(0, 0, 0, 0.15);\n",
              "      filter: drop-shadow(0px 1px 2px rgba(0, 0, 0, 0.3));\n",
              "      fill: #FFFFFF;\n",
              "    }\n",
              "  </style>\n",
              "\n",
              "      <script>\n",
              "        const buttonEl =\n",
              "          document.querySelector('#df-58b2fe45-8281-49a2-8758-811a24049d57 button.colab-df-convert');\n",
              "        buttonEl.style.display =\n",
              "          google.colab.kernel.accessAllowed ? 'block' : 'none';\n",
              "\n",
              "        async function convertToInteractive(key) {\n",
              "          const element = document.querySelector('#df-58b2fe45-8281-49a2-8758-811a24049d57');\n",
              "          const dataTable =\n",
              "            await google.colab.kernel.invokeFunction('convertToInteractive',\n",
              "                                                     [key], {});\n",
              "          if (!dataTable) return;\n",
              "\n",
              "          const docLinkHtml = 'Like what you see? Visit the ' +\n",
              "            '<a target=\"_blank\" href=https://colab.research.google.com/notebooks/data_table.ipynb>data table notebook</a>'\n",
              "            + ' to learn more about interactive tables.';\n",
              "          element.innerHTML = '';\n",
              "          dataTable['output_type'] = 'display_data';\n",
              "          await google.colab.output.renderOutput(dataTable, element);\n",
              "          const docLink = document.createElement('div');\n",
              "          docLink.innerHTML = docLinkHtml;\n",
              "          element.appendChild(docLink);\n",
              "        }\n",
              "      </script>\n",
              "    </div>\n",
              "  </div>\n",
              "  "
            ]
          },
          "metadata": {},
          "execution_count": 499
        }
      ]
    },
    {
      "cell_type": "markdown",
      "source": [
        "## Dealing with Missing values"
      ],
      "metadata": {
        "id": "AvMdP_XtXiRh"
      }
    },
    {
      "cell_type": "code",
      "source": [
        "def display_missing(df):\n",
        "  cond1 = (df.dtypes == 'float64') + (df.dtypes == 'int64') # selecting float columns\n",
        "  cond2 = df.isnull().sum() > 0  # selecting columns with NaN values\n",
        "  cond_ = np.logical_and(cond1.values, cond2.values)\n",
        "\n",
        "  for col_name in df.columns[cond1.values]:\n",
        "    a = df[col_name].apply(lambda x: x == 0).sum()\n",
        "    b = df[col_name].isnull().sum()\n",
        "    print(f\"{col_name} has {b} NaN values and {a} zero values \")\n",
        "\n",
        "display_missing(df)"
      ],
      "metadata": {
        "colab": {
          "base_uri": "https://localhost:8080/"
        },
        "id": "YRiEDCPftKMD",
        "outputId": "74e79779-8122-42e2-cc84-2ae467b93de5"
      },
      "execution_count": 500,
      "outputs": [
        {
          "output_type": "stream",
          "name": "stdout",
          "text": [
            "Year has 0 NaN values and 0 zero values \n",
            "Kilometers_Driven has 0 NaN values and 0 zero values \n",
            "Mileage has 2 NaN values and 68 zero values \n",
            "Engine has 36 NaN values and 0 zero values \n",
            "Power has 143 NaN values and 0 zero values \n",
            "Seats has 42 NaN values and 1 zero values \n",
            "New_Price has 0 NaN values and 0 zero values \n",
            "Price has 0 NaN values and 0 zero values \n"
          ]
        }
      ]
    },
    {
      "cell_type": "markdown",
      "source": [
        "68 values of Mileage are 0.0 and 1 value of seats has a value of 0. None of the int type columns have 0 or NaN values."
      ],
      "metadata": {
        "id": "WFkY41qJTVyN"
      }
    },
    {
      "cell_type": "markdown",
      "source": [
        "### Dealing with NaN Values"
      ],
      "metadata": {
        "id": "fWR7QjC5t3q3"
      }
    },
    {
      "cell_type": "markdown",
      "source": [
        "Let's check if some NaN values of Engine, Power, Seats and zero values of Mileage can be found by the Name column. We know there are some Name duplicates; if there are cars that have those values already filled in, then we can impute those to the respective cars that don't have values of Engine, Power, Seats, and/or Mileage."
      ],
      "metadata": {
        "id": "2GOzcrWI3yDy"
      }
    },
    {
      "cell_type": "code",
      "source": [
        "# checking for name duplicates for columns with NaN values\n",
        "print( f\"NaN valued Engine car names are duplicated {df[ df['Engine'].isnull() ][['Name']].duplicated().sum()} times.\" )\n",
        "print( f\"NaN valued Power car names are duplicated {df[ df['Power'].isnull() ][['Name']].duplicated().sum()} times.\" )\n",
        "print( f\"NaN valued Seats car names are duplicated {df[ df['Seats'].isnull() ][['Name']].duplicated().sum()} times.\" )"
      ],
      "metadata": {
        "colab": {
          "base_uri": "https://localhost:8080/"
        },
        "id": "hJR6SV1zvu2W",
        "outputId": "4fc696b7-c1e5-4fdc-ca8b-133d610f2931"
      },
      "execution_count": 501,
      "outputs": [
        {
          "output_type": "stream",
          "name": "stdout",
          "text": [
            "NaN valued Engine car names are duplicated 17 times.\n",
            "NaN valued Power car names are duplicated 73 times.\n",
            "NaN valued Seats car names are duplicated 19 times.\n"
          ]
        }
      ]
    },
    {
      "cell_type": "markdown",
      "source": [
        "Perhaps there is merit in following the above method of imputation, as it would increse model accuracy than just imputing the median of the respective columns."
      ],
      "metadata": {
        "id": "L7MWV4FRwW77"
      }
    },
    {
      "cell_type": "code",
      "source": [
        "# Look at missing values\n",
        "display_missing(df)"
      ],
      "metadata": {
        "colab": {
          "base_uri": "https://localhost:8080/"
        },
        "id": "9OjXUaVxcY9o",
        "outputId": "0c932836-206b-4bcd-85a4-9a2be6cc1447"
      },
      "execution_count": 502,
      "outputs": [
        {
          "output_type": "stream",
          "name": "stdout",
          "text": [
            "Year has 0 NaN values and 0 zero values \n",
            "Kilometers_Driven has 0 NaN values and 0 zero values \n",
            "Mileage has 2 NaN values and 68 zero values \n",
            "Engine has 36 NaN values and 0 zero values \n",
            "Power has 143 NaN values and 0 zero values \n",
            "Seats has 42 NaN values and 1 zero values \n",
            "New_Price has 0 NaN values and 0 zero values \n",
            "Price has 0 NaN values and 0 zero values \n"
          ]
        }
      ]
    },
    {
      "cell_type": "code",
      "source": [
        "df2 = df.copy()\n",
        "\n",
        "def impute_from_within(df,col_name):\n",
        "  # first we get list of unique car names where col_name value(s) is/are NaN\n",
        "  cars_missing = df['Name'][df[col_name].isnull()].unique()\n",
        "\n",
        "  # for each car in the above list, get the col_name value(s) for the car with non-NaN values, and impute into NaN indices\n",
        "  for car in cars_missing:\n",
        "    # array of wherever this car's col_name values are not NaN\n",
        "    bool_array = np.isnan( df[df['Name'] == car][col_name] ) == False\n",
        "\n",
        "    # if at least one car in the list has non-NaN value, then impute that value into the indices where col_name value is NaN\n",
        "    if bool_array.any() == True:\n",
        "      notNaN_ind = np.where(np.isnan( df[df['Name'] == car][col_name] ) == False)[0]\n",
        "      NaN_ind    = np.where(np.isnan( df[df['Name'] == car][col_name] ))[0]\n",
        "      row_ind    = df[df['Name'] == car][col_name].index\n",
        "\n",
        "      if np.size(notNaN_ind) == 1:\n",
        "        ind = notNaN_ind\n",
        "      elif np.size(notNaN_ind) > 1:\n",
        "        ind = notNaN_ind[0]\n",
        "      else:\n",
        "        ind = notNaN_ind\n",
        "        continue\n",
        "\n",
        "      # get and impute Seats value\n",
        "      num_seats = df[col_name].iloc[row_ind].iloc[ind]\n",
        "      df.loc[row_ind[NaN_ind],col_name] = num_seats \n",
        "\n",
        "impute_from_within(df2, 'Seats')\n",
        "impute_from_within(df2, 'Power')\n",
        "impute_from_within(df2, 'Engine')"
      ],
      "metadata": {
        "id": "2xwuRdaE4aHV"
      },
      "execution_count": 503,
      "outputs": []
    },
    {
      "cell_type": "code",
      "source": [
        "# Look at missing values\n",
        "display_missing(df2)"
      ],
      "metadata": {
        "colab": {
          "base_uri": "https://localhost:8080/"
        },
        "id": "K4mpKd_ldmZE",
        "outputId": "9eca345f-de80-4193-deb6-dd0d8efa94c4"
      },
      "execution_count": 504,
      "outputs": [
        {
          "output_type": "stream",
          "name": "stdout",
          "text": [
            "Year has 0 NaN values and 0 zero values \n",
            "Kilometers_Driven has 0 NaN values and 0 zero values \n",
            "Mileage has 2 NaN values and 68 zero values \n",
            "Engine has 33 NaN values and 0 zero values \n",
            "Power has 115 NaN values and 0 zero values \n",
            "Seats has 38 NaN values and 1 zero values \n",
            "New_Price has 0 NaN values and 0 zero values \n",
            "Price has 0 NaN values and 0 zero values \n"
          ]
        }
      ]
    },
    {
      "cell_type": "markdown",
      "source": [
        "We were able to correctly impute a portion of the NaN values for each of Engine, Power and Seats columns - this will improve model accuracy. For the rest of the NaN values, we will impute the values for each column by the Make column's median respectively."
      ],
      "metadata": {
        "id": "rJBrlARTgay6"
      }
    },
    {
      "cell_type": "code",
      "source": [
        "df3 = df2.copy()\n",
        "df3[['Seats', 'Engine','Power']] = df3.groupby(['Make'])[['Seats', 'Engine','Power']].transform(lambda x: x.fillna(x.median())) "
      ],
      "metadata": {
        "colab": {
          "base_uri": "https://localhost:8080/"
        },
        "id": "BNeGkrKvhPKl",
        "outputId": "f61adcb9-944f-4638-9c00-5f380c049038"
      },
      "execution_count": 505,
      "outputs": [
        {
          "output_type": "stream",
          "name": "stderr",
          "text": [
            "/usr/local/lib/python3.7/dist-packages/numpy/lib/nanfunctions.py:1117: RuntimeWarning: Mean of empty slice\n",
            "  return np.nanmean(a, axis, out=out, keepdims=keepdims)\n"
          ]
        }
      ]
    },
    {
      "cell_type": "code",
      "source": [
        "display_missing(df3)"
      ],
      "metadata": {
        "colab": {
          "base_uri": "https://localhost:8080/"
        },
        "id": "CNFv47VsiiEA",
        "outputId": "d5c2e4b8-4e2d-4fd1-e36b-1647643f1602"
      },
      "execution_count": 506,
      "outputs": [
        {
          "output_type": "stream",
          "name": "stdout",
          "text": [
            "Year has 0 NaN values and 0 zero values \n",
            "Kilometers_Driven has 0 NaN values and 0 zero values \n",
            "Mileage has 2 NaN values and 68 zero values \n",
            "Engine has 0 NaN values and 0 zero values \n",
            "Power has 1 NaN values and 0 zero values \n",
            "Seats has 0 NaN values and 1 zero values \n",
            "New_Price has 0 NaN values and 0 zero values \n",
            "Price has 0 NaN values and 0 zero values \n"
          ]
        }
      ]
    },
    {
      "cell_type": "code",
      "source": [
        "df3['Make'].value_counts()"
      ],
      "metadata": {
        "colab": {
          "base_uri": "https://localhost:8080/"
        },
        "id": "rsKzb1tyT2Cm",
        "outputId": "571aa504-c80a-4742-d648-49907100fd0b"
      },
      "execution_count": 507,
      "outputs": [
        {
          "output_type": "execute_result",
          "data": {
            "text/plain": [
              "Maruti           1211\n",
              "Hyundai          1107\n",
              "Honda             608\n",
              "Toyota            411\n",
              "Mercedes-Benz     318\n",
              "Volkswagen        315\n",
              "Ford              300\n",
              "Mahindra          272\n",
              "BMW               267\n",
              "Audi              236\n",
              "Tata              186\n",
              "Skoda             173\n",
              "Renault           145\n",
              "Chevrolet         121\n",
              "Nissan             91\n",
              "Land               60\n",
              "Jaguar             40\n",
              "Fiat               28\n",
              "Mitsubishi         27\n",
              "Mini               26\n",
              "Volvo              21\n",
              "Porsche            18\n",
              "Jeep               15\n",
              "Datsun             13\n",
              "Force               3\n",
              "ISUZU               2\n",
              "Smart               1\n",
              "Ambassador          1\n",
              "Isuzu               1\n",
              "Bentley             1\n",
              "Lamborghini         1\n",
              "Name: Make, dtype: int64"
            ]
          },
          "metadata": {},
          "execution_count": 507
        }
      ]
    },
    {
      "cell_type": "markdown",
      "source": [
        "Since there are Makes that have only one car in this data, the Power column still has 1 NaN value remaining - we will impute the entire data's Power median for that below."
      ],
      "metadata": {
        "id": "vUi8QCYfuH5I"
      }
    },
    {
      "cell_type": "code",
      "source": [
        "index1 = df3[ df3.Power.isnull() ].index[0]\n",
        "print(index1)\n",
        "df3[ df3.Power.isnull() ]"
      ],
      "metadata": {
        "colab": {
          "base_uri": "https://localhost:8080/",
          "height": 159
        },
        "id": "L2b3Uj2Gi4eE",
        "outputId": "ebb06395-14f1-4c70-a8bd-e5ed327e560c"
      },
      "execution_count": 508,
      "outputs": [
        {
          "output_type": "stream",
          "name": "stdout",
          "text": [
            "915\n"
          ]
        },
        {
          "output_type": "execute_result",
          "data": {
            "text/plain": [
              "                    Name Location  Year  Kilometers_Driven Fuel_Type  \\\n",
              "915  Smart Fortwo CDI AT     Pune  2008             103000    Diesel   \n",
              "\n",
              "    Transmission Owner_Type  Mileage  Engine  Power  Seats  New_Price  Price  \\\n",
              "915    Automatic     Second      0.0   799.0    NaN    2.0       11.3    3.0   \n",
              "\n",
              "      Make  \n",
              "915  Smart  "
            ],
            "text/html": [
              "\n",
              "  <div id=\"df-39166b68-bb40-4da9-89e0-052f04d177c8\">\n",
              "    <div class=\"colab-df-container\">\n",
              "      <div>\n",
              "<style scoped>\n",
              "    .dataframe tbody tr th:only-of-type {\n",
              "        vertical-align: middle;\n",
              "    }\n",
              "\n",
              "    .dataframe tbody tr th {\n",
              "        vertical-align: top;\n",
              "    }\n",
              "\n",
              "    .dataframe thead th {\n",
              "        text-align: right;\n",
              "    }\n",
              "</style>\n",
              "<table border=\"1\" class=\"dataframe\">\n",
              "  <thead>\n",
              "    <tr style=\"text-align: right;\">\n",
              "      <th></th>\n",
              "      <th>Name</th>\n",
              "      <th>Location</th>\n",
              "      <th>Year</th>\n",
              "      <th>Kilometers_Driven</th>\n",
              "      <th>Fuel_Type</th>\n",
              "      <th>Transmission</th>\n",
              "      <th>Owner_Type</th>\n",
              "      <th>Mileage</th>\n",
              "      <th>Engine</th>\n",
              "      <th>Power</th>\n",
              "      <th>Seats</th>\n",
              "      <th>New_Price</th>\n",
              "      <th>Price</th>\n",
              "      <th>Make</th>\n",
              "    </tr>\n",
              "  </thead>\n",
              "  <tbody>\n",
              "    <tr>\n",
              "      <th>915</th>\n",
              "      <td>Smart Fortwo CDI AT</td>\n",
              "      <td>Pune</td>\n",
              "      <td>2008</td>\n",
              "      <td>103000</td>\n",
              "      <td>Diesel</td>\n",
              "      <td>Automatic</td>\n",
              "      <td>Second</td>\n",
              "      <td>0.0</td>\n",
              "      <td>799.0</td>\n",
              "      <td>NaN</td>\n",
              "      <td>2.0</td>\n",
              "      <td>11.3</td>\n",
              "      <td>3.0</td>\n",
              "      <td>Smart</td>\n",
              "    </tr>\n",
              "  </tbody>\n",
              "</table>\n",
              "</div>\n",
              "      <button class=\"colab-df-convert\" onclick=\"convertToInteractive('df-39166b68-bb40-4da9-89e0-052f04d177c8')\"\n",
              "              title=\"Convert this dataframe to an interactive table.\"\n",
              "              style=\"display:none;\">\n",
              "        \n",
              "  <svg xmlns=\"http://www.w3.org/2000/svg\" height=\"24px\"viewBox=\"0 0 24 24\"\n",
              "       width=\"24px\">\n",
              "    <path d=\"M0 0h24v24H0V0z\" fill=\"none\"/>\n",
              "    <path d=\"M18.56 5.44l.94 2.06.94-2.06 2.06-.94-2.06-.94-.94-2.06-.94 2.06-2.06.94zm-11 1L8.5 8.5l.94-2.06 2.06-.94-2.06-.94L8.5 2.5l-.94 2.06-2.06.94zm10 10l.94 2.06.94-2.06 2.06-.94-2.06-.94-.94-2.06-.94 2.06-2.06.94z\"/><path d=\"M17.41 7.96l-1.37-1.37c-.4-.4-.92-.59-1.43-.59-.52 0-1.04.2-1.43.59L10.3 9.45l-7.72 7.72c-.78.78-.78 2.05 0 2.83L4 21.41c.39.39.9.59 1.41.59.51 0 1.02-.2 1.41-.59l7.78-7.78 2.81-2.81c.8-.78.8-2.07 0-2.86zM5.41 20L4 18.59l7.72-7.72 1.47 1.35L5.41 20z\"/>\n",
              "  </svg>\n",
              "      </button>\n",
              "      \n",
              "  <style>\n",
              "    .colab-df-container {\n",
              "      display:flex;\n",
              "      flex-wrap:wrap;\n",
              "      gap: 12px;\n",
              "    }\n",
              "\n",
              "    .colab-df-convert {\n",
              "      background-color: #E8F0FE;\n",
              "      border: none;\n",
              "      border-radius: 50%;\n",
              "      cursor: pointer;\n",
              "      display: none;\n",
              "      fill: #1967D2;\n",
              "      height: 32px;\n",
              "      padding: 0 0 0 0;\n",
              "      width: 32px;\n",
              "    }\n",
              "\n",
              "    .colab-df-convert:hover {\n",
              "      background-color: #E2EBFA;\n",
              "      box-shadow: 0px 1px 2px rgba(60, 64, 67, 0.3), 0px 1px 3px 1px rgba(60, 64, 67, 0.15);\n",
              "      fill: #174EA6;\n",
              "    }\n",
              "\n",
              "    [theme=dark] .colab-df-convert {\n",
              "      background-color: #3B4455;\n",
              "      fill: #D2E3FC;\n",
              "    }\n",
              "\n",
              "    [theme=dark] .colab-df-convert:hover {\n",
              "      background-color: #434B5C;\n",
              "      box-shadow: 0px 1px 3px 1px rgba(0, 0, 0, 0.15);\n",
              "      filter: drop-shadow(0px 1px 2px rgba(0, 0, 0, 0.3));\n",
              "      fill: #FFFFFF;\n",
              "    }\n",
              "  </style>\n",
              "\n",
              "      <script>\n",
              "        const buttonEl =\n",
              "          document.querySelector('#df-39166b68-bb40-4da9-89e0-052f04d177c8 button.colab-df-convert');\n",
              "        buttonEl.style.display =\n",
              "          google.colab.kernel.accessAllowed ? 'block' : 'none';\n",
              "\n",
              "        async function convertToInteractive(key) {\n",
              "          const element = document.querySelector('#df-39166b68-bb40-4da9-89e0-052f04d177c8');\n",
              "          const dataTable =\n",
              "            await google.colab.kernel.invokeFunction('convertToInteractive',\n",
              "                                                     [key], {});\n",
              "          if (!dataTable) return;\n",
              "\n",
              "          const docLinkHtml = 'Like what you see? Visit the ' +\n",
              "            '<a target=\"_blank\" href=https://colab.research.google.com/notebooks/data_table.ipynb>data table notebook</a>'\n",
              "            + ' to learn more about interactive tables.';\n",
              "          element.innerHTML = '';\n",
              "          dataTable['output_type'] = 'display_data';\n",
              "          await google.colab.output.renderOutput(dataTable, element);\n",
              "          const docLink = document.createElement('div');\n",
              "          docLink.innerHTML = docLinkHtml;\n",
              "          element.appendChild(docLink);\n",
              "        }\n",
              "      </script>\n",
              "    </div>\n",
              "  </div>\n",
              "  "
            ]
          },
          "metadata": {},
          "execution_count": 508
        }
      ]
    },
    {
      "cell_type": "code",
      "source": [
        "df3.loc[index1,'Power'] = df3['Power'].median()\n",
        "del index1 # deleting for memory usage"
      ],
      "metadata": {
        "id": "Vyv62oh5qFbn"
      },
      "execution_count": 509,
      "outputs": []
    },
    {
      "cell_type": "code",
      "source": [
        "display_missing(df3)"
      ],
      "metadata": {
        "colab": {
          "base_uri": "https://localhost:8080/"
        },
        "id": "DSpyLpZ6qTnZ",
        "outputId": "e1fd5c2c-5e3d-4ebb-aa2e-6f4db5398d38"
      },
      "execution_count": 510,
      "outputs": [
        {
          "output_type": "stream",
          "name": "stdout",
          "text": [
            "Year has 0 NaN values and 0 zero values \n",
            "Kilometers_Driven has 0 NaN values and 0 zero values \n",
            "Mileage has 2 NaN values and 68 zero values \n",
            "Engine has 0 NaN values and 0 zero values \n",
            "Power has 0 NaN values and 0 zero values \n",
            "Seats has 0 NaN values and 1 zero values \n",
            "New_Price has 0 NaN values and 0 zero values \n",
            "Price has 0 NaN values and 0 zero values \n"
          ]
        }
      ]
    },
    {
      "cell_type": "markdown",
      "source": [
        "### Dealing with 0 values\n",
        "Since Seats has only one value that is 0, let's quickly deal with that before diving into dealing with Mileage's 0 values"
      ],
      "metadata": {
        "id": "s7byIOVBr7NC"
      }
    },
    {
      "cell_type": "code",
      "source": [
        "df3[df3['Seats'].apply(lambda x: x == 0)]"
      ],
      "metadata": {
        "id": "asMrt-OWWaAc",
        "colab": {
          "base_uri": "https://localhost:8080/",
          "height": 159
        },
        "outputId": "e44d9f1e-249b-49ea-de81-0b4de0acc499"
      },
      "execution_count": 511,
      "outputs": [
        {
          "output_type": "execute_result",
          "data": {
            "text/plain": [
              "                                   Name   Location  Year  Kilometers_Driven  \\\n",
              "3999  Audi A4 3.2 FSI Tiptronic Quattro  Hyderabad  2012             125000   \n",
              "\n",
              "     Fuel_Type Transmission Owner_Type  Mileage  Engine   Power  Seats  \\\n",
              "3999    Petrol    Automatic      First     10.5  3197.0  174.33    0.0   \n",
              "\n",
              "      New_Price  Price  Make  \n",
              "3999      53.14   18.0  Audi  "
            ],
            "text/html": [
              "\n",
              "  <div id=\"df-c9585cb1-eadb-4a82-89ff-651f379692b4\">\n",
              "    <div class=\"colab-df-container\">\n",
              "      <div>\n",
              "<style scoped>\n",
              "    .dataframe tbody tr th:only-of-type {\n",
              "        vertical-align: middle;\n",
              "    }\n",
              "\n",
              "    .dataframe tbody tr th {\n",
              "        vertical-align: top;\n",
              "    }\n",
              "\n",
              "    .dataframe thead th {\n",
              "        text-align: right;\n",
              "    }\n",
              "</style>\n",
              "<table border=\"1\" class=\"dataframe\">\n",
              "  <thead>\n",
              "    <tr style=\"text-align: right;\">\n",
              "      <th></th>\n",
              "      <th>Name</th>\n",
              "      <th>Location</th>\n",
              "      <th>Year</th>\n",
              "      <th>Kilometers_Driven</th>\n",
              "      <th>Fuel_Type</th>\n",
              "      <th>Transmission</th>\n",
              "      <th>Owner_Type</th>\n",
              "      <th>Mileage</th>\n",
              "      <th>Engine</th>\n",
              "      <th>Power</th>\n",
              "      <th>Seats</th>\n",
              "      <th>New_Price</th>\n",
              "      <th>Price</th>\n",
              "      <th>Make</th>\n",
              "    </tr>\n",
              "  </thead>\n",
              "  <tbody>\n",
              "    <tr>\n",
              "      <th>3999</th>\n",
              "      <td>Audi A4 3.2 FSI Tiptronic Quattro</td>\n",
              "      <td>Hyderabad</td>\n",
              "      <td>2012</td>\n",
              "      <td>125000</td>\n",
              "      <td>Petrol</td>\n",
              "      <td>Automatic</td>\n",
              "      <td>First</td>\n",
              "      <td>10.5</td>\n",
              "      <td>3197.0</td>\n",
              "      <td>174.33</td>\n",
              "      <td>0.0</td>\n",
              "      <td>53.14</td>\n",
              "      <td>18.0</td>\n",
              "      <td>Audi</td>\n",
              "    </tr>\n",
              "  </tbody>\n",
              "</table>\n",
              "</div>\n",
              "      <button class=\"colab-df-convert\" onclick=\"convertToInteractive('df-c9585cb1-eadb-4a82-89ff-651f379692b4')\"\n",
              "              title=\"Convert this dataframe to an interactive table.\"\n",
              "              style=\"display:none;\">\n",
              "        \n",
              "  <svg xmlns=\"http://www.w3.org/2000/svg\" height=\"24px\"viewBox=\"0 0 24 24\"\n",
              "       width=\"24px\">\n",
              "    <path d=\"M0 0h24v24H0V0z\" fill=\"none\"/>\n",
              "    <path d=\"M18.56 5.44l.94 2.06.94-2.06 2.06-.94-2.06-.94-.94-2.06-.94 2.06-2.06.94zm-11 1L8.5 8.5l.94-2.06 2.06-.94-2.06-.94L8.5 2.5l-.94 2.06-2.06.94zm10 10l.94 2.06.94-2.06 2.06-.94-2.06-.94-.94-2.06-.94 2.06-2.06.94z\"/><path d=\"M17.41 7.96l-1.37-1.37c-.4-.4-.92-.59-1.43-.59-.52 0-1.04.2-1.43.59L10.3 9.45l-7.72 7.72c-.78.78-.78 2.05 0 2.83L4 21.41c.39.39.9.59 1.41.59.51 0 1.02-.2 1.41-.59l7.78-7.78 2.81-2.81c.8-.78.8-2.07 0-2.86zM5.41 20L4 18.59l7.72-7.72 1.47 1.35L5.41 20z\"/>\n",
              "  </svg>\n",
              "      </button>\n",
              "      \n",
              "  <style>\n",
              "    .colab-df-container {\n",
              "      display:flex;\n",
              "      flex-wrap:wrap;\n",
              "      gap: 12px;\n",
              "    }\n",
              "\n",
              "    .colab-df-convert {\n",
              "      background-color: #E8F0FE;\n",
              "      border: none;\n",
              "      border-radius: 50%;\n",
              "      cursor: pointer;\n",
              "      display: none;\n",
              "      fill: #1967D2;\n",
              "      height: 32px;\n",
              "      padding: 0 0 0 0;\n",
              "      width: 32px;\n",
              "    }\n",
              "\n",
              "    .colab-df-convert:hover {\n",
              "      background-color: #E2EBFA;\n",
              "      box-shadow: 0px 1px 2px rgba(60, 64, 67, 0.3), 0px 1px 3px 1px rgba(60, 64, 67, 0.15);\n",
              "      fill: #174EA6;\n",
              "    }\n",
              "\n",
              "    [theme=dark] .colab-df-convert {\n",
              "      background-color: #3B4455;\n",
              "      fill: #D2E3FC;\n",
              "    }\n",
              "\n",
              "    [theme=dark] .colab-df-convert:hover {\n",
              "      background-color: #434B5C;\n",
              "      box-shadow: 0px 1px 3px 1px rgba(0, 0, 0, 0.15);\n",
              "      filter: drop-shadow(0px 1px 2px rgba(0, 0, 0, 0.3));\n",
              "      fill: #FFFFFF;\n",
              "    }\n",
              "  </style>\n",
              "\n",
              "      <script>\n",
              "        const buttonEl =\n",
              "          document.querySelector('#df-c9585cb1-eadb-4a82-89ff-651f379692b4 button.colab-df-convert');\n",
              "        buttonEl.style.display =\n",
              "          google.colab.kernel.accessAllowed ? 'block' : 'none';\n",
              "\n",
              "        async function convertToInteractive(key) {\n",
              "          const element = document.querySelector('#df-c9585cb1-eadb-4a82-89ff-651f379692b4');\n",
              "          const dataTable =\n",
              "            await google.colab.kernel.invokeFunction('convertToInteractive',\n",
              "                                                     [key], {});\n",
              "          if (!dataTable) return;\n",
              "\n",
              "          const docLinkHtml = 'Like what you see? Visit the ' +\n",
              "            '<a target=\"_blank\" href=https://colab.research.google.com/notebooks/data_table.ipynb>data table notebook</a>'\n",
              "            + ' to learn more about interactive tables.';\n",
              "          element.innerHTML = '';\n",
              "          dataTable['output_type'] = 'display_data';\n",
              "          await google.colab.output.renderOutput(dataTable, element);\n",
              "          const docLink = document.createElement('div');\n",
              "          docLink.innerHTML = docLinkHtml;\n",
              "          element.appendChild(docLink);\n",
              "        }\n",
              "      </script>\n",
              "    </div>\n",
              "  </div>\n",
              "  "
            ]
          },
          "metadata": {},
          "execution_count": 511
        }
      ]
    },
    {
      "cell_type": "markdown",
      "source": [
        "We know that Audi A4 3.2 FSI Tiptronic Quattro gas 5 seats, so we can replace this value by 5."
      ],
      "metadata": {
        "id": "t92Y5MgRWofN"
      }
    },
    {
      "cell_type": "code",
      "source": [
        "df3.loc[3999,'Seats'] = 5"
      ],
      "metadata": {
        "id": "QOb5dJ7r79tt"
      },
      "execution_count": 512,
      "outputs": []
    },
    {
      "cell_type": "code",
      "source": [
        "display_missing(df3)"
      ],
      "metadata": {
        "colab": {
          "base_uri": "https://localhost:8080/"
        },
        "id": "wqf4GQr_Hm9A",
        "outputId": "16df8e2b-546f-40de-d021-ce4567030125"
      },
      "execution_count": 513,
      "outputs": [
        {
          "output_type": "stream",
          "name": "stdout",
          "text": [
            "Year has 0 NaN values and 0 zero values \n",
            "Kilometers_Driven has 0 NaN values and 0 zero values \n",
            "Mileage has 2 NaN values and 68 zero values \n",
            "Engine has 0 NaN values and 0 zero values \n",
            "Power has 0 NaN values and 0 zero values \n",
            "Seats has 0 NaN values and 0 zero values \n",
            "New_Price has 0 NaN values and 0 zero values \n",
            "Price has 0 NaN values and 0 zero values \n"
          ]
        }
      ]
    },
    {
      "cell_type": "markdown",
      "source": [
        "Let's try to impute Mileage's values from within. First, let's look at the duplicates"
      ],
      "metadata": {
        "id": "dyuhRUBbxLIy"
      }
    },
    {
      "cell_type": "code",
      "source": [
        "print( f\"{df3[ df3['Mileage'].apply(lambda x: x == 0) ][['Name']].duplicated().sum()} car names are duplicated with Mileage = 0.0.\" )"
      ],
      "metadata": {
        "colab": {
          "base_uri": "https://localhost:8080/"
        },
        "id": "TH5Nnih_xP9k",
        "outputId": "86f32fa2-5c88-4a9b-8368-36e6236277e6"
      },
      "execution_count": 514,
      "outputs": [
        {
          "output_type": "stream",
          "name": "stdout",
          "text": [
            "35 car names are duplicated with Mileage = 0.0.\n"
          ]
        }
      ]
    },
    {
      "cell_type": "code",
      "source": [
        "df3[ df3['Mileage'].apply(lambda x: x == 0) ]['Name'].unique().shape"
      ],
      "metadata": {
        "colab": {
          "base_uri": "https://localhost:8080/"
        },
        "id": "XCjhCNlnxmVK",
        "outputId": "9e49e0af-35a3-48b1-d28c-773fab0e8628"
      },
      "execution_count": 515,
      "outputs": [
        {
          "output_type": "execute_result",
          "data": {
            "text/plain": [
              "(33,)"
            ]
          },
          "metadata": {},
          "execution_count": 515
        }
      ]
    },
    {
      "cell_type": "markdown",
      "source": [
        "From 68 values that are zero, 33 car names are unique."
      ],
      "metadata": {
        "id": "KhRM1f1xxfUW"
      }
    },
    {
      "cell_type": "code",
      "source": [
        "df4 = df3.copy()\n",
        "\n",
        "def impute_from_within_zero(df,col_name):\n",
        "  # first we get list of unique car names where col_name value(s) is/are zero\n",
        "  cars_missing = df[df[col_name].apply(lambda x: x == 0) ]['Name'].unique()\n",
        "\n",
        "  # for each car in the above list, get the col_name value(s) for the car with non-zero values, and impute into zero indices\n",
        "  for car in cars_missing:\n",
        "    # array of wherever this car's col_name values are not zero\n",
        "    bool_array = df[df['Name'] == car][col_name].apply(lambda x: x == 0) == False\n",
        "\n",
        "    # if at least one car in the list has non-zero value, then impute that value into the indices where col_name value is zero\n",
        "    if bool_array.any() == True:\n",
        "      notZero_ind = np.where( df[df['Name'] == car][col_name].apply(lambda x: x == 0) == False)[0]\n",
        "      zero_ind    = np.where( df[df['Name'] == car][col_name].apply(lambda x: x == 0) )[0]\n",
        "      row_ind     = df[df['Name'] == car][col_name].index\n",
        "\n",
        "      if np.size(notZero_ind) == 1:\n",
        "        ind = notZero_ind\n",
        "      elif np.size(notZero_ind) > 1:\n",
        "        ind = notZero_ind[0]\n",
        "\n",
        "      # get and impute Seats value\n",
        "      imp_value = df[col_name].iloc[row_ind].iloc[ind]\n",
        "      df.loc[row_ind[zero_ind],col_name] = imp_value \n",
        "\n",
        "impute_from_within_zero(df4, 'Mileage')\n",
        "display_missing(df4)"
      ],
      "metadata": {
        "colab": {
          "base_uri": "https://localhost:8080/"
        },
        "id": "ftM03f9Eyddb",
        "outputId": "f7ed49eb-9e78-4c71-d5cf-efb4eaae3d12"
      },
      "execution_count": 516,
      "outputs": [
        {
          "output_type": "stream",
          "name": "stdout",
          "text": [
            "Year has 0 NaN values and 0 zero values \n",
            "Kilometers_Driven has 0 NaN values and 0 zero values \n",
            "Mileage has 2 NaN values and 65 zero values \n",
            "Engine has 0 NaN values and 0 zero values \n",
            "Power has 0 NaN values and 0 zero values \n",
            "Seats has 0 NaN values and 0 zero values \n",
            "New_Price has 0 NaN values and 0 zero values \n",
            "Price has 0 NaN values and 0 zero values \n"
          ]
        }
      ]
    },
    {
      "cell_type": "markdown",
      "source": [
        "We see that we were successfully only able to impute 68-65=3 values accurately. We can impute the rest with each car's Make's median value."
      ],
      "metadata": {
        "id": "1lXObPYezo14"
      }
    },
    {
      "cell_type": "code",
      "source": [
        "df5 = df4.copy()\n",
        "\n",
        "carMakes = df5.groupby(['Make'])['Mileage'].median().index\n",
        "dict1 = df5.groupby(['Make'])['Mileage'].indices\n",
        "\n",
        "for i,make in enumerate(carMakes):\n",
        "  ind = df5.iloc[dict1[make]][ df5.iloc[dict1[make]]['Mileage'] == 0 ].index\n",
        "  if np.size(ind) > 0:\n",
        "    # get the median for the make\n",
        "    med = df5.groupby(['Make'])['Mileage'].median()[i]\n",
        "    print(f\"For {make}, median = {med}, indices that have mileage = 0 are:\")\n",
        "    print(f\"{ind}\\n\")\n",
        "    # impute the median for all zero values\n",
        "    df5.loc[ind,'Mileage'] = med\n",
        "\n",
        "display_missing(df5)"
      ],
      "metadata": {
        "colab": {
          "base_uri": "https://localhost:8080/"
        },
        "id": "CYyREEZPzvJT",
        "outputId": "dcc3b999-0771-4a24-9a44-33c25d1831ab"
      },
      "execution_count": 520,
      "outputs": [
        {
          "output_type": "stream",
          "name": "stdout",
          "text": [
            "For Audi, median = 15.73, indices that have mileage = 0 are:\n",
            "Int64Index([3093], dtype='int64')\n",
            "\n",
            "For Fiat, median = 18.4, indices that have mileage = 0 are:\n",
            "Int64Index([4629], dtype='int64')\n",
            "\n",
            "For Ford, median = 18.88, indices that have mileage = 0 are:\n",
            "Int64Index([229], dtype='int64')\n",
            "\n",
            "For Hyundai, median = 18.9, indices that have mileage = 0 are:\n",
            "Int64Index([  79,  262,  307,  443,  631,  647,  996, 1059, 1271, 1354, 1419,\n",
            "            1857, 2096, 2130, 2343, 2542, 2597, 2780, 2842, 3033, 3044, 3061,\n",
            "            3189, 3271, 3516, 3522, 3645, 4302, 5119, 5426, 5529, 5972],\n",
            "           dtype='int64')\n",
            "\n",
            "For Land, median = 12.63, indices that have mileage = 0 are:\n",
            "Int64Index([14, 749, 1259, 1460, 4152, 4687, 5016, 5022, 5311], dtype='int64')\n",
            "\n",
            "For Mahindra, median = 15.1, indices that have mileage = 0 are:\n",
            "Int64Index([2053, 5943], dtype='int64')\n",
            "\n",
            "For Maruti, median = 21.4, indices that have mileage = 0 are:\n",
            "Int64Index([1345], dtype='int64')\n",
            "\n",
            "For Mercedes-Benz, median = 14.21, indices that have mileage = 0 are:\n",
            "Int64Index([67, 544, 707, 962, 1308, 1764, 3210, 4234, 4412, 4704, 5374, 5875], dtype='int64')\n",
            "\n",
            "For Skoda, median = 17.2, indices that have mileage = 0 are:\n",
            "Int64Index([2681, 6011], dtype='int64')\n",
            "\n",
            "For Smart, median = 0.0, indices that have mileage = 0 are:\n",
            "Int64Index([915], dtype='int64')\n",
            "\n",
            "For Toyota, median = 12.99, indices that have mileage = 0 are:\n",
            "Int64Index([2267, 5647], dtype='int64')\n",
            "\n",
            "For Volkswagen, median = 17.21, indices that have mileage = 0 are:\n",
            "Int64Index([424], dtype='int64')\n",
            "\n",
            "Year has 0 NaN values and 0 zero values \n",
            "Kilometers_Driven has 0 NaN values and 0 zero values \n",
            "Mileage has 2 NaN values and 1 zero values \n",
            "Engine has 0 NaN values and 0 zero values \n",
            "Power has 0 NaN values and 0 zero values \n",
            "Seats has 0 NaN values and 0 zero values \n",
            "New_Price has 0 NaN values and 0 zero values \n",
            "Price has 0 NaN values and 0 zero values \n"
          ]
        }
      ]
    },
    {
      "cell_type": "markdown",
      "source": [
        "Since there are Makes that have only one car in this data, the Mileage column still has 1 NaN value remaining - we will impute the entire data's Mileage median for that below."
      ],
      "metadata": {
        "id": "zRc93h6VUdIc"
      }
    },
    {
      "cell_type": "code",
      "source": [
        "df5[df5.Mileage == 0]"
      ],
      "metadata": {
        "colab": {
          "base_uri": "https://localhost:8080/",
          "height": 142
        },
        "id": "B3EmroXeQ3GS",
        "outputId": "127ce412-fdfc-4fbe-ad37-2a7654f9b922"
      },
      "execution_count": 521,
      "outputs": [
        {
          "output_type": "execute_result",
          "data": {
            "text/plain": [
              "                    Name Location  Year  Kilometers_Driven Fuel_Type  \\\n",
              "915  Smart Fortwo CDI AT     Pune  2008             103000    Diesel   \n",
              "\n",
              "    Transmission Owner_Type  Mileage  Engine  Power  Seats  New_Price  Price  \\\n",
              "915    Automatic     Second      0.0   799.0   93.7    2.0       11.3    3.0   \n",
              "\n",
              "      Make  \n",
              "915  Smart  "
            ],
            "text/html": [
              "\n",
              "  <div id=\"df-67895c0a-cd29-4d27-b38e-359de89a3645\">\n",
              "    <div class=\"colab-df-container\">\n",
              "      <div>\n",
              "<style scoped>\n",
              "    .dataframe tbody tr th:only-of-type {\n",
              "        vertical-align: middle;\n",
              "    }\n",
              "\n",
              "    .dataframe tbody tr th {\n",
              "        vertical-align: top;\n",
              "    }\n",
              "\n",
              "    .dataframe thead th {\n",
              "        text-align: right;\n",
              "    }\n",
              "</style>\n",
              "<table border=\"1\" class=\"dataframe\">\n",
              "  <thead>\n",
              "    <tr style=\"text-align: right;\">\n",
              "      <th></th>\n",
              "      <th>Name</th>\n",
              "      <th>Location</th>\n",
              "      <th>Year</th>\n",
              "      <th>Kilometers_Driven</th>\n",
              "      <th>Fuel_Type</th>\n",
              "      <th>Transmission</th>\n",
              "      <th>Owner_Type</th>\n",
              "      <th>Mileage</th>\n",
              "      <th>Engine</th>\n",
              "      <th>Power</th>\n",
              "      <th>Seats</th>\n",
              "      <th>New_Price</th>\n",
              "      <th>Price</th>\n",
              "      <th>Make</th>\n",
              "    </tr>\n",
              "  </thead>\n",
              "  <tbody>\n",
              "    <tr>\n",
              "      <th>915</th>\n",
              "      <td>Smart Fortwo CDI AT</td>\n",
              "      <td>Pune</td>\n",
              "      <td>2008</td>\n",
              "      <td>103000</td>\n",
              "      <td>Diesel</td>\n",
              "      <td>Automatic</td>\n",
              "      <td>Second</td>\n",
              "      <td>0.0</td>\n",
              "      <td>799.0</td>\n",
              "      <td>93.7</td>\n",
              "      <td>2.0</td>\n",
              "      <td>11.3</td>\n",
              "      <td>3.0</td>\n",
              "      <td>Smart</td>\n",
              "    </tr>\n",
              "  </tbody>\n",
              "</table>\n",
              "</div>\n",
              "      <button class=\"colab-df-convert\" onclick=\"convertToInteractive('df-67895c0a-cd29-4d27-b38e-359de89a3645')\"\n",
              "              title=\"Convert this dataframe to an interactive table.\"\n",
              "              style=\"display:none;\">\n",
              "        \n",
              "  <svg xmlns=\"http://www.w3.org/2000/svg\" height=\"24px\"viewBox=\"0 0 24 24\"\n",
              "       width=\"24px\">\n",
              "    <path d=\"M0 0h24v24H0V0z\" fill=\"none\"/>\n",
              "    <path d=\"M18.56 5.44l.94 2.06.94-2.06 2.06-.94-2.06-.94-.94-2.06-.94 2.06-2.06.94zm-11 1L8.5 8.5l.94-2.06 2.06-.94-2.06-.94L8.5 2.5l-.94 2.06-2.06.94zm10 10l.94 2.06.94-2.06 2.06-.94-2.06-.94-.94-2.06-.94 2.06-2.06.94z\"/><path d=\"M17.41 7.96l-1.37-1.37c-.4-.4-.92-.59-1.43-.59-.52 0-1.04.2-1.43.59L10.3 9.45l-7.72 7.72c-.78.78-.78 2.05 0 2.83L4 21.41c.39.39.9.59 1.41.59.51 0 1.02-.2 1.41-.59l7.78-7.78 2.81-2.81c.8-.78.8-2.07 0-2.86zM5.41 20L4 18.59l7.72-7.72 1.47 1.35L5.41 20z\"/>\n",
              "  </svg>\n",
              "      </button>\n",
              "      \n",
              "  <style>\n",
              "    .colab-df-container {\n",
              "      display:flex;\n",
              "      flex-wrap:wrap;\n",
              "      gap: 12px;\n",
              "    }\n",
              "\n",
              "    .colab-df-convert {\n",
              "      background-color: #E8F0FE;\n",
              "      border: none;\n",
              "      border-radius: 50%;\n",
              "      cursor: pointer;\n",
              "      display: none;\n",
              "      fill: #1967D2;\n",
              "      height: 32px;\n",
              "      padding: 0 0 0 0;\n",
              "      width: 32px;\n",
              "    }\n",
              "\n",
              "    .colab-df-convert:hover {\n",
              "      background-color: #E2EBFA;\n",
              "      box-shadow: 0px 1px 2px rgba(60, 64, 67, 0.3), 0px 1px 3px 1px rgba(60, 64, 67, 0.15);\n",
              "      fill: #174EA6;\n",
              "    }\n",
              "\n",
              "    [theme=dark] .colab-df-convert {\n",
              "      background-color: #3B4455;\n",
              "      fill: #D2E3FC;\n",
              "    }\n",
              "\n",
              "    [theme=dark] .colab-df-convert:hover {\n",
              "      background-color: #434B5C;\n",
              "      box-shadow: 0px 1px 3px 1px rgba(0, 0, 0, 0.15);\n",
              "      filter: drop-shadow(0px 1px 2px rgba(0, 0, 0, 0.3));\n",
              "      fill: #FFFFFF;\n",
              "    }\n",
              "  </style>\n",
              "\n",
              "      <script>\n",
              "        const buttonEl =\n",
              "          document.querySelector('#df-67895c0a-cd29-4d27-b38e-359de89a3645 button.colab-df-convert');\n",
              "        buttonEl.style.display =\n",
              "          google.colab.kernel.accessAllowed ? 'block' : 'none';\n",
              "\n",
              "        async function convertToInteractive(key) {\n",
              "          const element = document.querySelector('#df-67895c0a-cd29-4d27-b38e-359de89a3645');\n",
              "          const dataTable =\n",
              "            await google.colab.kernel.invokeFunction('convertToInteractive',\n",
              "                                                     [key], {});\n",
              "          if (!dataTable) return;\n",
              "\n",
              "          const docLinkHtml = 'Like what you see? Visit the ' +\n",
              "            '<a target=\"_blank\" href=https://colab.research.google.com/notebooks/data_table.ipynb>data table notebook</a>'\n",
              "            + ' to learn more about interactive tables.';\n",
              "          element.innerHTML = '';\n",
              "          dataTable['output_type'] = 'display_data';\n",
              "          await google.colab.output.renderOutput(dataTable, element);\n",
              "          const docLink = document.createElement('div');\n",
              "          docLink.innerHTML = docLinkHtml;\n",
              "          element.appendChild(docLink);\n",
              "        }\n",
              "      </script>\n",
              "    </div>\n",
              "  </div>\n",
              "  "
            ]
          },
          "metadata": {},
          "execution_count": 521
        }
      ]
    },
    {
      "cell_type": "code",
      "source": [
        "df5.loc[915,'Mileage'] = df5['Mileage'].median()\n",
        "df5.loc[915,'Mileage']"
      ],
      "metadata": {
        "colab": {
          "base_uri": "https://localhost:8080/"
        },
        "id": "VyULjFrmU5ml",
        "outputId": "779de233-1ca1-445b-ad1f-f78159a51380"
      },
      "execution_count": 522,
      "outputs": [
        {
          "output_type": "execute_result",
          "data": {
            "text/plain": [
              "18.2"
            ]
          },
          "metadata": {},
          "execution_count": 522
        }
      ]
    },
    {
      "cell_type": "code",
      "source": [
        "display_missing(df5)"
      ],
      "metadata": {
        "colab": {
          "base_uri": "https://localhost:8080/"
        },
        "id": "WbLPG0h1VlBv",
        "outputId": "32ebfada-b1d7-498b-b691-2c6633602039"
      },
      "execution_count": 523,
      "outputs": [
        {
          "output_type": "stream",
          "name": "stdout",
          "text": [
            "Year has 0 NaN values and 0 zero values \n",
            "Kilometers_Driven has 0 NaN values and 0 zero values \n",
            "Mileage has 2 NaN values and 0 zero values \n",
            "Engine has 0 NaN values and 0 zero values \n",
            "Power has 0 NaN values and 0 zero values \n",
            "Seats has 0 NaN values and 0 zero values \n",
            "New_Price has 0 NaN values and 0 zero values \n",
            "Price has 0 NaN values and 0 zero values \n"
          ]
        }
      ]
    },
    {
      "cell_type": "markdown",
      "source": [
        "We are done processing missing values. Let's transition into Univariate and Bivariate Analyses."
      ],
      "metadata": {
        "id": "kUBEBvEXVn4x"
      }
    },
    {
      "cell_type": "markdown",
      "source": [
        "## Univariate Analysis"
      ],
      "metadata": {
        "id": "4mhkYjeBtar3"
      }
    },
    {
      "cell_type": "code",
      "source": [
        "df5.info()"
      ],
      "metadata": {
        "colab": {
          "base_uri": "https://localhost:8080/"
        },
        "id": "NvinDYy3aadL",
        "outputId": "fc5afaf5-c5fa-4771-b02d-ea2735fc1409"
      },
      "execution_count": 524,
      "outputs": [
        {
          "output_type": "stream",
          "name": "stdout",
          "text": [
            "<class 'pandas.core.frame.DataFrame'>\n",
            "RangeIndex: 6019 entries, 0 to 6018\n",
            "Data columns (total 14 columns):\n",
            " #   Column             Non-Null Count  Dtype  \n",
            "---  ------             --------------  -----  \n",
            " 0   Name               6019 non-null   object \n",
            " 1   Location           6019 non-null   object \n",
            " 2   Year               6019 non-null   int64  \n",
            " 3   Kilometers_Driven  6019 non-null   int64  \n",
            " 4   Fuel_Type          6019 non-null   object \n",
            " 5   Transmission       6019 non-null   object \n",
            " 6   Owner_Type         6019 non-null   object \n",
            " 7   Mileage            6017 non-null   float64\n",
            " 8   Engine             6019 non-null   float64\n",
            " 9   Power              6019 non-null   float64\n",
            " 10  Seats              6019 non-null   float64\n",
            " 11  New_Price          6019 non-null   float64\n",
            " 12  Price              6019 non-null   float64\n",
            " 13  Make               6019 non-null   object \n",
            "dtypes: float64(6), int64(2), object(6)\n",
            "memory usage: 658.5+ KB\n"
          ]
        }
      ]
    },
    {
      "cell_type": "code",
      "source": [
        "def box_hist_plot(df,col_name):\n",
        "  f2, (ax_box2, ax_hist2) = plt.subplots(nrows=2,sharex=True,figsize=(8,6))\n",
        "  sns.boxplot(data=df, x=col_name, ax=ax_box2)\n",
        "  sns.histplot(data=df, x=col_name, ax=ax_hist2, bins = 20)\n",
        "\n",
        "sns.histplot(df5, x='Seats')\n",
        "box_hist_plot(df5, 'Engine')"
      ],
      "metadata": {
        "colab": {
          "base_uri": "https://localhost:8080/",
          "height": 662
        },
        "id": "XzP-403lRaKZ",
        "outputId": "c42ca66b-dec0-4461-9cf1-f94f8436ccb6"
      },
      "execution_count": 569,
      "outputs": [
        {
          "output_type": "display_data",
          "data": {
            "text/plain": [
              "<Figure size 432x288 with 1 Axes>"
            ],
            "image/png": "[encoded data removed]"
          },
          "metadata": {}
        },
        {
          "output_type": "display_data",
          "data": {
            "text/plain": [
              "<Figure size 576x432 with 2 Axes>"
            ],
            "image/png": "[encoded data removed]"
          },
          "metadata": {}
        }
      ]
    },
    {
      "cell_type": "code",
      "source": [
        "box_hist_plot(df5, 'Power')\n",
        "box_hist_plot(df5, 'Mileage')"
      ],
      "metadata": {
        "colab": {
          "base_uri": "https://localhost:8080/",
          "height": 771
        },
        "id": "ujc5_5EzCv8W",
        "outputId": "a1346173-1ca9-4404-e9b2-e29dd15d50b6"
      },
      "execution_count": 570,
      "outputs": [
        {
          "output_type": "display_data",
          "data": {
            "text/plain": [
              "<Figure size 576x432 with 2 Axes>"
            ],
            "image/png": "[encoded data removed]"
          },
          "metadata": {}
        },
        {
          "output_type": "display_data",
          "data": {
            "text/plain": [
              "<Figure size 576x432 with 2 Axes>"
            ],
            "image/png": "[encoded data removed]"
          },
          "metadata": {}
        }
      ]
    },
    {
      "cell_type": "markdown",
      "source": [
        "Most cars in the data set are 5 seat cars. Engine and Power both are right-skewed. Mileage seems to be about normally distributed."
      ],
      "metadata": {
        "id": "NdZr8ad7Y3Hd"
      }
    },
    {
      "cell_type": "code",
      "source": [
        "box_hist_plot(df5, 'Price')"
      ],
      "metadata": {
        "id": "eThjLCpwt8cr",
        "colab": {
          "base_uri": "https://localhost:8080/",
          "height": 394
        },
        "outputId": "6f48f3aa-42bb-4ee6-b9ad-3a5d4450c2b2"
      },
      "execution_count": 571,
      "outputs": [
        {
          "output_type": "display_data",
          "data": {
            "text/plain": [
              "<Figure size 576x432 with 2 Axes>"
            ],
            "image/png": "[encoded data removed]"
          },
          "metadata": {}
        }
      ]
    },
    {
      "cell_type": "markdown",
      "source": [
        "(Used) Price is heavily right-skewed."
      ],
      "metadata": {
        "id": "tRyR4YLaZ__D"
      }
    },
    {
      "cell_type": "code",
      "source": [
        "box_hist_plot(df5, 'New_Price')"
      ],
      "metadata": {
        "colab": {
          "base_uri": "https://localhost:8080/",
          "height": 394
        },
        "id": "7L6Nc_GyaJRV",
        "outputId": "0bc2472e-42bb-42d5-e271-dc7d73f926ee"
      },
      "execution_count": 572,
      "outputs": [
        {
          "output_type": "display_data",
          "data": {
            "text/plain": [
              "<Figure size 576x432 with 2 Axes>"
            ],
            "image/png": "[encoded data removed]"
          },
          "metadata": {}
        }
      ]
    },
    {
      "cell_type": "markdown",
      "source": [
        "New Price is also heavily right-skewed. A couple outliers on the far right must be explored."
      ],
      "metadata": {
        "id": "pBA1nRmIaM19"
      }
    },
    {
      "cell_type": "code",
      "source": [
        "df5[ df5['New_Price'] > 200 ]"
      ],
      "metadata": {
        "colab": {
          "base_uri": "https://localhost:8080/",
          "height": 260
        },
        "id": "nt30w49Sa1ae",
        "outputId": "1cef9fc0-29ce-4e34-a8cc-b42057d598ad"
      },
      "execution_count": 528,
      "outputs": [
        {
          "output_type": "execute_result",
          "data": {
            "text/plain": [
              "                                             Name   Location  Year  \\\n",
              "4079  Land Rover Range Rover 3.0 Diesel LWB Vogue  Hyderabad  2017   \n",
              "5521              Bentley Continental Flying Spur  Hyderabad  2006   \n",
              "\n",
              "      Kilometers_Driven Fuel_Type Transmission Owner_Type  Mileage  Engine  \\\n",
              "4079              25000    Diesel    Automatic      First    13.33  2993.0   \n",
              "5521              48000    Petrol    Automatic      First     8.60  5998.0   \n",
              "\n",
              "      Power  Seats  New_Price  Price     Make  \n",
              "4079  255.0    5.0      230.0  160.0     Land  \n",
              "5521  552.0    4.0      375.0   59.0  Bentley  "
            ],
            "text/html": [
              "\n",
              "  <div id=\"df-54028dba-188a-4e25-a8e1-83d671051a54\">\n",
              "    <div class=\"colab-df-container\">\n",
              "      <div>\n",
              "<style scoped>\n",
              "    .dataframe tbody tr th:only-of-type {\n",
              "        vertical-align: middle;\n",
              "    }\n",
              "\n",
              "    .dataframe tbody tr th {\n",
              "        vertical-align: top;\n",
              "    }\n",
              "\n",
              "    .dataframe thead th {\n",
              "        text-align: right;\n",
              "    }\n",
              "</style>\n",
              "<table border=\"1\" class=\"dataframe\">\n",
              "  <thead>\n",
              "    <tr style=\"text-align: right;\">\n",
              "      <th></th>\n",
              "      <th>Name</th>\n",
              "      <th>Location</th>\n",
              "      <th>Year</th>\n",
              "      <th>Kilometers_Driven</th>\n",
              "      <th>Fuel_Type</th>\n",
              "      <th>Transmission</th>\n",
              "      <th>Owner_Type</th>\n",
              "      <th>Mileage</th>\n",
              "      <th>Engine</th>\n",
              "      <th>Power</th>\n",
              "      <th>Seats</th>\n",
              "      <th>New_Price</th>\n",
              "      <th>Price</th>\n",
              "      <th>Make</th>\n",
              "    </tr>\n",
              "  </thead>\n",
              "  <tbody>\n",
              "    <tr>\n",
              "      <th>4079</th>\n",
              "      <td>Land Rover Range Rover 3.0 Diesel LWB Vogue</td>\n",
              "      <td>Hyderabad</td>\n",
              "      <td>2017</td>\n",
              "      <td>25000</td>\n",
              "      <td>Diesel</td>\n",
              "      <td>Automatic</td>\n",
              "      <td>First</td>\n",
              "      <td>13.33</td>\n",
              "      <td>2993.0</td>\n",
              "      <td>255.0</td>\n",
              "      <td>5.0</td>\n",
              "      <td>230.0</td>\n",
              "      <td>160.0</td>\n",
              "      <td>Land</td>\n",
              "    </tr>\n",
              "    <tr>\n",
              "      <th>5521</th>\n",
              "      <td>Bentley Continental Flying Spur</td>\n",
              "      <td>Hyderabad</td>\n",
              "      <td>2006</td>\n",
              "      <td>48000</td>\n",
              "      <td>Petrol</td>\n",
              "      <td>Automatic</td>\n",
              "      <td>First</td>\n",
              "      <td>8.60</td>\n",
              "      <td>5998.0</td>\n",
              "      <td>552.0</td>\n",
              "      <td>4.0</td>\n",
              "      <td>375.0</td>\n",
              "      <td>59.0</td>\n",
              "      <td>Bentley</td>\n",
              "    </tr>\n",
              "  </tbody>\n",
              "</table>\n",
              "</div>\n",
              "      <button class=\"colab-df-convert\" onclick=\"convertToInteractive('df-54028dba-188a-4e25-a8e1-83d671051a54')\"\n",
              "              title=\"Convert this dataframe to an interactive table.\"\n",
              "              style=\"display:none;\">\n",
              "        \n",
              "  <svg xmlns=\"http://www.w3.org/2000/svg\" height=\"24px\"viewBox=\"0 0 24 24\"\n",
              "       width=\"24px\">\n",
              "    <path d=\"M0 0h24v24H0V0z\" fill=\"none\"/>\n",
              "    <path d=\"M18.56 5.44l.94 2.06.94-2.06 2.06-.94-2.06-.94-.94-2.06-.94 2.06-2.06.94zm-11 1L8.5 8.5l.94-2.06 2.06-.94-2.06-.94L8.5 2.5l-.94 2.06-2.06.94zm10 10l.94 2.06.94-2.06 2.06-.94-2.06-.94-.94-2.06-.94 2.06-2.06.94z\"/><path d=\"M17.41 7.96l-1.37-1.37c-.4-.4-.92-.59-1.43-.59-.52 0-1.04.2-1.43.59L10.3 9.45l-7.72 7.72c-.78.78-.78 2.05 0 2.83L4 21.41c.39.39.9.59 1.41.59.51 0 1.02-.2 1.41-.59l7.78-7.78 2.81-2.81c.8-.78.8-2.07 0-2.86zM5.41 20L4 18.59l7.72-7.72 1.47 1.35L5.41 20z\"/>\n",
              "  </svg>\n",
              "      </button>\n",
              "      \n",
              "  <style>\n",
              "    .colab-df-container {\n",
              "      display:flex;\n",
              "      flex-wrap:wrap;\n",
              "      gap: 12px;\n",
              "    }\n",
              "\n",
              "    .colab-df-convert {\n",
              "      background-color: #E8F0FE;\n",
              "      border: none;\n",
              "      border-radius: 50%;\n",
              "      cursor: pointer;\n",
              "      display: none;\n",
              "      fill: #1967D2;\n",
              "      height: 32px;\n",
              "      padding: 0 0 0 0;\n",
              "      width: 32px;\n",
              "    }\n",
              "\n",
              "    .colab-df-convert:hover {\n",
              "      background-color: #E2EBFA;\n",
              "      box-shadow: 0px 1px 2px rgba(60, 64, 67, 0.3), 0px 1px 3px 1px rgba(60, 64, 67, 0.15);\n",
              "      fill: #174EA6;\n",
              "    }\n",
              "\n",
              "    [theme=dark] .colab-df-convert {\n",
              "      background-color: #3B4455;\n",
              "      fill: #D2E3FC;\n",
              "    }\n",
              "\n",
              "    [theme=dark] .colab-df-convert:hover {\n",
              "      background-color: #434B5C;\n",
              "      box-shadow: 0px 1px 3px 1px rgba(0, 0, 0, 0.15);\n",
              "      filter: drop-shadow(0px 1px 2px rgba(0, 0, 0, 0.3));\n",
              "      fill: #FFFFFF;\n",
              "    }\n",
              "  </style>\n",
              "\n",
              "      <script>\n",
              "        const buttonEl =\n",
              "          document.querySelector('#df-54028dba-188a-4e25-a8e1-83d671051a54 button.colab-df-convert');\n",
              "        buttonEl.style.display =\n",
              "          google.colab.kernel.accessAllowed ? 'block' : 'none';\n",
              "\n",
              "        async function convertToInteractive(key) {\n",
              "          const element = document.querySelector('#df-54028dba-188a-4e25-a8e1-83d671051a54');\n",
              "          const dataTable =\n",
              "            await google.colab.kernel.invokeFunction('convertToInteractive',\n",
              "                                                     [key], {});\n",
              "          if (!dataTable) return;\n",
              "\n",
              "          const docLinkHtml = 'Like what you see? Visit the ' +\n",
              "            '<a target=\"_blank\" href=https://colab.research.google.com/notebooks/data_table.ipynb>data table notebook</a>'\n",
              "            + ' to learn more about interactive tables.';\n",
              "          element.innerHTML = '';\n",
              "          dataTable['output_type'] = 'display_data';\n",
              "          await google.colab.output.renderOutput(dataTable, element);\n",
              "          const docLink = document.createElement('div');\n",
              "          docLink.innerHTML = docLinkHtml;\n",
              "          element.appendChild(docLink);\n",
              "        }\n",
              "      </script>\n",
              "    </div>\n",
              "  </div>\n",
              "  "
            ]
          },
          "metadata": {},
          "execution_count": 528
        }
      ]
    },
    {
      "cell_type": "markdown",
      "source": [
        "Since Bentley is a high end brand, perhaps being such a high price is OK; a quick Google search validated this price. Let's explore the Land Rover make."
      ],
      "metadata": {
        "id": "x3LRkbZjcTYp"
      }
    },
    {
      "cell_type": "code",
      "source": [
        "# Km Driven < 30k for Land Rovers\n",
        "df5[ df5['Make'] == 'Land'][ df5[ df5['Make'] == 'Land']['Kilometers_Driven'] < 30000 ]"
      ],
      "metadata": {
        "colab": {
          "base_uri": "https://localhost:8080/",
          "height": 813
        },
        "id": "97UgEJR9bMOu",
        "outputId": "6ff8ec79-f74c-4f3c-8ef6-c1a891952e79"
      },
      "execution_count": 529,
      "outputs": [
        {
          "output_type": "execute_result",
          "data": {
            "text/plain": [
              "                                              Name    Location  Year  \\\n",
              "480     Land Rover Range Rover Evoque 2.0 TD4 Pure       Delhi  2015   \n",
              "1505               Land Rover Range Rover Sport SE       Kochi  2019   \n",
              "2139    Land Rover Range Rover Evoque 2.0 TD4 Pure       Kochi  2016   \n",
              "3043            Land Rover Discovery Sport TD4 HSE  Coimbatore  2019   \n",
              "4079   Land Rover Range Rover 3.0 Diesel LWB Vogue   Hyderabad  2017   \n",
              "4925              Land Rover Discovery Sport TD4 S       Delhi  2017   \n",
              "5038         Land Rover Discovery Sport TD4 HSE 7S  Coimbatore  2019   \n",
              "5067  Land Rover Discovery Sport SD4 HSE Luxury 7S  Coimbatore  2019   \n",
              "\n",
              "      Kilometers_Driven Fuel_Type Transmission Owner_Type  Mileage  Engine  \\\n",
              "480               24000    Diesel    Automatic     Second    15.68  1999.0   \n",
              "1505              26013    Diesel    Automatic      First    12.65  2993.0   \n",
              "2139              29022    Diesel    Automatic     Second    15.68  1999.0   \n",
              "3043              25899    Diesel    Automatic      First    12.63  2179.0   \n",
              "4079              25000    Diesel    Automatic      First    13.33  2993.0   \n",
              "4925              22000    Diesel    Automatic      First    12.83  2179.0   \n",
              "5038              24013    Diesel    Automatic      First    12.81  1999.0   \n",
              "5067              17201    Diesel    Automatic      First    12.51  2179.0   \n",
              "\n",
              "       Power  Seats  New_Price   Price  Make  \n",
              "480   177.00    5.0     120.00   33.50  Land  \n",
              "1505  255.00    5.0     139.00   97.07  Land  \n",
              "2139  177.00    5.0     120.00   34.08  Land  \n",
              "3043  147.50    5.0     120.00   55.70  Land  \n",
              "4079  255.00    5.0     230.00  160.00  Land  \n",
              "4925  147.50    5.0     120.00   35.00  Land  \n",
              "5038  148.31    7.0      69.22   56.14  Land  \n",
              "5067  187.70    7.0     120.00   58.91  Land  "
            ],
            "text/html": [
              "\n",
              "  <div id=\"df-7c97c3b2-c741-4c4d-b023-fb8cb16eecb4\">\n",
              "    <div class=\"colab-df-container\">\n",
              "      <div>\n",
              "<style scoped>\n",
              "    .dataframe tbody tr th:only-of-type {\n",
              "        vertical-align: middle;\n",
              "    }\n",
              "\n",
              "    .dataframe tbody tr th {\n",
              "        vertical-align: top;\n",
              "    }\n",
              "\n",
              "    .dataframe thead th {\n",
              "        text-align: right;\n",
              "    }\n",
              "</style>\n",
              "<table border=\"1\" class=\"dataframe\">\n",
              "  <thead>\n",
              "    <tr style=\"text-align: right;\">\n",
              "      <th></th>\n",
              "      <th>Name</th>\n",
              "      <th>Location</th>\n",
              "      <th>Year</th>\n",
              "      <th>Kilometers_Driven</th>\n",
              "      <th>Fuel_Type</th>\n",
              "      <th>Transmission</th>\n",
              "      <th>Owner_Type</th>\n",
              "      <th>Mileage</th>\n",
              "      <th>Engine</th>\n",
              "      <th>Power</th>\n",
              "      <th>Seats</th>\n",
              "      <th>New_Price</th>\n",
              "      <th>Price</th>\n",
              "      <th>Make</th>\n",
              "    </tr>\n",
              "  </thead>\n",
              "  <tbody>\n",
              "    <tr>\n",
              "      <th>480</th>\n",
              "      <td>Land Rover Range Rover Evoque 2.0 TD4 Pure</td>\n",
              "      <td>Delhi</td>\n",
              "      <td>2015</td>\n",
              "      <td>24000</td>\n",
              "      <td>Diesel</td>\n",
              "      <td>Automatic</td>\n",
              "      <td>Second</td>\n",
              "      <td>15.68</td>\n",
              "      <td>1999.0</td>\n",
              "      <td>177.00</td>\n",
              "      <td>5.0</td>\n",
              "      <td>120.00</td>\n",
              "      <td>33.50</td>\n",
              "      <td>Land</td>\n",
              "    </tr>\n",
              "    <tr>\n",
              "      <th>1505</th>\n",
              "      <td>Land Rover Range Rover Sport SE</td>\n",
              "      <td>Kochi</td>\n",
              "      <td>2019</td>\n",
              "      <td>26013</td>\n",
              "      <td>Diesel</td>\n",
              "      <td>Automatic</td>\n",
              "      <td>First</td>\n",
              "      <td>12.65</td>\n",
              "      <td>2993.0</td>\n",
              "      <td>255.00</td>\n",
              "      <td>5.0</td>\n",
              "      <td>139.00</td>\n",
              "      <td>97.07</td>\n",
              "      <td>Land</td>\n",
              "    </tr>\n",
              "    <tr>\n",
              "      <th>2139</th>\n",
              "      <td>Land Rover Range Rover Evoque 2.0 TD4 Pure</td>\n",
              "      <td>Kochi</td>\n",
              "      <td>2016</td>\n",
              "      <td>29022</td>\n",
              "      <td>Diesel</td>\n",
              "      <td>Automatic</td>\n",
              "      <td>Second</td>\n",
              "      <td>15.68</td>\n",
              "      <td>1999.0</td>\n",
              "      <td>177.00</td>\n",
              "      <td>5.0</td>\n",
              "      <td>120.00</td>\n",
              "      <td>34.08</td>\n",
              "      <td>Land</td>\n",
              "    </tr>\n",
              "    <tr>\n",
              "      <th>3043</th>\n",
              "      <td>Land Rover Discovery Sport TD4 HSE</td>\n",
              "      <td>Coimbatore</td>\n",
              "      <td>2019</td>\n",
              "      <td>25899</td>\n",
              "      <td>Diesel</td>\n",
              "      <td>Automatic</td>\n",
              "      <td>First</td>\n",
              "      <td>12.63</td>\n",
              "      <td>2179.0</td>\n",
              "      <td>147.50</td>\n",
              "      <td>5.0</td>\n",
              "      <td>120.00</td>\n",
              "      <td>55.70</td>\n",
              "      <td>Land</td>\n",
              "    </tr>\n",
              "    <tr>\n",
              "      <th>4079</th>\n",
              "      <td>Land Rover Range Rover 3.0 Diesel LWB Vogue</td>\n",
              "      <td>Hyderabad</td>\n",
              "      <td>2017</td>\n",
              "      <td>25000</td>\n",
              "      <td>Diesel</td>\n",
              "      <td>Automatic</td>\n",
              "      <td>First</td>\n",
              "      <td>13.33</td>\n",
              "      <td>2993.0</td>\n",
              "      <td>255.00</td>\n",
              "      <td>5.0</td>\n",
              "      <td>230.00</td>\n",
              "      <td>160.00</td>\n",
              "      <td>Land</td>\n",
              "    </tr>\n",
              "    <tr>\n",
              "      <th>4925</th>\n",
              "      <td>Land Rover Discovery Sport TD4 S</td>\n",
              "      <td>Delhi</td>\n",
              "      <td>2017</td>\n",
              "      <td>22000</td>\n",
              "      <td>Diesel</td>\n",
              "      <td>Automatic</td>\n",
              "      <td>First</td>\n",
              "      <td>12.83</td>\n",
              "      <td>2179.0</td>\n",
              "      <td>147.50</td>\n",
              "      <td>5.0</td>\n",
              "      <td>120.00</td>\n",
              "      <td>35.00</td>\n",
              "      <td>Land</td>\n",
              "    </tr>\n",
              "    <tr>\n",
              "      <th>5038</th>\n",
              "      <td>Land Rover Discovery Sport TD4 HSE 7S</td>\n",
              "      <td>Coimbatore</td>\n",
              "      <td>2019</td>\n",
              "      <td>24013</td>\n",
              "      <td>Diesel</td>\n",
              "      <td>Automatic</td>\n",
              "      <td>First</td>\n",
              "      <td>12.81</td>\n",
              "      <td>1999.0</td>\n",
              "      <td>148.31</td>\n",
              "      <td>7.0</td>\n",
              "      <td>69.22</td>\n",
              "      <td>56.14</td>\n",
              "      <td>Land</td>\n",
              "    </tr>\n",
              "    <tr>\n",
              "      <th>5067</th>\n",
              "      <td>Land Rover Discovery Sport SD4 HSE Luxury 7S</td>\n",
              "      <td>Coimbatore</td>\n",
              "      <td>2019</td>\n",
              "      <td>17201</td>\n",
              "      <td>Diesel</td>\n",
              "      <td>Automatic</td>\n",
              "      <td>First</td>\n",
              "      <td>12.51</td>\n",
              "      <td>2179.0</td>\n",
              "      <td>187.70</td>\n",
              "      <td>7.0</td>\n",
              "      <td>120.00</td>\n",
              "      <td>58.91</td>\n",
              "      <td>Land</td>\n",
              "    </tr>\n",
              "  </tbody>\n",
              "</table>\n",
              "</div>\n",
              "      <button class=\"colab-df-convert\" onclick=\"convertToInteractive('df-7c97c3b2-c741-4c4d-b023-fb8cb16eecb4')\"\n",
              "              title=\"Convert this dataframe to an interactive table.\"\n",
              "              style=\"display:none;\">\n",
              "        \n",
              "  <svg xmlns=\"http://www.w3.org/2000/svg\" height=\"24px\"viewBox=\"0 0 24 24\"\n",
              "       width=\"24px\">\n",
              "    <path d=\"M0 0h24v24H0V0z\" fill=\"none\"/>\n",
              "    <path d=\"M18.56 5.44l.94 2.06.94-2.06 2.06-.94-2.06-.94-.94-2.06-.94 2.06-2.06.94zm-11 1L8.5 8.5l.94-2.06 2.06-.94-2.06-.94L8.5 2.5l-.94 2.06-2.06.94zm10 10l.94 2.06.94-2.06 2.06-.94-2.06-.94-.94-2.06-.94 2.06-2.06.94z\"/><path d=\"M17.41 7.96l-1.37-1.37c-.4-.4-.92-.59-1.43-.59-.52 0-1.04.2-1.43.59L10.3 9.45l-7.72 7.72c-.78.78-.78 2.05 0 2.83L4 21.41c.39.39.9.59 1.41.59.51 0 1.02-.2 1.41-.59l7.78-7.78 2.81-2.81c.8-.78.8-2.07 0-2.86zM5.41 20L4 18.59l7.72-7.72 1.47 1.35L5.41 20z\"/>\n",
              "  </svg>\n",
              "      </button>\n",
              "      \n",
              "  <style>\n",
              "    .colab-df-container {\n",
              "      display:flex;\n",
              "      flex-wrap:wrap;\n",
              "      gap: 12px;\n",
              "    }\n",
              "\n",
              "    .colab-df-convert {\n",
              "      background-color: #E8F0FE;\n",
              "      border: none;\n",
              "      border-radius: 50%;\n",
              "      cursor: pointer;\n",
              "      display: none;\n",
              "      fill: #1967D2;\n",
              "      height: 32px;\n",
              "      padding: 0 0 0 0;\n",
              "      width: 32px;\n",
              "    }\n",
              "\n",
              "    .colab-df-convert:hover {\n",
              "      background-color: #E2EBFA;\n",
              "      box-shadow: 0px 1px 2px rgba(60, 64, 67, 0.3), 0px 1px 3px 1px rgba(60, 64, 67, 0.15);\n",
              "      fill: #174EA6;\n",
              "    }\n",
              "\n",
              "    [theme=dark] .colab-df-convert {\n",
              "      background-color: #3B4455;\n",
              "      fill: #D2E3FC;\n",
              "    }\n",
              "\n",
              "    [theme=dark] .colab-df-convert:hover {\n",
              "      background-color: #434B5C;\n",
              "      box-shadow: 0px 1px 3px 1px rgba(0, 0, 0, 0.15);\n",
              "      filter: drop-shadow(0px 1px 2px rgba(0, 0, 0, 0.3));\n",
              "      fill: #FFFFFF;\n",
              "    }\n",
              "  </style>\n",
              "\n",
              "      <script>\n",
              "        const buttonEl =\n",
              "          document.querySelector('#df-7c97c3b2-c741-4c4d-b023-fb8cb16eecb4 button.colab-df-convert');\n",
              "        buttonEl.style.display =\n",
              "          google.colab.kernel.accessAllowed ? 'block' : 'none';\n",
              "\n",
              "        async function convertToInteractive(key) {\n",
              "          const element = document.querySelector('#df-7c97c3b2-c741-4c4d-b023-fb8cb16eecb4');\n",
              "          const dataTable =\n",
              "            await google.colab.kernel.invokeFunction('convertToInteractive',\n",
              "                                                     [key], {});\n",
              "          if (!dataTable) return;\n",
              "\n",
              "          const docLinkHtml = 'Like what you see? Visit the ' +\n",
              "            '<a target=\"_blank\" href=https://colab.research.google.com/notebooks/data_table.ipynb>data table notebook</a>'\n",
              "            + ' to learn more about interactive tables.';\n",
              "          element.innerHTML = '';\n",
              "          dataTable['output_type'] = 'display_data';\n",
              "          await google.colab.output.renderOutput(dataTable, element);\n",
              "          const docLink = document.createElement('div');\n",
              "          docLink.innerHTML = docLinkHtml;\n",
              "          element.appendChild(docLink);\n",
              "        }\n",
              "      </script>\n",
              "    </div>\n",
              "  </div>\n",
              "  "
            ]
          },
          "metadata": {},
          "execution_count": 529
        }
      ]
    },
    {
      "cell_type": "markdown",
      "source": [
        "For the Land Rover that has a price of 160 INR Lakhs, none of the information in the other columns really justifies this high price, which is significantly larger than the other rovers. In the real world, this would warrant investigation. For now, we drop this row for model accuracy."
      ],
      "metadata": {
        "id": "MLVj6Xjjcgw3"
      }
    },
    {
      "cell_type": "code",
      "source": [
        "df6 = df5.drop(4079)"
      ],
      "metadata": {
        "id": "GPquQJLQdJpY"
      },
      "execution_count": 530,
      "outputs": []
    },
    {
      "cell_type": "code",
      "source": [
        "box_hist_plot(df5, 'Year')\n",
        "box_hist_plot(df5, 'Kilometers_Driven')"
      ],
      "metadata": {
        "colab": {
          "base_uri": "https://localhost:8080/",
          "height": 771
        },
        "id": "xqFsWfEUafOV",
        "outputId": "916eb0c5-2094-424e-edc6-ba761cd949e3"
      },
      "execution_count": 573,
      "outputs": [
        {
          "output_type": "display_data",
          "data": {
            "text/plain": [
              "<Figure size 576x432 with 2 Axes>"
            ],
            "image/png": "[encoded data removed]"
          },
          "metadata": {}
        },
        {
          "output_type": "display_data",
          "data": {
            "text/plain": [
              "<Figure size 576x432 with 2 Axes>"
            ],
            "image/png": "[encoded data removed]"
          },
          "metadata": {}
        }
      ]
    },
    {
      "cell_type": "markdown",
      "source": [
        "Year is left-skewed, and Km_Driven is heavily right skewed because of an outlier. Let's explore this further."
      ],
      "metadata": {
        "id": "-qiUDNIaeXoR"
      }
    },
    {
      "cell_type": "code",
      "source": [
        "df6[ df6['Kilometers_Driven'] > 5000000 ]"
      ],
      "metadata": {
        "colab": {
          "base_uri": "https://localhost:8080/",
          "height": 159
        },
        "id": "8EaE7MtrehDx",
        "outputId": "7ed2151a-60e3-48bc-d812-38494a53edf2"
      },
      "execution_count": 532,
      "outputs": [
        {
          "output_type": "execute_result",
          "data": {
            "text/plain": [
              "                           Name Location  Year  Kilometers_Driven Fuel_Type  \\\n",
              "2328  BMW X5 xDrive 30d M Sport  Chennai  2017            6500000    Diesel   \n",
              "\n",
              "     Transmission Owner_Type  Mileage  Engine  Power  Seats  New_Price  Price  \\\n",
              "2328    Automatic      First    15.97  2993.0  258.0    5.0      55.07   65.0   \n",
              "\n",
              "     Make  \n",
              "2328  BMW  "
            ],
            "text/html": [
              "\n",
              "  <div id=\"df-498bc02c-8baa-4ad9-bd51-56da6adc7420\">\n",
              "    <div class=\"colab-df-container\">\n",
              "      <div>\n",
              "<style scoped>\n",
              "    .dataframe tbody tr th:only-of-type {\n",
              "        vertical-align: middle;\n",
              "    }\n",
              "\n",
              "    .dataframe tbody tr th {\n",
              "        vertical-align: top;\n",
              "    }\n",
              "\n",
              "    .dataframe thead th {\n",
              "        text-align: right;\n",
              "    }\n",
              "</style>\n",
              "<table border=\"1\" class=\"dataframe\">\n",
              "  <thead>\n",
              "    <tr style=\"text-align: right;\">\n",
              "      <th></th>\n",
              "      <th>Name</th>\n",
              "      <th>Location</th>\n",
              "      <th>Year</th>\n",
              "      <th>Kilometers_Driven</th>\n",
              "      <th>Fuel_Type</th>\n",
              "      <th>Transmission</th>\n",
              "      <th>Owner_Type</th>\n",
              "      <th>Mileage</th>\n",
              "      <th>Engine</th>\n",
              "      <th>Power</th>\n",
              "      <th>Seats</th>\n",
              "      <th>New_Price</th>\n",
              "      <th>Price</th>\n",
              "      <th>Make</th>\n",
              "    </tr>\n",
              "  </thead>\n",
              "  <tbody>\n",
              "    <tr>\n",
              "      <th>2328</th>\n",
              "      <td>BMW X5 xDrive 30d M Sport</td>\n",
              "      <td>Chennai</td>\n",
              "      <td>2017</td>\n",
              "      <td>6500000</td>\n",
              "      <td>Diesel</td>\n",
              "      <td>Automatic</td>\n",
              "      <td>First</td>\n",
              "      <td>15.97</td>\n",
              "      <td>2993.0</td>\n",
              "      <td>258.0</td>\n",
              "      <td>5.0</td>\n",
              "      <td>55.07</td>\n",
              "      <td>65.0</td>\n",
              "      <td>BMW</td>\n",
              "    </tr>\n",
              "  </tbody>\n",
              "</table>\n",
              "</div>\n",
              "      <button class=\"colab-df-convert\" onclick=\"convertToInteractive('df-498bc02c-8baa-4ad9-bd51-56da6adc7420')\"\n",
              "              title=\"Convert this dataframe to an interactive table.\"\n",
              "              style=\"display:none;\">\n",
              "        \n",
              "  <svg xmlns=\"http://www.w3.org/2000/svg\" height=\"24px\"viewBox=\"0 0 24 24\"\n",
              "       width=\"24px\">\n",
              "    <path d=\"M0 0h24v24H0V0z\" fill=\"none\"/>\n",
              "    <path d=\"M18.56 5.44l.94 2.06.94-2.06 2.06-.94-2.06-.94-.94-2.06-.94 2.06-2.06.94zm-11 1L8.5 8.5l.94-2.06 2.06-.94-2.06-.94L8.5 2.5l-.94 2.06-2.06.94zm10 10l.94 2.06.94-2.06 2.06-.94-2.06-.94-.94-2.06-.94 2.06-2.06.94z\"/><path d=\"M17.41 7.96l-1.37-1.37c-.4-.4-.92-.59-1.43-.59-.52 0-1.04.2-1.43.59L10.3 9.45l-7.72 7.72c-.78.78-.78 2.05 0 2.83L4 21.41c.39.39.9.59 1.41.59.51 0 1.02-.2 1.41-.59l7.78-7.78 2.81-2.81c.8-.78.8-2.07 0-2.86zM5.41 20L4 18.59l7.72-7.72 1.47 1.35L5.41 20z\"/>\n",
              "  </svg>\n",
              "      </button>\n",
              "      \n",
              "  <style>\n",
              "    .colab-df-container {\n",
              "      display:flex;\n",
              "      flex-wrap:wrap;\n",
              "      gap: 12px;\n",
              "    }\n",
              "\n",
              "    .colab-df-convert {\n",
              "      background-color: #E8F0FE;\n",
              "      border: none;\n",
              "      border-radius: 50%;\n",
              "      cursor: pointer;\n",
              "      display: none;\n",
              "      fill: #1967D2;\n",
              "      height: 32px;\n",
              "      padding: 0 0 0 0;\n",
              "      width: 32px;\n",
              "    }\n",
              "\n",
              "    .colab-df-convert:hover {\n",
              "      background-color: #E2EBFA;\n",
              "      box-shadow: 0px 1px 2px rgba(60, 64, 67, 0.3), 0px 1px 3px 1px rgba(60, 64, 67, 0.15);\n",
              "      fill: #174EA6;\n",
              "    }\n",
              "\n",
              "    [theme=dark] .colab-df-convert {\n",
              "      background-color: #3B4455;\n",
              "      fill: #D2E3FC;\n",
              "    }\n",
              "\n",
              "    [theme=dark] .colab-df-convert:hover {\n",
              "      background-color: #434B5C;\n",
              "      box-shadow: 0px 1px 3px 1px rgba(0, 0, 0, 0.15);\n",
              "      filter: drop-shadow(0px 1px 2px rgba(0, 0, 0, 0.3));\n",
              "      fill: #FFFFFF;\n",
              "    }\n",
              "  </style>\n",
              "\n",
              "      <script>\n",
              "        const buttonEl =\n",
              "          document.querySelector('#df-498bc02c-8baa-4ad9-bd51-56da6adc7420 button.colab-df-convert');\n",
              "        buttonEl.style.display =\n",
              "          google.colab.kernel.accessAllowed ? 'block' : 'none';\n",
              "\n",
              "        async function convertToInteractive(key) {\n",
              "          const element = document.querySelector('#df-498bc02c-8baa-4ad9-bd51-56da6adc7420');\n",
              "          const dataTable =\n",
              "            await google.colab.kernel.invokeFunction('convertToInteractive',\n",
              "                                                     [key], {});\n",
              "          if (!dataTable) return;\n",
              "\n",
              "          const docLinkHtml = 'Like what you see? Visit the ' +\n",
              "            '<a target=\"_blank\" href=https://colab.research.google.com/notebooks/data_table.ipynb>data table notebook</a>'\n",
              "            + ' to learn more about interactive tables.';\n",
              "          element.innerHTML = '';\n",
              "          dataTable['output_type'] = 'display_data';\n",
              "          await google.colab.output.renderOutput(dataTable, element);\n",
              "          const docLink = document.createElement('div');\n",
              "          docLink.innerHTML = docLinkHtml;\n",
              "          element.appendChild(docLink);\n",
              "        }\n",
              "      </script>\n",
              "    </div>\n",
              "  </div>\n",
              "  "
            ]
          },
          "metadata": {},
          "execution_count": 532
        }
      ]
    },
    {
      "cell_type": "markdown",
      "source": [
        "A quick Google search reveals that as of 2017, the world record for the longest driven car was 741,065 km, and as of 2019, the record is 4.8 million km, both values of which are still lower than the above car's Km_Driven of 6.5 million km. Perhaps a 0 was added to the number by mistake, but nonetheless, we will drop this row."
      ],
      "metadata": {
        "id": "JjJ47Veoeu8z"
      }
    },
    {
      "cell_type": "code",
      "source": [
        "df6.drop(2328, inplace=True)"
      ],
      "metadata": {
        "id": "UshHNTHQfjmo"
      },
      "execution_count": 533,
      "outputs": []
    },
    {
      "cell_type": "code",
      "source": [
        "box_hist_plot(df6, 'Kilometers_Driven');"
      ],
      "metadata": {
        "colab": {
          "base_uri": "https://localhost:8080/",
          "height": 394
        },
        "id": "47CLL40gvv_B",
        "outputId": "ce58f008-5f97-45d1-9cde-3355b7772b1e"
      },
      "execution_count": 574,
      "outputs": [
        {
          "output_type": "display_data",
          "data": {
            "text/plain": [
              "<Figure size 576x432 with 2 Axes>"
            ],
            "image/png": "[encoded data removed]"
          },
          "metadata": {}
        }
      ]
    },
    {
      "cell_type": "code",
      "source": [
        "sns.countplot(data=df6, x='Fuel_Type'); plt.show()\n",
        "sns.countplot(data=df6, x='Transmission'); plt.show()\n",
        "sns.countplot(data=df6, x='Owner_Type'); plt.show()"
      ],
      "metadata": {
        "colab": {
          "base_uri": "https://localhost:8080/",
          "height": 821
        },
        "id": "1dITxLWXf1UC",
        "outputId": "ca9a90a0-808c-4188-ba3f-85c3d8c6ece5"
      },
      "execution_count": 535,
      "outputs": [
        {
          "output_type": "display_data",
          "data": {
            "text/plain": [
              "<Figure size 432x288 with 1 Axes>"
            ],
            "image/png": "[encoded data removed]"
          },
          "metadata": {}
        },
        {
          "output_type": "display_data",
          "data": {
            "text/plain": [
              "<Figure size 432x288 with 1 Axes>"
            ],
            "image/png": "[encoded data removed]"
          },
          "metadata": {}
        },
        {
          "output_type": "display_data",
          "data": {
            "text/plain": [
              "<Figure size 432x288 with 1 Axes>"
            ],
            "image/png": "[encoded data removed]"
          },
          "metadata": {}
        }
      ]
    },
    {
      "cell_type": "markdown",
      "source": [
        "Diesel and Petrol are the most popular fuel types. Manual is the dominant Transmission. Most cars are being sold by their First owner, and some from their second owner."
      ],
      "metadata": {
        "id": "XCJ3mhbdgjPF"
      }
    },
    {
      "cell_type": "code",
      "source": [
        "plt.figure(figsize=(13,5))\n",
        "sns.countplot(data=df6, x='Location'); plt.show()"
      ],
      "metadata": {
        "colab": {
          "base_uri": "https://localhost:8080/",
          "height": 339
        },
        "id": "FlEk6r9cgVwt",
        "outputId": "69f01199-ed0e-42a4-d7f8-4e2abae64747"
      },
      "execution_count": 536,
      "outputs": [
        {
          "output_type": "display_data",
          "data": {
            "text/plain": [
              "<Figure size 936x360 with 1 Axes>"
            ],
            "image/png": "[encoded data removed]"
          },
          "metadata": {}
        }
      ]
    },
    {
      "cell_type": "markdown",
      "source": [
        "Locations are well spread out for the most part."
      ],
      "metadata": {
        "id": "dH8SIilzoxtD"
      }
    },
    {
      "cell_type": "markdown",
      "source": [
        "## Bivariate Analysis"
      ],
      "metadata": {
        "id": "beIApxFtZ1Cw"
      }
    },
    {
      "cell_type": "code",
      "source": [
        "plt.figure(figsize=(10,8))\n",
        "sns.heatmap(df6.corr(), annot=True, cmap = 'Spectral');"
      ],
      "metadata": {
        "id": "H3lp2mzSrLeD",
        "colab": {
          "base_uri": "https://localhost:8080/",
          "height": 581
        },
        "outputId": "b9b5d0ae-fde5-4ff3-de0b-1ea8a8241c46"
      },
      "execution_count": 537,
      "outputs": [
        {
          "output_type": "display_data",
          "data": {
            "text/plain": [
              "<Figure size 720x576 with 2 Axes>"
            ],
            "image/png": "[encoded data removed]"
          },
          "metadata": {}
        }
      ]
    },
    {
      "cell_type": "markdown",
      "source": [
        "From the correlation heatmap, we see that:\n",
        "\n",
        "- Year and Price have a positive correlation, \n",
        "\n",
        "- Km Driven and Price have a negative correlation,\n",
        "\n",
        "- Price and New_Price have a strong positive correlation. \n",
        "\n",
        "- (Engine, Power, Seats, and both prices) have a strong negative correlation with Mileage  \n",
        "\n",
        "- Engine has a strong correlation with (Power, Seats, and both prices)\n",
        "\n",
        "- Engine and Power strongly positively correlate with both the prices\n",
        "\n",
        "- Strong positive correlation between new and used price.\n",
        "\n",
        "Let's look at some correlations between Used Price and other metrics."
      ],
      "metadata": {
        "id": "neB0EHxit5iO"
      }
    },
    {
      "cell_type": "code",
      "source": [
        "sns.scatterplot(data=df6, x='Power', y='Price'); plt.show()\n",
        "sns.scatterplot(data=df6, x='Engine', y='Price'); plt.show()"
      ],
      "metadata": {
        "colab": {
          "base_uri": "https://localhost:8080/",
          "height": 553
        },
        "id": "jehi35nWqEqQ",
        "outputId": "a3eb56d7-51e8-456a-949f-034661570d74"
      },
      "execution_count": 576,
      "outputs": [
        {
          "output_type": "display_data",
          "data": {
            "text/plain": [
              "<Figure size 432x288 with 1 Axes>"
            ],
            "image/png": "[encoded data removed]"
          },
          "metadata": {}
        },
        {
          "output_type": "display_data",
          "data": {
            "text/plain": [
              "<Figure size 432x288 with 1 Axes>"
            ],
            "image/png": "[encoded data removed]"
          },
          "metadata": {}
        }
      ]
    },
    {
      "cell_type": "code",
      "source": [
        "sns.scatterplot(data=df6, x='New_Price', y='Price', hue='Power'); plt.show()\n",
        "plt.figure(figsize=(9,6));sns.scatterplot(data=df6, x='Kilometers_Driven', y='Price'); plt.show()"
      ],
      "metadata": {
        "colab": {
          "base_uri": "https://localhost:8080/",
          "height": 662
        },
        "id": "9awIS-GuIDxa",
        "outputId": "9eaedb6c-c723-4597-8d6a-7bd9d191be36"
      },
      "execution_count": 577,
      "outputs": [
        {
          "output_type": "display_data",
          "data": {
            "text/plain": [
              "<Figure size 432x288 with 1 Axes>"
            ],
            "image/png": "[encoded data removed]"
          },
          "metadata": {}
        },
        {
          "output_type": "display_data",
          "data": {
            "text/plain": [
              "<Figure size 648x432 with 1 Axes>"
            ],
            "image/png": "[encoded data removed]"
          },
          "metadata": {}
        }
      ]
    },
    {
      "cell_type": "markdown",
      "source": [
        "Categorical Columns vs Used Price:"
      ],
      "metadata": {
        "id": "PvTn14Esqqid"
      }
    },
    {
      "cell_type": "code",
      "source": [
        "sns.boxplot(data=df6, x='Seats', y='Price'); plt.show()\n",
        "sns.boxplot(data=df6, x='Seats', y='Price', showfliers = False); plt.show()"
      ],
      "metadata": {
        "colab": {
          "base_uri": "https://localhost:8080/",
          "height": 553
        },
        "id": "JtdCRT_5qtth",
        "outputId": "fb5a55f7-8984-43bb-a282-baefc3dc240d"
      },
      "execution_count": 539,
      "outputs": [
        {
          "output_type": "display_data",
          "data": {
            "text/plain": [
              "<Figure size 432x288 with 1 Axes>"
            ],
            "image/png": "[encoded data removed]"
          },
          "metadata": {}
        },
        {
          "output_type": "display_data",
          "data": {
            "text/plain": [
              "<Figure size 432x288 with 1 Axes>"
            ],
            "image/png": "[encoded data removed]"
          },
          "metadata": {}
        }
      ]
    },
    {
      "cell_type": "markdown",
      "source": [
        "2 and 4 seater cars have higher ranges of used price. The 2 seater cars also have a higher average price, and 50% of the 2 seater cars are priced between 30 and 70 INR Lakhs. All other cars' prices average to be between 0 and 10 INR Lakhs."
      ],
      "metadata": {
        "id": "yNemhHYsrPg7"
      }
    },
    {
      "cell_type": "code",
      "source": [
        "sns.boxplot(data=df6, x='Transmission', y='Price'); plt.show()\n",
        "sns.boxplot(data=df6, x='Transmission', y='Price', showfliers=False); plt.show()"
      ],
      "metadata": {
        "colab": {
          "base_uri": "https://localhost:8080/",
          "height": 553
        },
        "id": "cCvZ_FDksIKi",
        "outputId": "3e881ca6-883a-4567-99a2-1e39e204999e"
      },
      "execution_count": 540,
      "outputs": [
        {
          "output_type": "display_data",
          "data": {
            "text/plain": [
              "<Figure size 432x288 with 1 Axes>"
            ],
            "image/png": "[encoded data removed]"
          },
          "metadata": {}
        },
        {
          "output_type": "display_data",
          "data": {
            "text/plain": [
              "<Figure size 432x288 with 1 Axes>"
            ],
            "image/png": "[encoded data removed]"
          },
          "metadata": {}
        }
      ]
    },
    {
      "cell_type": "markdown",
      "source": [
        "Clearly, Automatic cars are more expensive than Manual cars. This is especially validating because we know this dataset has more Manual cars than Automatic ones."
      ],
      "metadata": {
        "id": "-thuwSTYsZ3B"
      }
    },
    {
      "cell_type": "code",
      "source": [
        "sns.boxplot(data=df6, x='Owner_Type', y='Price'); plt.show()\n",
        "sns.boxplot(data=df6, x='Owner_Type', y='Price', showfliers = False); plt.show()"
      ],
      "metadata": {
        "colab": {
          "base_uri": "https://localhost:8080/",
          "height": 553
        },
        "id": "OLIbM7MVsS4Q",
        "outputId": "7a80b774-1233-44a3-c42b-73507ed803f6"
      },
      "execution_count": 541,
      "outputs": [
        {
          "output_type": "display_data",
          "data": {
            "text/plain": [
              "<Figure size 432x288 with 1 Axes>"
            ],
            "image/png": "[encoded data removed]"
          },
          "metadata": {}
        },
        {
          "output_type": "display_data",
          "data": {
            "text/plain": [
              "<Figure size 432x288 with 1 Axes>"
            ],
            "image/png": "[encoded data removed]"
          },
          "metadata": {}
        }
      ]
    },
    {
      "cell_type": "markdown",
      "source": [
        "The more owners the car has had, the less value it tends to have."
      ],
      "metadata": {
        "id": "Y6jl74ANsxaH"
      }
    },
    {
      "cell_type": "code",
      "source": [
        "plt.figure(figsize=(12,6))\n",
        "sns.boxplot(data=df6, x='Year', y='Price'); plt.show()\n",
        "plt.figure(figsize=(12,6))\n",
        "sns.boxplot(data=df6, x='Year', y='Price', showfliers = False); plt.show()"
      ],
      "metadata": {
        "colab": {
          "base_uri": "https://localhost:8080/",
          "height": 771
        },
        "id": "xNFHxK-aJRkC",
        "outputId": "d95d5453-4aa6-434d-d4fa-48efe4e5c3dc"
      },
      "execution_count": 583,
      "outputs": [
        {
          "output_type": "display_data",
          "data": {
            "text/plain": [
              "<Figure size 864x432 with 1 Axes>"
            ],
            "image/png": "[encoded data removed]"
          },
          "metadata": {}
        },
        {
          "output_type": "display_data",
          "data": {
            "text/plain": [
              "<Figure size 864x432 with 1 Axes>"
            ],
            "image/png": "[encoded data removed]"
          },
          "metadata": {}
        }
      ]
    },
    {
      "cell_type": "markdown",
      "source": [
        "The newer the car, the higher its resale value; of course, the price converges below 2007. The newer the car, the higher its range of prices as well. The range specially starts to increase after 2009."
      ],
      "metadata": {
        "id": "Kbyb49UyJaj8"
      }
    },
    {
      "cell_type": "code",
      "source": [
        "plt.figure(figsize=(13,5))\n",
        "sns.boxplot(data=df6, x='Location', y='Price'); \n",
        "plt.figure(figsize=(13,5))\n",
        "sns.boxplot(data=df6, x='Location', y='Price', showfliers = False); "
      ],
      "metadata": {
        "colab": {
          "base_uri": "https://localhost:8080/",
          "height": 661
        },
        "id": "34bM4qsFs5Q_",
        "outputId": "4ea34da1-f444-4051-eb15-47cc435c8d54"
      },
      "execution_count": 542,
      "outputs": [
        {
          "output_type": "display_data",
          "data": {
            "text/plain": [
              "<Figure size 936x360 with 1 Axes>"
            ],
            "image/png": "[encoded data removed]"
          },
          "metadata": {}
        },
        {
          "output_type": "display_data",
          "data": {
            "text/plain": [
              "<Figure size 936x360 with 1 Axes>"
            ],
            "image/png": "[encoded data removed]"
          },
          "metadata": {}
        }
      ]
    },
    {
      "cell_type": "markdown",
      "source": [
        "Cars sold in Coimbatore and Bangalore tend to be priced higher than those in other locations."
      ],
      "metadata": {
        "id": "vOSS3bmOtYdp"
      }
    },
    {
      "cell_type": "markdown",
      "source": [
        "###Log Distribution"
      ],
      "metadata": {
        "id": "v4vQ1wqXZv_b"
      }
    },
    {
      "cell_type": "markdown",
      "source": [
        "Since Km_Driven, Price and New_Price were highly skewed, let's plot their log transform"
      ],
      "metadata": {
        "id": "Rh2IhjOdwfrj"
      }
    },
    {
      "cell_type": "code",
      "source": [
        "# getting a better sense of the distribution by taking the log, since there are no negative values of price\n",
        "sns.histplot(np.log(df.Price), bins=20); plt.show()\n",
        "sns.histplot(np.log(df.New_Price), bins=20); plt.show()\n",
        "sns.histplot(np.log(df.Kilometers_Driven), bins=20); plt.show()"
      ],
      "metadata": {
        "id": "IaIEmyFWuDED",
        "colab": {
          "base_uri": "https://localhost:8080/",
          "height": 821
        },
        "outputId": "ea264f98-2a8b-41ea-a02e-777105fa9aa1"
      },
      "execution_count": 543,
      "outputs": [
        {
          "output_type": "display_data",
          "data": {
            "text/plain": [
              "<Figure size 432x288 with 1 Axes>"
            ],
            "image/png": "[encoded data removed]"
          },
          "metadata": {}
        },
        {
          "output_type": "display_data",
          "data": {
            "text/plain": [
              "<Figure size 432x288 with 1 Axes>"
            ],
            "image/png": "[encoded data removed]"
          },
          "metadata": {}
        },
        {
          "output_type": "display_data",
          "data": {
            "text/plain": [
              "<Figure size 432x288 with 1 Axes>"
            ],
            "image/png": "[encoded data removed]"
          },
          "metadata": {}
        }
      ]
    },
    {
      "cell_type": "markdown",
      "source": [
        "Price seems to be normally distributed now, New_Price is still right skewed, but Km_Driven has now clearly become slightly left skewed. We shall convert these into log and delete the original columns. Since there are only two Electric cars in the entire dataset, we will delete the two rows since we don't want Mileage to be NaN, and also because Electric car performance is different than other Fuel Types."
      ],
      "metadata": {
        "id": "xQ5kXuvowqQY"
      }
    },
    {
      "cell_type": "code",
      "source": [
        "ind_electric = df6.loc[:,'Fuel_Type'] == 'Electric'\n",
        "\n",
        "df6.drop(index=df6[ind_electric].index,axis=0, inplace=True)\n",
        "del ind_electric"
      ],
      "metadata": {
        "id": "GJTU041j0zES"
      },
      "execution_count": 544,
      "outputs": []
    },
    {
      "cell_type": "code",
      "source": [
        "log_cols = ['Kilometers_Driven', 'Price', 'New_Price']\n",
        "df7 = df6.copy()\n",
        "\n",
        "for col in log_cols:\n",
        "    df7[col + '_log'] = np.log(df7[col] + 1)\n",
        "\n",
        "# drop original columns\n",
        "df7.drop(log_cols,axis = 1,inplace = True)\n",
        "df7.head()"
      ],
      "metadata": {
        "colab": {
          "base_uri": "https://localhost:8080/",
          "height": 444
        },
        "id": "9_ZWMRjGwlIq",
        "outputId": "b3551657-66fe-48c0-acd2-e879bb215073"
      },
      "execution_count": 545,
      "outputs": [
        {
          "output_type": "execute_result",
          "data": {
            "text/plain": [
              "                               Name    Location  Year Fuel_Type Transmission  \\\n",
              "0            Maruti Wagon R LXI CNG      Mumbai  2010       CNG       Manual   \n",
              "1  Hyundai Creta 1.6 CRDi SX Option        Pune  2015    Diesel       Manual   \n",
              "2                      Honda Jazz V     Chennai  2011    Petrol       Manual   \n",
              "3                 Maruti Ertiga VDI     Chennai  2012    Diesel       Manual   \n",
              "4   Audi A4 New 2.0 TDI Multitronic  Coimbatore  2013    Diesel    Automatic   \n",
              "\n",
              "  Owner_Type  Mileage  Engine   Power  Seats     Make  Kilometers_Driven_log  \\\n",
              "0      First    26.60   998.0   58.16    5.0   Maruti              11.184435   \n",
              "1      First    19.67  1582.0  126.20    5.0  Hyundai              10.621352   \n",
              "2      First    18.20  1199.0   88.70    5.0    Honda              10.736418   \n",
              "3      First    20.77  1248.0   88.76    7.0   Maruti              11.373675   \n",
              "4     Second    15.20  1968.0  140.80    5.0     Audi              10.613271   \n",
              "\n",
              "   Price_log  New_Price_log  \n",
              "0   1.011601       1.873339  \n",
              "1   2.602690       2.836737  \n",
              "2   1.704748       2.262804  \n",
              "3   1.945910       2.507157  \n",
              "4   2.930660       3.991573  "
            ],
            "text/html": [
              "\n",
              "  <div id=\"df-f3082697-10e9-43f8-b761-c72d5f1b0b17\">\n",
              "    <div class=\"colab-df-container\">\n",
              "      <div>\n",
              "<style scoped>\n",
              "    .dataframe tbody tr th:only-of-type {\n",
              "        vertical-align: middle;\n",
              "    }\n",
              "\n",
              "    .dataframe tbody tr th {\n",
              "        vertical-align: top;\n",
              "    }\n",
              "\n",
              "    .dataframe thead th {\n",
              "        text-align: right;\n",
              "    }\n",
              "</style>\n",
              "<table border=\"1\" class=\"dataframe\">\n",
              "  <thead>\n",
              "    <tr style=\"text-align: right;\">\n",
              "      <th></th>\n",
              "      <th>Name</th>\n",
              "      <th>Location</th>\n",
              "      <th>Year</th>\n",
              "      <th>Fuel_Type</th>\n",
              "      <th>Transmission</th>\n",
              "      <th>Owner_Type</th>\n",
              "      <th>Mileage</th>\n",
              "      <th>Engine</th>\n",
              "      <th>Power</th>\n",
              "      <th>Seats</th>\n",
              "      <th>Make</th>\n",
              "      <th>Kilometers_Driven_log</th>\n",
              "      <th>Price_log</th>\n",
              "      <th>New_Price_log</th>\n",
              "    </tr>\n",
              "  </thead>\n",
              "  <tbody>\n",
              "    <tr>\n",
              "      <th>0</th>\n",
              "      <td>Maruti Wagon R LXI CNG</td>\n",
              "      <td>Mumbai</td>\n",
              "      <td>2010</td>\n",
              "      <td>CNG</td>\n",
              "      <td>Manual</td>\n",
              "      <td>First</td>\n",
              "      <td>26.60</td>\n",
              "      <td>998.0</td>\n",
              "      <td>58.16</td>\n",
              "      <td>5.0</td>\n",
              "      <td>Maruti</td>\n",
              "      <td>11.184435</td>\n",
              "      <td>1.011601</td>\n",
              "      <td>1.873339</td>\n",
              "    </tr>\n",
              "    <tr>\n",
              "      <th>1</th>\n",
              "      <td>Hyundai Creta 1.6 CRDi SX Option</td>\n",
              "      <td>Pune</td>\n",
              "      <td>2015</td>\n",
              "      <td>Diesel</td>\n",
              "      <td>Manual</td>\n",
              "      <td>First</td>\n",
              "      <td>19.67</td>\n",
              "      <td>1582.0</td>\n",
              "      <td>126.20</td>\n",
              "      <td>5.0</td>\n",
              "      <td>Hyundai</td>\n",
              "      <td>10.621352</td>\n",
              "      <td>2.602690</td>\n",
              "      <td>2.836737</td>\n",
              "    </tr>\n",
              "    <tr>\n",
              "      <th>2</th>\n",
              "      <td>Honda Jazz V</td>\n",
              "      <td>Chennai</td>\n",
              "      <td>2011</td>\n",
              "      <td>Petrol</td>\n",
              "      <td>Manual</td>\n",
              "      <td>First</td>\n",
              "      <td>18.20</td>\n",
              "      <td>1199.0</td>\n",
              "      <td>88.70</td>\n",
              "      <td>5.0</td>\n",
              "      <td>Honda</td>\n",
              "      <td>10.736418</td>\n",
              "      <td>1.704748</td>\n",
              "      <td>2.262804</td>\n",
              "    </tr>\n",
              "    <tr>\n",
              "      <th>3</th>\n",
              "      <td>Maruti Ertiga VDI</td>\n",
              "      <td>Chennai</td>\n",
              "      <td>2012</td>\n",
              "      <td>Diesel</td>\n",
              "      <td>Manual</td>\n",
              "      <td>First</td>\n",
              "      <td>20.77</td>\n",
              "      <td>1248.0</td>\n",
              "      <td>88.76</td>\n",
              "      <td>7.0</td>\n",
              "      <td>Maruti</td>\n",
              "      <td>11.373675</td>\n",
              "      <td>1.945910</td>\n",
              "      <td>2.507157</td>\n",
              "    </tr>\n",
              "    <tr>\n",
              "      <th>4</th>\n",
              "      <td>Audi A4 New 2.0 TDI Multitronic</td>\n",
              "      <td>Coimbatore</td>\n",
              "      <td>2013</td>\n",
              "      <td>Diesel</td>\n",
              "      <td>Automatic</td>\n",
              "      <td>Second</td>\n",
              "      <td>15.20</td>\n",
              "      <td>1968.0</td>\n",
              "      <td>140.80</td>\n",
              "      <td>5.0</td>\n",
              "      <td>Audi</td>\n",
              "      <td>10.613271</td>\n",
              "      <td>2.930660</td>\n",
              "      <td>3.991573</td>\n",
              "    </tr>\n",
              "  </tbody>\n",
              "</table>\n",
              "</div>\n",
              "      <button class=\"colab-df-convert\" onclick=\"convertToInteractive('df-f3082697-10e9-43f8-b761-c72d5f1b0b17')\"\n",
              "              title=\"Convert this dataframe to an interactive table.\"\n",
              "              style=\"display:none;\">\n",
              "        \n",
              "  <svg xmlns=\"http://www.w3.org/2000/svg\" height=\"24px\"viewBox=\"0 0 24 24\"\n",
              "       width=\"24px\">\n",
              "    <path d=\"M0 0h24v24H0V0z\" fill=\"none\"/>\n",
              "    <path d=\"M18.56 5.44l.94 2.06.94-2.06 2.06-.94-2.06-.94-.94-2.06-.94 2.06-2.06.94zm-11 1L8.5 8.5l.94-2.06 2.06-.94-2.06-.94L8.5 2.5l-.94 2.06-2.06.94zm10 10l.94 2.06.94-2.06 2.06-.94-2.06-.94-.94-2.06-.94 2.06-2.06.94z\"/><path d=\"M17.41 7.96l-1.37-1.37c-.4-.4-.92-.59-1.43-.59-.52 0-1.04.2-1.43.59L10.3 9.45l-7.72 7.72c-.78.78-.78 2.05 0 2.83L4 21.41c.39.39.9.59 1.41.59.51 0 1.02-.2 1.41-.59l7.78-7.78 2.81-2.81c.8-.78.8-2.07 0-2.86zM5.41 20L4 18.59l7.72-7.72 1.47 1.35L5.41 20z\"/>\n",
              "  </svg>\n",
              "      </button>\n",
              "      \n",
              "  <style>\n",
              "    .colab-df-container {\n",
              "      display:flex;\n",
              "      flex-wrap:wrap;\n",
              "      gap: 12px;\n",
              "    }\n",
              "\n",
              "    .colab-df-convert {\n",
              "      background-color: #E8F0FE;\n",
              "      border: none;\n",
              "      border-radius: 50%;\n",
              "      cursor: pointer;\n",
              "      display: none;\n",
              "      fill: #1967D2;\n",
              "      height: 32px;\n",
              "      padding: 0 0 0 0;\n",
              "      width: 32px;\n",
              "    }\n",
              "\n",
              "    .colab-df-convert:hover {\n",
              "      background-color: #E2EBFA;\n",
              "      box-shadow: 0px 1px 2px rgba(60, 64, 67, 0.3), 0px 1px 3px 1px rgba(60, 64, 67, 0.15);\n",
              "      fill: #174EA6;\n",
              "    }\n",
              "\n",
              "    [theme=dark] .colab-df-convert {\n",
              "      background-color: #3B4455;\n",
              "      fill: #D2E3FC;\n",
              "    }\n",
              "\n",
              "    [theme=dark] .colab-df-convert:hover {\n",
              "      background-color: #434B5C;\n",
              "      box-shadow: 0px 1px 3px 1px rgba(0, 0, 0, 0.15);\n",
              "      filter: drop-shadow(0px 1px 2px rgba(0, 0, 0, 0.3));\n",
              "      fill: #FFFFFF;\n",
              "    }\n",
              "  </style>\n",
              "\n",
              "      <script>\n",
              "        const buttonEl =\n",
              "          document.querySelector('#df-f3082697-10e9-43f8-b761-c72d5f1b0b17 button.colab-df-convert');\n",
              "        buttonEl.style.display =\n",
              "          google.colab.kernel.accessAllowed ? 'block' : 'none';\n",
              "\n",
              "        async function convertToInteractive(key) {\n",
              "          const element = document.querySelector('#df-f3082697-10e9-43f8-b761-c72d5f1b0b17');\n",
              "          const dataTable =\n",
              "            await google.colab.kernel.invokeFunction('convertToInteractive',\n",
              "                                                     [key], {});\n",
              "          if (!dataTable) return;\n",
              "\n",
              "          const docLinkHtml = 'Like what you see? Visit the ' +\n",
              "            '<a target=\"_blank\" href=https://colab.research.google.com/notebooks/data_table.ipynb>data table notebook</a>'\n",
              "            + ' to learn more about interactive tables.';\n",
              "          element.innerHTML = '';\n",
              "          dataTable['output_type'] = 'display_data';\n",
              "          await google.colab.output.renderOutput(dataTable, element);\n",
              "          const docLink = document.createElement('div');\n",
              "          docLink.innerHTML = docLinkHtml;\n",
              "          element.appendChild(docLink);\n",
              "        }\n",
              "      </script>\n",
              "    </div>\n",
              "  </div>\n",
              "  "
            ]
          },
          "metadata": {},
          "execution_count": 545
        }
      ]
    },
    {
      "cell_type": "markdown",
      "source": [
        "## Regression Model"
      ],
      "metadata": {
        "id": "i0uWvZjfxhVK"
      }
    },
    {
      "cell_type": "markdown",
      "source": [
        "Delete the Name column"
      ],
      "metadata": {
        "id": "PkWPW9avy4Sx"
      }
    },
    {
      "cell_type": "code",
      "source": [
        "df7.drop(['Name'], axis=1, inplace=True)"
      ],
      "metadata": {
        "id": "-sGe2O9Fy72E"
      },
      "execution_count": 546,
      "outputs": []
    },
    {
      "cell_type": "markdown",
      "source": [
        "Define our independent and dependent variables"
      ],
      "metadata": {
        "id": "vTTnMGggCg9o"
      }
    },
    {
      "cell_type": "code",
      "source": [
        "X = df7.drop(['Price_log'], axis=1)\n",
        "y = df7['Price_log']"
      ],
      "metadata": {
        "id": "RP8GlSYkxZOc"
      },
      "execution_count": 547,
      "outputs": []
    },
    {
      "cell_type": "code",
      "source": [
        "# create dummy variables for categorical columns\n",
        "X = pd.get_dummies(X, columns = X.select_dtypes(include=[\"object\"]).columns.tolist(), drop_first=True,)\n",
        "\n",
        "X.head()"
      ],
      "metadata": {
        "colab": {
          "base_uri": "https://localhost:8080/",
          "height": 287
        },
        "id": "6wEFeZm5zF6s",
        "outputId": "370ccea1-89e1-467d-906a-58eec8f85fe0"
      },
      "execution_count": 548,
      "outputs": [
        {
          "output_type": "execute_result",
          "data": {
            "text/plain": [
              "   Year  Mileage  Engine   Power  Seats  Kilometers_Driven_log  New_Price_log  \\\n",
              "0  2010    26.60   998.0   58.16    5.0              11.184435       1.873339   \n",
              "1  2015    19.67  1582.0  126.20    5.0              10.621352       2.836737   \n",
              "2  2011    18.20  1199.0   88.70    5.0              10.736418       2.262804   \n",
              "3  2012    20.77  1248.0   88.76    7.0              11.373675       2.507157   \n",
              "4  2013    15.20  1968.0  140.80    5.0              10.613271       3.991573   \n",
              "\n",
              "   Location_Bangalore  Location_Chennai  Location_Coimbatore  Location_Delhi  \\\n",
              "0                   0                 0                    0               0   \n",
              "1                   0                 0                    0               0   \n",
              "2                   0                 1                    0               0   \n",
              "3                   0                 1                    0               0   \n",
              "4                   0                 0                    1               0   \n",
              "\n",
              "   Location_Hyderabad  Location_Jaipur  Location_Kochi  Location_Kolkata  \\\n",
              "0                   0                0               0                 0   \n",
              "1                   0                0               0                 0   \n",
              "2                   0                0               0                 0   \n",
              "3                   0                0               0                 0   \n",
              "4                   0                0               0                 0   \n",
              "\n",
              "   Location_Mumbai  Location_Pune  Fuel_Type_Diesel  Fuel_Type_LPG  \\\n",
              "0                1              0                 0              0   \n",
              "1                0              1                 1              0   \n",
              "2                0              0                 0              0   \n",
              "3                0              0                 1              0   \n",
              "4                0              0                 1              0   \n",
              "\n",
              "   Fuel_Type_Petrol  Transmission_Manual  Owner_Type_Fourth & Above  \\\n",
              "0                 0                    1                          0   \n",
              "1                 0                    1                          0   \n",
              "2                 1                    1                          0   \n",
              "3                 0                    1                          0   \n",
              "4                 0                    0                          0   \n",
              "\n",
              "   Owner_Type_Second  Owner_Type_Third  Make_Audi  Make_BMW  Make_Bentley  \\\n",
              "0                  0                 0          0         0             0   \n",
              "1                  0                 0          0         0             0   \n",
              "2                  0                 0          0         0             0   \n",
              "3                  0                 0          0         0             0   \n",
              "4                  1                 0          1         0             0   \n",
              "\n",
              "   Make_Chevrolet  Make_Datsun  Make_Fiat  Make_Force  Make_Ford  Make_Honda  \\\n",
              "0               0            0          0           0          0           0   \n",
              "1               0            0          0           0          0           0   \n",
              "2               0            0          0           0          0           1   \n",
              "3               0            0          0           0          0           0   \n",
              "4               0            0          0           0          0           0   \n",
              "\n",
              "   Make_Hyundai  Make_ISUZU  Make_Isuzu  Make_Jaguar  Make_Jeep  \\\n",
              "0             0           0           0            0          0   \n",
              "1             1           0           0            0          0   \n",
              "2             0           0           0            0          0   \n",
              "3             0           0           0            0          0   \n",
              "4             0           0           0            0          0   \n",
              "\n",
              "   Make_Lamborghini  Make_Land  Make_Mahindra  Make_Maruti  \\\n",
              "0                 0          0              0            1   \n",
              "1                 0          0              0            0   \n",
              "2                 0          0              0            0   \n",
              "3                 0          0              0            1   \n",
              "4                 0          0              0            0   \n",
              "\n",
              "   Make_Mercedes-Benz  Make_Mini  Make_Mitsubishi  Make_Nissan  Make_Porsche  \\\n",
              "0                   0          0                0            0             0   \n",
              "1                   0          0                0            0             0   \n",
              "2                   0          0                0            0             0   \n",
              "3                   0          0                0            0             0   \n",
              "4                   0          0                0            0             0   \n",
              "\n",
              "   Make_Renault  Make_Skoda  Make_Smart  Make_Tata  Make_Toyota  \\\n",
              "0             0           0           0          0            0   \n",
              "1             0           0           0          0            0   \n",
              "2             0           0           0          0            0   \n",
              "3             0           0           0          0            0   \n",
              "4             0           0           0          0            0   \n",
              "\n",
              "   Make_Volkswagen  Make_Volvo  \n",
              "0                0           0  \n",
              "1                0           0  \n",
              "2                0           0  \n",
              "3                0           0  \n",
              "4                0           0  "
            ],
            "text/html": [
              "\n",
              "  <div id=\"df-d6cd1a4c-5b86-4ffb-81e6-20fdb3782a59\">\n",
              "    <div class=\"colab-df-container\">\n",
              "      <div>\n",
              "<style scoped>\n",
              "    .dataframe tbody tr th:only-of-type {\n",
              "        vertical-align: middle;\n",
              "    }\n",
              "\n",
              "    .dataframe tbody tr th {\n",
              "        vertical-align: top;\n",
              "    }\n",
              "\n",
              "    .dataframe thead th {\n",
              "        text-align: right;\n",
              "    }\n",
              "</style>\n",
              "<table border=\"1\" class=\"dataframe\">\n",
              "  <thead>\n",
              "    <tr style=\"text-align: right;\">\n",
              "      <th></th>\n",
              "      <th>Year</th>\n",
              "      <th>Mileage</th>\n",
              "      <th>Engine</th>\n",
              "      <th>Power</th>\n",
              "      <th>Seats</th>\n",
              "      <th>Kilometers_Driven_log</th>\n",
              "      <th>New_Price_log</th>\n",
              "      <th>Location_Bangalore</th>\n",
              "      <th>Location_Chennai</th>\n",
              "      <th>Location_Coimbatore</th>\n",
              "      <th>Location_Delhi</th>\n",
              "      <th>Location_Hyderabad</th>\n",
              "      <th>Location_Jaipur</th>\n",
              "      <th>Location_Kochi</th>\n",
              "      <th>Location_Kolkata</th>\n",
              "      <th>Location_Mumbai</th>\n",
              "      <th>Location_Pune</th>\n",
              "      <th>Fuel_Type_Diesel</th>\n",
              "      <th>Fuel_Type_LPG</th>\n",
              "      <th>Fuel_Type_Petrol</th>\n",
              "      <th>Transmission_Manual</th>\n",
              "      <th>Owner_Type_Fourth &amp; Above</th>\n",
              "      <th>Owner_Type_Second</th>\n",
              "      <th>Owner_Type_Third</th>\n",
              "      <th>Make_Audi</th>\n",
              "      <th>Make_BMW</th>\n",
              "      <th>Make_Bentley</th>\n",
              "      <th>Make_Chevrolet</th>\n",
              "      <th>Make_Datsun</th>\n",
              "      <th>Make_Fiat</th>\n",
              "      <th>Make_Force</th>\n",
              "      <th>Make_Ford</th>\n",
              "      <th>Make_Honda</th>\n",
              "      <th>Make_Hyundai</th>\n",
              "      <th>Make_ISUZU</th>\n",
              "      <th>Make_Isuzu</th>\n",
              "      <th>Make_Jaguar</th>\n",
              "      <th>Make_Jeep</th>\n",
              "      <th>Make_Lamborghini</th>\n",
              "      <th>Make_Land</th>\n",
              "      <th>Make_Mahindra</th>\n",
              "      <th>Make_Maruti</th>\n",
              "      <th>Make_Mercedes-Benz</th>\n",
              "      <th>Make_Mini</th>\n",
              "      <th>Make_Mitsubishi</th>\n",
              "      <th>Make_Nissan</th>\n",
              "      <th>Make_Porsche</th>\n",
              "      <th>Make_Renault</th>\n",
              "      <th>Make_Skoda</th>\n",
              "      <th>Make_Smart</th>\n",
              "      <th>Make_Tata</th>\n",
              "      <th>Make_Toyota</th>\n",
              "      <th>Make_Volkswagen</th>\n",
              "      <th>Make_Volvo</th>\n",
              "    </tr>\n",
              "  </thead>\n",
              "  <tbody>\n",
              "    <tr>\n",
              "      <th>0</th>\n",
              "      <td>2010</td>\n",
              "      <td>26.60</td>\n",
              "      <td>998.0</td>\n",
              "      <td>58.16</td>\n",
              "      <td>5.0</td>\n",
              "      <td>11.184435</td>\n",
              "      <td>1.873339</td>\n",
              "      <td>0</td>\n",
              "      <td>0</td>\n",
              "      <td>0</td>\n",
              "      <td>0</td>\n",
              "      <td>0</td>\n",
              "      <td>0</td>\n",
              "      <td>0</td>\n",
              "      <td>0</td>\n",
              "      <td>1</td>\n",
              "      <td>0</td>\n",
              "      <td>0</td>\n",
              "      <td>0</td>\n",
              "      <td>0</td>\n",
              "      <td>1</td>\n",
              "      <td>0</td>\n",
              "      <td>0</td>\n",
              "      <td>0</td>\n",
              "      <td>0</td>\n",
              "      <td>0</td>\n",
              "      <td>0</td>\n",
              "      <td>0</td>\n",
              "      <td>0</td>\n",
              "      <td>0</td>\n",
              "      <td>0</td>\n",
              "      <td>0</td>\n",
              "      <td>0</td>\n",
              "      <td>0</td>\n",
              "      <td>0</td>\n",
              "      <td>0</td>\n",
              "      <td>0</td>\n",
              "      <td>0</td>\n",
              "      <td>0</td>\n",
              "      <td>0</td>\n",
              "      <td>0</td>\n",
              "      <td>1</td>\n",
              "      <td>0</td>\n",
              "      <td>0</td>\n",
              "      <td>0</td>\n",
              "      <td>0</td>\n",
              "      <td>0</td>\n",
              "      <td>0</td>\n",
              "      <td>0</td>\n",
              "      <td>0</td>\n",
              "      <td>0</td>\n",
              "      <td>0</td>\n",
              "      <td>0</td>\n",
              "      <td>0</td>\n",
              "    </tr>\n",
              "    <tr>\n",
              "      <th>1</th>\n",
              "      <td>2015</td>\n",
              "      <td>19.67</td>\n",
              "      <td>1582.0</td>\n",
              "      <td>126.20</td>\n",
              "      <td>5.0</td>\n",
              "      <td>10.621352</td>\n",
              "      <td>2.836737</td>\n",
              "      <td>0</td>\n",
              "      <td>0</td>\n",
              "      <td>0</td>\n",
              "      <td>0</td>\n",
              "      <td>0</td>\n",
              "      <td>0</td>\n",
              "      <td>0</td>\n",
              "      <td>0</td>\n",
              "      <td>0</td>\n",
              "      <td>1</td>\n",
              "      <td>1</td>\n",
              "      <td>0</td>\n",
              "      <td>0</td>\n",
              "      <td>1</td>\n",
              "      <td>0</td>\n",
              "      <td>0</td>\n",
              "      <td>0</td>\n",
              "      <td>0</td>\n",
              "      <td>0</td>\n",
              "      <td>0</td>\n",
              "      <td>0</td>\n",
              "      <td>0</td>\n",
              "      <td>0</td>\n",
              "      <td>0</td>\n",
              "      <td>0</td>\n",
              "      <td>0</td>\n",
              "      <td>1</td>\n",
              "      <td>0</td>\n",
              "      <td>0</td>\n",
              "      <td>0</td>\n",
              "      <td>0</td>\n",
              "      <td>0</td>\n",
              "      <td>0</td>\n",
              "      <td>0</td>\n",
              "      <td>0</td>\n",
              "      <td>0</td>\n",
              "      <td>0</td>\n",
              "      <td>0</td>\n",
              "      <td>0</td>\n",
              "      <td>0</td>\n",
              "      <td>0</td>\n",
              "      <td>0</td>\n",
              "      <td>0</td>\n",
              "      <td>0</td>\n",
              "      <td>0</td>\n",
              "      <td>0</td>\n",
              "      <td>0</td>\n",
              "    </tr>\n",
              "    <tr>\n",
              "      <th>2</th>\n",
              "      <td>2011</td>\n",
              "      <td>18.20</td>\n",
              "      <td>1199.0</td>\n",
              "      <td>88.70</td>\n",
              "      <td>5.0</td>\n",
              "      <td>10.736418</td>\n",
              "      <td>2.262804</td>\n",
              "      <td>0</td>\n",
              "      <td>1</td>\n",
              "      <td>0</td>\n",
              "      <td>0</td>\n",
              "      <td>0</td>\n",
              "      <td>0</td>\n",
              "      <td>0</td>\n",
              "      <td>0</td>\n",
              "      <td>0</td>\n",
              "      <td>0</td>\n",
              "      <td>0</td>\n",
              "      <td>0</td>\n",
              "      <td>1</td>\n",
              "      <td>1</td>\n",
              "      <td>0</td>\n",
              "      <td>0</td>\n",
              "      <td>0</td>\n",
              "      <td>0</td>\n",
              "      <td>0</td>\n",
              "      <td>0</td>\n",
              "      <td>0</td>\n",
              "      <td>0</td>\n",
              "      <td>0</td>\n",
              "      <td>0</td>\n",
              "      <td>0</td>\n",
              "      <td>1</td>\n",
              "      <td>0</td>\n",
              "      <td>0</td>\n",
              "      <td>0</td>\n",
              "      <td>0</td>\n",
              "      <td>0</td>\n",
              "      <td>0</td>\n",
              "      <td>0</td>\n",
              "      <td>0</td>\n",
              "      <td>0</td>\n",
              "      <td>0</td>\n",
              "      <td>0</td>\n",
              "      <td>0</td>\n",
              "      <td>0</td>\n",
              "      <td>0</td>\n",
              "      <td>0</td>\n",
              "      <td>0</td>\n",
              "      <td>0</td>\n",
              "      <td>0</td>\n",
              "      <td>0</td>\n",
              "      <td>0</td>\n",
              "      <td>0</td>\n",
              "    </tr>\n",
              "    <tr>\n",
              "      <th>3</th>\n",
              "      <td>2012</td>\n",
              "      <td>20.77</td>\n",
              "      <td>1248.0</td>\n",
              "      <td>88.76</td>\n",
              "      <td>7.0</td>\n",
              "      <td>11.373675</td>\n",
              "      <td>2.507157</td>\n",
              "      <td>0</td>\n",
              "      <td>1</td>\n",
              "      <td>0</td>\n",
              "      <td>0</td>\n",
              "      <td>0</td>\n",
              "      <td>0</td>\n",
              "      <td>0</td>\n",
              "      <td>0</td>\n",
              "      <td>0</td>\n",
              "      <td>0</td>\n",
              "      <td>1</td>\n",
              "      <td>0</td>\n",
              "      <td>0</td>\n",
              "      <td>1</td>\n",
              "      <td>0</td>\n",
              "      <td>0</td>\n",
              "      <td>0</td>\n",
              "      <td>0</td>\n",
              "      <td>0</td>\n",
              "      <td>0</td>\n",
              "      <td>0</td>\n",
              "      <td>0</td>\n",
              "      <td>0</td>\n",
              "      <td>0</td>\n",
              "      <td>0</td>\n",
              "      <td>0</td>\n",
              "      <td>0</td>\n",
              "      <td>0</td>\n",
              "      <td>0</td>\n",
              "      <td>0</td>\n",
              "      <td>0</td>\n",
              "      <td>0</td>\n",
              "      <td>0</td>\n",
              "      <td>0</td>\n",
              "      <td>1</td>\n",
              "      <td>0</td>\n",
              "      <td>0</td>\n",
              "      <td>0</td>\n",
              "      <td>0</td>\n",
              "      <td>0</td>\n",
              "      <td>0</td>\n",
              "      <td>0</td>\n",
              "      <td>0</td>\n",
              "      <td>0</td>\n",
              "      <td>0</td>\n",
              "      <td>0</td>\n",
              "      <td>0</td>\n",
              "    </tr>\n",
              "    <tr>\n",
              "      <th>4</th>\n",
              "      <td>2013</td>\n",
              "      <td>15.20</td>\n",
              "      <td>1968.0</td>\n",
              "      <td>140.80</td>\n",
              "      <td>5.0</td>\n",
              "      <td>10.613271</td>\n",
              "      <td>3.991573</td>\n",
              "      <td>0</td>\n",
              "      <td>0</td>\n",
              "      <td>1</td>\n",
              "      <td>0</td>\n",
              "      <td>0</td>\n",
              "      <td>0</td>\n",
              "      <td>0</td>\n",
              "      <td>0</td>\n",
              "      <td>0</td>\n",
              "      <td>0</td>\n",
              "      <td>1</td>\n",
              "      <td>0</td>\n",
              "      <td>0</td>\n",
              "      <td>0</td>\n",
              "      <td>0</td>\n",
              "      <td>1</td>\n",
              "      <td>0</td>\n",
              "      <td>1</td>\n",
              "      <td>0</td>\n",
              "      <td>0</td>\n",
              "      <td>0</td>\n",
              "      <td>0</td>\n",
              "      <td>0</td>\n",
              "      <td>0</td>\n",
              "      <td>0</td>\n",
              "      <td>0</td>\n",
              "      <td>0</td>\n",
              "      <td>0</td>\n",
              "      <td>0</td>\n",
              "      <td>0</td>\n",
              "      <td>0</td>\n",
              "      <td>0</td>\n",
              "      <td>0</td>\n",
              "      <td>0</td>\n",
              "      <td>0</td>\n",
              "      <td>0</td>\n",
              "      <td>0</td>\n",
              "      <td>0</td>\n",
              "      <td>0</td>\n",
              "      <td>0</td>\n",
              "      <td>0</td>\n",
              "      <td>0</td>\n",
              "      <td>0</td>\n",
              "      <td>0</td>\n",
              "      <td>0</td>\n",
              "      <td>0</td>\n",
              "      <td>0</td>\n",
              "    </tr>\n",
              "  </tbody>\n",
              "</table>\n",
              "</div>\n",
              "      <button class=\"colab-df-convert\" onclick=\"convertToInteractive('df-d6cd1a4c-5b86-4ffb-81e6-20fdb3782a59')\"\n",
              "              title=\"Convert this dataframe to an interactive table.\"\n",
              "              style=\"display:none;\">\n",
              "        \n",
              "  <svg xmlns=\"http://www.w3.org/2000/svg\" height=\"24px\"viewBox=\"0 0 24 24\"\n",
              "       width=\"24px\">\n",
              "    <path d=\"M0 0h24v24H0V0z\" fill=\"none\"/>\n",
              "    <path d=\"M18.56 5.44l.94 2.06.94-2.06 2.06-.94-2.06-.94-.94-2.06-.94 2.06-2.06.94zm-11 1L8.5 8.5l.94-2.06 2.06-.94-2.06-.94L8.5 2.5l-.94 2.06-2.06.94zm10 10l.94 2.06.94-2.06 2.06-.94-2.06-.94-.94-2.06-.94 2.06-2.06.94z\"/><path d=\"M17.41 7.96l-1.37-1.37c-.4-.4-.92-.59-1.43-.59-.52 0-1.04.2-1.43.59L10.3 9.45l-7.72 7.72c-.78.78-.78 2.05 0 2.83L4 21.41c.39.39.9.59 1.41.59.51 0 1.02-.2 1.41-.59l7.78-7.78 2.81-2.81c.8-.78.8-2.07 0-2.86zM5.41 20L4 18.59l7.72-7.72 1.47 1.35L5.41 20z\"/>\n",
              "  </svg>\n",
              "      </button>\n",
              "      \n",
              "  <style>\n",
              "    .colab-df-container {\n",
              "      display:flex;\n",
              "      flex-wrap:wrap;\n",
              "      gap: 12px;\n",
              "    }\n",
              "\n",
              "    .colab-df-convert {\n",
              "      background-color: #E8F0FE;\n",
              "      border: none;\n",
              "      border-radius: 50%;\n",
              "      cursor: pointer;\n",
              "      display: none;\n",
              "      fill: #1967D2;\n",
              "      height: 32px;\n",
              "      padding: 0 0 0 0;\n",
              "      width: 32px;\n",
              "    }\n",
              "\n",
              "    .colab-df-convert:hover {\n",
              "      background-color: #E2EBFA;\n",
              "      box-shadow: 0px 1px 2px rgba(60, 64, 67, 0.3), 0px 1px 3px 1px rgba(60, 64, 67, 0.15);\n",
              "      fill: #174EA6;\n",
              "    }\n",
              "\n",
              "    [theme=dark] .colab-df-convert {\n",
              "      background-color: #3B4455;\n",
              "      fill: #D2E3FC;\n",
              "    }\n",
              "\n",
              "    [theme=dark] .colab-df-convert:hover {\n",
              "      background-color: #434B5C;\n",
              "      box-shadow: 0px 1px 3px 1px rgba(0, 0, 0, 0.15);\n",
              "      filter: drop-shadow(0px 1px 2px rgba(0, 0, 0, 0.3));\n",
              "      fill: #FFFFFF;\n",
              "    }\n",
              "  </style>\n",
              "\n",
              "      <script>\n",
              "        const buttonEl =\n",
              "          document.querySelector('#df-d6cd1a4c-5b86-4ffb-81e6-20fdb3782a59 button.colab-df-convert');\n",
              "        buttonEl.style.display =\n",
              "          google.colab.kernel.accessAllowed ? 'block' : 'none';\n",
              "\n",
              "        async function convertToInteractive(key) {\n",
              "          const element = document.querySelector('#df-d6cd1a4c-5b86-4ffb-81e6-20fdb3782a59');\n",
              "          const dataTable =\n",
              "            await google.colab.kernel.invokeFunction('convertToInteractive',\n",
              "                                                     [key], {});\n",
              "          if (!dataTable) return;\n",
              "\n",
              "          const docLinkHtml = 'Like what you see? Visit the ' +\n",
              "            '<a target=\"_blank\" href=https://colab.research.google.com/notebooks/data_table.ipynb>data table notebook</a>'\n",
              "            + ' to learn more about interactive tables.';\n",
              "          element.innerHTML = '';\n",
              "          dataTable['output_type'] = 'display_data';\n",
              "          await google.colab.output.renderOutput(dataTable, element);\n",
              "          const docLink = document.createElement('div');\n",
              "          docLink.innerHTML = docLinkHtml;\n",
              "          element.appendChild(docLink);\n",
              "        }\n",
              "      </script>\n",
              "    </div>\n",
              "  </div>\n",
              "  "
            ]
          },
          "metadata": {},
          "execution_count": 548
        }
      ]
    },
    {
      "cell_type": "code",
      "source": [
        "x_train, x_test, y_train, y_test = train_test_split(X, y, test_size=0.3, random_state=1)\n",
        "print(f\"Number of data points in train dataset = {x_train.shape[0]}\" )\n",
        "print(f\"Number of data points in test dataset = {x_test.shape[0]}\" )"
      ],
      "metadata": {
        "colab": {
          "base_uri": "https://localhost:8080/"
        },
        "id": "3Gq20-koxtSa",
        "outputId": "450e1679-9649-4938-aade-052765dbae8a"
      },
      "execution_count": 549,
      "outputs": [
        {
          "output_type": "stream",
          "name": "stdout",
          "text": [
            "Number of data points in train dataset = 4210\n",
            "Number of data points in test dataset = 1805\n"
          ]
        }
      ]
    },
    {
      "cell_type": "code",
      "source": [
        "regression_model = LinearRegression()\n",
        "regression_model.fit(x_train, y_train)"
      ],
      "metadata": {
        "colab": {
          "base_uri": "https://localhost:8080/"
        },
        "id": "WqGWjojgyrR-",
        "outputId": "88670eac-7830-4f1a-881b-6b529e237070"
      },
      "execution_count": 550,
      "outputs": [
        {
          "output_type": "execute_result",
          "data": {
            "text/plain": [
              "LinearRegression()"
            ]
          },
          "metadata": {},
          "execution_count": 550
        }
      ]
    },
    {
      "cell_type": "code",
      "source": [
        "#Coefficients of each column\n",
        "\n",
        "for i,col in enumerate(x_train.columns):\n",
        "  print(f\"Coefficient of {col} is {regression_model.coef_[i]}\")"
      ],
      "metadata": {
        "colab": {
          "base_uri": "https://localhost:8080/"
        },
        "id": "PlJYK-k3848s",
        "outputId": "01f82839-eac3-4d13-ea9e-42813d31ffd2"
      },
      "execution_count": 551,
      "outputs": [
        {
          "output_type": "stream",
          "name": "stdout",
          "text": [
            "Coefficient of Year is 0.09297318064732772\n",
            "Coefficient of Mileage is -0.012226142880185847\n",
            "Coefficient of Engine is 3.7235506030783294e-05\n",
            "Coefficient of Power is 0.003949214668210729\n",
            "Coefficient of Seats is 0.021189112641586558\n",
            "Coefficient of Kilometers_Driven_log is -0.07260419327403542\n",
            "Coefficient of New_Price_log is 0.3238349512241743\n",
            "Coefficient of Location_Bangalore is 0.13460832321029056\n",
            "Coefficient of Location_Chennai is 0.02929560097950179\n",
            "Coefficient of Location_Coimbatore is 0.10253652357986548\n",
            "Coefficient of Location_Delhi is -0.0646123004383638\n",
            "Coefficient of Location_Hyderabad is 0.0974111498516897\n",
            "Coefficient of Location_Jaipur is -0.021490542921080963\n",
            "Coefficient of Location_Kochi is -0.022194203908997845\n",
            "Coefficient of Location_Kolkata is -0.18396435608127812\n",
            "Coefficient of Location_Mumbai is -0.050959750605183624\n",
            "Coefficient of Location_Pune is -0.02704875351920183\n",
            "Coefficient of Fuel_Type_Diesel is 0.10003949878199798\n",
            "Coefficient of Fuel_Type_LPG is -0.0016408760917158705\n",
            "Coefficient of Fuel_Type_Petrol is -0.11100932964588493\n",
            "Coefficient of Transmission_Manual is -0.08576666129056439\n",
            "Coefficient of Owner_Type_Fourth & Above is -0.05012438995513638\n",
            "Coefficient of Owner_Type_Second is -0.04488291111245203\n",
            "Coefficient of Owner_Type_Third is -0.08346518948183364\n",
            "Coefficient of Make_Audi is 0.02307435929819767\n",
            "Coefficient of Make_BMW is -0.008226822719413801\n",
            "Coefficient of Make_Bentley is -0.44771357296822045\n",
            "Coefficient of Make_Chevrolet is -0.42137722322192583\n",
            "Coefficient of Make_Datsun is -0.4082301366582468\n",
            "Coefficient of Make_Fiat is -0.32362001287702225\n",
            "Coefficient of Make_Force is 0.05951764529162407\n",
            "Coefficient of Make_Ford is -0.21790518744634527\n",
            "Coefficient of Make_Honda is -0.1496656462467208\n",
            "Coefficient of Make_Hyundai is -0.16272012051606766\n",
            "Coefficient of Make_ISUZU is -0.6383214466007674\n",
            "Coefficient of Make_Isuzu is -0.2624471070233788\n",
            "Coefficient of Make_Jaguar is 0.07520585361865895\n",
            "Coefficient of Make_Jeep is -0.10420709030784961\n",
            "Coefficient of Make_Lamborghini is 1.0101643057047631\n",
            "Coefficient of Make_Land is 0.0945633136305623\n",
            "Coefficient of Make_Mahindra is -0.3006063982574927\n",
            "Coefficient of Make_Maruti is -0.0825060739194711\n",
            "Coefficient of Make_Mercedes-Benz is 0.05041374744386354\n",
            "Coefficient of Make_Mini is 0.44469215813907254\n",
            "Coefficient of Make_Mitsubishi is -0.17206123713423965\n",
            "Coefficient of Make_Nissan is -0.2342349018600256\n",
            "Coefficient of Make_Porsche is -0.3239015257130368\n",
            "Coefficient of Make_Renault is -0.23817188001892903\n",
            "Coefficient of Make_Skoda is -0.3002255685313728\n",
            "Coefficient of Make_Smart is -0.057207692621666424\n",
            "Coefficient of Make_Tata is -0.4501889024140299\n",
            "Coefficient of Make_Toyota is -0.06007682227991776\n",
            "Coefficient of Make_Volkswagen is -0.19385978715767346\n",
            "Coefficient of Make_Volvo is -0.07690600966341272\n"
          ]
        }
      ]
    },
    {
      "cell_type": "code",
      "source": [
        "print(f\"Our intercept is {regression_model.intercept_}\")"
      ],
      "metadata": {
        "colab": {
          "base_uri": "https://localhost:8080/"
        },
        "id": "g0H7TaE19ae-",
        "outputId": "e64e227f-5e81-487e-9b5a-7edc94ede553"
      },
      "execution_count": 552,
      "outputs": [
        {
          "output_type": "stream",
          "name": "stdout",
          "text": [
            "Our intercept is -185.4690700200703\n"
          ]
        }
      ]
    },
    {
      "cell_type": "markdown",
      "source": [
        "### Check Model Performance"
      ],
      "metadata": {
        "id": "482ZMLSZ2Gut"
      }
    },
    {
      "cell_type": "code",
      "source": [
        "regression_model.score(x_train,y_train)"
      ],
      "metadata": {
        "colab": {
          "base_uri": "https://localhost:8080/"
        },
        "id": "MsTqHaDp-bs2",
        "outputId": "c33ccf1a-39f6-4056-f1f5-9d3ae4ccc157"
      },
      "execution_count": 553,
      "outputs": [
        {
          "output_type": "execute_result",
          "data": {
            "text/plain": [
              "0.9375965362239768"
            ]
          },
          "metadata": {},
          "execution_count": 553
        }
      ]
    },
    {
      "cell_type": "code",
      "source": [
        "def check_model_perf(regression_model, y, x):\n",
        "  prediction = regression_model.predict(x)\n",
        "\n",
        "  # r2 score\n",
        "  r2 = regression_model.score(x,y)\n",
        "  # adjusted r2 score\n",
        "  n = x.shape[0]\n",
        "  k = x.shape[1]\n",
        "  adj_r2_score = 1 - ((1 - r2) * (n - 1) / (n - k - 1))\n",
        "  # root mean square error\n",
        "  rmse = np.sqrt(mean_squared_error(y, prediction))\n",
        "  # mean absolute error\n",
        "  mae = mean_absolute_error(y, prediction)\n",
        "  # mape\n",
        "  mape = np.mean( abs(y - prediction) / y ) * 100\n",
        "\n",
        "  print(f\"r2 score = {round(r2,3)}\")\n",
        "  print(f\"Adjusted r2 score = {round(adj_r2_score,3)}\")\n",
        "  print(f\"Root Mean Square Error = {round(rmse,3)}\")\n",
        "  print(f\"Mean Absolute Error = {round(mae,3)}\")\n",
        "  print(f\"Mean Absolute Percentage Error = {round(mape,3)}\\n\")\n",
        "\n",
        "print(\"Training Data\")\n",
        "check_model_perf(regression_model, y_train, x_train)\n",
        "print(\"Testing Data\")\n",
        "check_model_perf(regression_model, y_test, x_test)"
      ],
      "metadata": {
        "colab": {
          "base_uri": "https://localhost:8080/"
        },
        "id": "Y8LVv957y0wH",
        "outputId": "aea7074c-9420-4984-b176-67f7d7a3befd"
      },
      "execution_count": 554,
      "outputs": [
        {
          "output_type": "stream",
          "name": "stdout",
          "text": [
            "Training Data\n",
            "r2 score = 0.938\n",
            "Adjusted r2 score = 0.937\n",
            "Root Mean Square Error = 0.187\n",
            "Mean Absolute Error = 0.136\n",
            "Mean Absolute Percentage Error = 7.874\n",
            "\n",
            "Testing Data\n",
            "r2 score = 0.942\n",
            "Adjusted r2 score = 0.94\n",
            "Root Mean Square Error = 0.179\n",
            "Mean Absolute Error = 0.132\n",
            "Mean Absolute Percentage Error = 7.643\n",
            "\n"
          ]
        }
      ]
    },
    {
      "cell_type": "markdown",
      "source": [
        "Observations:\n",
        "\n",
        "- Train and test R^2 are 0.937 and 0.940; they are consistent with each other, which is good. i.e. model explains 93.7% of the training data variation and 94% of the testing data variation. Model does not seem to be overfitting the data. However, we should also recognize that our initial data set is not big enough to train an accurate model for all the data metrics of which it consists. We would need more data to predict, for example, used prices for Bentley, since currently we only have one row of a Bentley car.\n",
        "\n",
        "- Our model is able to predict used prices to an error of within 0.132 (MAE) or within 7.64% (MAPE) of the testing data set."
      ],
      "metadata": {
        "id": "i-8kqmPm50Ja"
      }
    },
    {
      "cell_type": "markdown",
      "source": [
        "Key Takeaways:\n",
        "\n",
        "- Used Price is highly correlated with New_Price\n",
        "- Certain locations have higher priced vehicles\n",
        "- The newer the vehicle, the higher its resale value\n",
        "- The less owners a car has, the higher its resale value tends to be\n",
        "- Automatic cars have a higher resale value than Manual cars\n",
        "- The model can be relied upon to predict used prices in the current Indian vehicle market, but only to an extent. Recommendation would be to get more data points for each column, and more variety for Fuel Types, Makes, etc."
      ],
      "metadata": {
        "id": "Bq3QXSe6JEnI"
      }
    },
    {
      "cell_type": "markdown",
      "source": [
        "Notes:\n",
        "- I have taken some help from the Ratings solution provided in our coursework and used it as a guiding tool.\n",
        "- One thing I could have done to further improve the model would be to impute missing values grouped by year as well, rather than just by the Make of a car. "
      ],
      "metadata": {
        "id": "M6rp7ruLLJFQ"
      }
    }
  ]
}